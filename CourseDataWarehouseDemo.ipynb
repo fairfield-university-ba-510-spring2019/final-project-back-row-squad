{
 "cells": [
  {
   "cell_type": "markdown",
   "metadata": {},
   "source": [
    "## making the datawarehouse "
   ]
  },
  {
   "cell_type": "code",
   "execution_count": 1,
   "metadata": {},
   "outputs": [],
   "source": [
    "import pandas as pd\n",
    "import sqlite3\n",
    "import numpy as np\n",
    "conn = sqlite3.connect('CourseDataWarehouse.db')\n",
    "c = conn.cursor()"
   ]
  },
  {
   "cell_type": "code",
   "execution_count": 2,
   "metadata": {},
   "outputs": [],
   "source": [
    "% load_ext sql"
   ]
  },
  {
   "cell_type": "code",
   "execution_count": 3,
   "metadata": {},
   "outputs": [
    {
     "data": {
      "text/plain": [
       "'Connected: @CourseDataWarehouse.db'"
      ]
     },
     "execution_count": 3,
     "metadata": {},
     "output_type": "execute_result"
    }
   ],
   "source": [
    "%%sql\n",
    "\n",
    "sqlite:///CourseDataWarehouse.db"
   ]
  },
  {
   "cell_type": "code",
   "execution_count": 4,
   "metadata": {},
   "outputs": [
    {
     "name": "stdout",
     "output_type": "stream",
     "text": [
      " * sqlite:///CourseDataWarehouse.db\n",
      "Done.\n",
      "Done.\n",
      "Done.\n",
      "Done.\n",
      "Done.\n",
      "Done.\n",
      "Done.\n",
      "Done.\n"
     ]
    },
    {
     "data": {
      "text/plain": [
       "[]"
      ]
     },
     "execution_count": 4,
     "metadata": {},
     "output_type": "execute_result"
    }
   ],
   "source": [
    "%%sql\n",
    "\n",
    "DROP TABLE IF EXISTS LOCATION_W;\n",
    "\n",
    "CREATE TABLE LOCATION_W(\n",
    "    LID INTEGER PRIMARY KEY,\n",
    "    BUILDING TEXT,\n",
    "    ROOM TEXT\n",
    ");\n",
    "\n",
    "DROP TABLE IF EXISTS FACULTY_W;\n",
    "\n",
    "CREATE TABLE FACULTY_W(\n",
    "    FID INTEGER PRIMARY KEY,\n",
    "    LNAME TEXT,\n",
    "    FNAME TEXT\n",
    ");\n",
    "\n",
    "DROP TABLE IF EXISTS COURSE_W;\n",
    "\n",
    "CREATE TABLE COURSE_W(\n",
    "    CID INTEGER PRIMARY KEY,\n",
    "    CRN TEXT,\n",
    "    CREDITS TEXT,\n",
    "    PREREQS TEXT,\n",
    "    COREQS TEXT,\n",
    "    ATTRIBUTES TEXT,\n",
    "    DESCRIPTION TEXT,\n",
    "    PROGRAM_NAME TEXT,\n",
    "    PROGRAM_CODE TEXT\n",
    ");\n",
    "\n",
    "DROP TABLE IF EXISTS TERM_W;\n",
    "\n",
    "CREATE TABLE TERM_W(\n",
    "    TERMID INTEGER PRIMARY KEY,\n",
    "    SEMESTER TEXT,\n",
    "    YEAR TEXT,\n",
    "    TERM TEXT\n",
    ");\n"
   ]
  },
  {
   "cell_type": "markdown",
   "metadata": {},
   "source": [
    "## populating the dimension tables"
   ]
  },
  {
   "cell_type": "code",
   "execution_count": 5,
   "metadata": {},
   "outputs": [
    {
     "name": "stdout",
     "output_type": "stream",
     "text": [
      " * sqlite:///CourseDataWarehouse.db\n",
      "(sqlite3.OperationalError) no such table: Location [SQL: '--popluting the location dimension table--\\nINSERT INTO LOCATION_W(BUILDING, ROOM)\\nSELECT DISTINCT BUILDING, ROOM \\nFROM Location;'] (Background on this error at: http://sqlalche.me/e/e3q8)\n"
     ]
    }
   ],
   "source": [
    "%%sql\n",
    "\n",
    "--popluting the location dimension table--\n",
    "INSERT INTO LOCATION_W(BUILDING, ROOM)\n",
    "SELECT DISTINCT BUILDING, ROOM \n",
    "FROM Location;"
   ]
  },
  {
   "cell_type": "code",
   "execution_count": 6,
   "metadata": {},
   "outputs": [
    {
     "name": "stdout",
     "output_type": "stream",
     "text": [
      " * sqlite:///CourseDataWarehouse.db\n",
      "Done.\n"
     ]
    },
    {
     "data": {
      "text/html": [
       "<table>\n",
       "    <tr>\n",
       "        <th>LID</th>\n",
       "        <th>BUILDING</th>\n",
       "        <th>ROOM</th>\n",
       "    </tr>\n",
       "</table>"
      ],
      "text/plain": [
       "[]"
      ]
     },
     "execution_count": 6,
     "metadata": {},
     "output_type": "execute_result"
    }
   ],
   "source": [
    "%%sql\n",
    "\n",
    "SELECT * FROM LOCATION_W\n",
    "LIMIT 10;"
   ]
  },
  {
   "cell_type": "code",
   "execution_count": 7,
   "metadata": {},
   "outputs": [
    {
     "name": "stdout",
     "output_type": "stream",
     "text": [
      " * sqlite:///CourseDataWarehouse.db\n",
      "(sqlite3.OperationalError) no such table: FACULTY [SQL: '--populating the faculty_w dimension table--\\nINSERT INTO FACULTY_W(LNAME, FNAME)\\nSELECT DISTINCT LNAME, FNAME\\nFROM FACULTY;'] (Background on this error at: http://sqlalche.me/e/e3q8)\n"
     ]
    }
   ],
   "source": [
    "%%sql\n",
    "\n",
    "--populating the faculty_w dimension table--\n",
    "INSERT INTO FACULTY_W(LNAME, FNAME)\n",
    "SELECT DISTINCT LNAME, FNAME\n",
    "FROM FACULTY;"
   ]
  },
  {
   "cell_type": "code",
   "execution_count": 8,
   "metadata": {},
   "outputs": [
    {
     "name": "stdout",
     "output_type": "stream",
     "text": [
      " * sqlite:///CourseDataWarehouse.db\n",
      "Done.\n"
     ]
    },
    {
     "data": {
      "text/html": [
       "<table>\n",
       "    <tr>\n",
       "        <th>FID</th>\n",
       "        <th>LNAME</th>\n",
       "        <th>FNAME</th>\n",
       "    </tr>\n",
       "</table>"
      ],
      "text/plain": [
       "[]"
      ]
     },
     "execution_count": 8,
     "metadata": {},
     "output_type": "execute_result"
    }
   ],
   "source": [
    "%%sql\n",
    "\n",
    "SELECT * FROM FACULTY_W\n",
    "LIMIT 10;"
   ]
  },
  {
   "cell_type": "code",
   "execution_count": 9,
   "metadata": {},
   "outputs": [
    {
     "name": "stdout",
     "output_type": "stream",
     "text": [
      " * sqlite:///CourseDataWarehouse.db\n",
      "(sqlite3.OperationalError) no such table: COURSE [SQL: '--populating course_w dimension table\\nINSERT INTO COURSE_W(CRN,CREDITS,PREREQS, COREQS,ATTRIBUTES,DESCRIPTION,PROGRAM_NAME,PROGRAM_CODE)\\nSELECT DISTINCT CRN, CREDITS,PREREQS, COREQS,ATTRIBUTES,DESCRIPTION,PROGRAMNAME,PROGRAMCODE\\nFROM COURSE\\n    LEFT JOIN PROGRAMS USING (PID)\\n    LEFT JOIN COURSE_OFFERING USING (CID);'] (Background on this error at: http://sqlalche.me/e/e3q8)\n"
     ]
    }
   ],
   "source": [
    "%%sql\n",
    "\n",
    "--populating course_w dimension table\n",
    "INSERT INTO COURSE_W(CRN,CREDITS,PREREQS, COREQS,ATTRIBUTES,DESCRIPTION,PROGRAM_NAME,PROGRAM_CODE)\n",
    "SELECT DISTINCT CRN, CREDITS,PREREQS, COREQS,ATTRIBUTES,DESCRIPTION,PROGRAMNAME,PROGRAMCODE\n",
    "FROM COURSE\n",
    "    LEFT JOIN PROGRAMS USING (PID)\n",
    "    LEFT JOIN COURSE_OFFERING USING (CID);\n",
    "    \n"
   ]
  },
  {
   "cell_type": "code",
   "execution_count": 10,
   "metadata": {},
   "outputs": [
    {
     "name": "stdout",
     "output_type": "stream",
     "text": [
      " * sqlite:///CourseDataWarehouse.db\n",
      "Done.\n"
     ]
    },
    {
     "data": {
      "text/html": [
       "<table>\n",
       "    <tr>\n",
       "        <th>CID</th>\n",
       "        <th>CRN</th>\n",
       "        <th>CREDITS</th>\n",
       "        <th>PREREQS</th>\n",
       "        <th>COREQS</th>\n",
       "        <th>ATTRIBUTES</th>\n",
       "        <th>DESCRIPTION</th>\n",
       "        <th>PROGRAM_NAME</th>\n",
       "        <th>PROGRAM_CODE</th>\n",
       "    </tr>\n",
       "</table>"
      ],
      "text/plain": [
       "[]"
      ]
     },
     "execution_count": 10,
     "metadata": {},
     "output_type": "execute_result"
    }
   ],
   "source": [
    "%%sql\n",
    "\n",
    "SELECT * FROM COURSE_W LIMIT 10;"
   ]
  },
  {
   "cell_type": "code",
   "execution_count": 11,
   "metadata": {},
   "outputs": [
    {
     "name": "stdout",
     "output_type": "stream",
     "text": [
      " * sqlite:///CourseDataWarehouse.db\n",
      "(sqlite3.OperationalError) no such table: COURSE_OFFERING [SQL: '--populating the term_w table--\\nINSERT INTO TERM_W(SEMESTER, YEAR, TERM)\\nSELECT DISTINCT SEMESTER, YEAR, TERM\\nFROM COURSE_OFFERING;'] (Background on this error at: http://sqlalche.me/e/e3q8)\n"
     ]
    }
   ],
   "source": [
    "%%sql\n",
    "\n",
    "--populating the term_w table--\n",
    "INSERT INTO TERM_W(SEMESTER, YEAR, TERM)\n",
    "SELECT DISTINCT SEMESTER, YEAR, TERM\n",
    "FROM COURSE_OFFERING;"
   ]
  },
  {
   "cell_type": "code",
   "execution_count": 12,
   "metadata": {},
   "outputs": [
    {
     "name": "stdout",
     "output_type": "stream",
     "text": [
      " * sqlite:///CourseDataWarehouse.db\n",
      "Done.\n"
     ]
    },
    {
     "data": {
      "text/html": [
       "<table>\n",
       "    <tr>\n",
       "        <th>TERMID</th>\n",
       "        <th>SEMESTER</th>\n",
       "        <th>YEAR</th>\n",
       "        <th>TERM</th>\n",
       "    </tr>\n",
       "</table>"
      ],
      "text/plain": [
       "[]"
      ]
     },
     "execution_count": 12,
     "metadata": {},
     "output_type": "execute_result"
    }
   ],
   "source": [
    "%%sql\n",
    "\n",
    "SELECT * FROM TERM_W LIMIT 10;"
   ]
  },
  {
   "cell_type": "markdown",
   "metadata": {},
   "source": [
    "## creating the fact table."
   ]
  },
  {
   "cell_type": "code",
   "execution_count": 13,
   "metadata": {},
   "outputs": [
    {
     "name": "stdout",
     "output_type": "stream",
     "text": [
      " * sqlite:///CourseDataWarehouse.db\n",
      "Done.\n",
      "Done.\n"
     ]
    },
    {
     "data": {
      "text/plain": [
       "[]"
      ]
     },
     "execution_count": 13,
     "metadata": {},
     "output_type": "execute_result"
    }
   ],
   "source": [
    "%%sql\n",
    "\n",
    "DROP TABLE IF EXISTS COURSE_OFFERING_W;\n",
    "\n",
    "CREATE TABLE COURSE_OFFERING_W(\n",
    "    COID INTEGER PRIMARY KEY,\n",
    "    ACT INTEGER,\n",
    "    CAP INTEGER, \n",
    "    REM INTEGER,\n",
    "    AVG_CAP INTEGER,\n",
    "    MAX_CAP INTEGER,\n",
    "    AVG_CLASS_BUILDING INTERGER,\n",
    "    NUM_ROOM_BUILDING INTERGER,\n",
    "    TERMID INTEGER,\n",
    "    CID INTEGER,\n",
    "    LID INTEGER,\n",
    "    FID INTEGER,\n",
    "    FOREIGN KEY (TERMID) REFERENCES TERM_W (TERMID),\n",
    "    FOREIGN KEY (CID) REFERENCES COURSE_W (CID),\n",
    "    FOREIGN KEY (LID) REFERENCES LOCATION_W (LID),\n",
    "    FOREIGN KEY (FID) REFERENCES FACULTY_W (FID)\n",
    ");"
   ]
  },
  {
   "cell_type": "code",
   "execution_count": 14,
   "metadata": {},
   "outputs": [
    {
     "name": "stdout",
     "output_type": "stream",
     "text": [
      " * sqlite:///CourseDataWarehouse.db\n",
      "(sqlite3.OperationalError) no such table: COURSE_OFFERING [SQL: '--populating the course_offering_w table\\nINSERT INTO COURSE_OFFERING_W (ACT, CAP, REM, FID, LID, TERMID, CID)\\nSELECT DISTINCT ACT, CAP, REM, FID, LID,TERMID, CID\\nFROM COURSE_OFFERING\\n    LEFT JOIN FACULTY_W USING (FID)\\n    LEFT JOIN CLASS_MEETINGS USING (COID)\\n    LEFT JOIN LOCATION USING (LID)\\n    JOIN TERM_W USING (SEMESTER)\\n    JOIN COURSE_W USING (CID)\\n;'] (Background on this error at: http://sqlalche.me/e/e3q8)\n"
     ]
    }
   ],
   "source": [
    "%%sql\n",
    "\n",
    "--populating the course_offering_w table\n",
    "INSERT INTO COURSE_OFFERING_W (ACT, CAP, REM, FID, LID, TERMID, CID)\n",
    "SELECT DISTINCT ACT, CAP, REM, FID, LID,TERMID, CID\n",
    "FROM COURSE_OFFERING\n",
    "    LEFT JOIN FACULTY_W USING (FID)\n",
    "    LEFT JOIN CLASS_MEETINGS USING (COID)\n",
    "    LEFT JOIN LOCATION USING (LID)\n",
    "    JOIN TERM_W USING (SEMESTER)\n",
    "    JOIN COURSE_W USING (CID)\n",
    ";"
   ]
  },
  {
   "cell_type": "code",
   "execution_count": 15,
   "metadata": {},
   "outputs": [
    {
     "name": "stdout",
     "output_type": "stream",
     "text": [
      " * sqlite:///CourseDataWarehouse.db\n",
      "Done.\n"
     ]
    },
    {
     "data": {
      "text/html": [
       "<table>\n",
       "    <tr>\n",
       "        <th>COID</th>\n",
       "        <th>ACT</th>\n",
       "        <th>CAP</th>\n",
       "        <th>REM</th>\n",
       "        <th>AVG_CAP</th>\n",
       "        <th>MAX_CAP</th>\n",
       "        <th>AVG_CLASS_BUILDING</th>\n",
       "        <th>NUM_ROOM_BUILDING</th>\n",
       "        <th>TERMID</th>\n",
       "        <th>CID</th>\n",
       "        <th>LID</th>\n",
       "        <th>FID</th>\n",
       "    </tr>\n",
       "</table>"
      ],
      "text/plain": [
       "[]"
      ]
     },
     "execution_count": 15,
     "metadata": {},
     "output_type": "execute_result"
    }
   ],
   "source": [
    "%%sql\n",
    "\n",
    "SELECT * FROM COURSE_OFFERING_W LIMIT 10;"
   ]
  },
  {
   "cell_type": "markdown",
   "metadata": {},
   "source": [
    "## dropping unnecessary tables"
   ]
  },
  {
   "cell_type": "code",
   "execution_count": 16,
   "metadata": {},
   "outputs": [
    {
     "name": "stdout",
     "output_type": "stream",
     "text": [
      " * sqlite:///CourseDataWarehouse.db\n",
      "(sqlite3.OperationalError) no such table: COURSE [SQL: 'DROP TABLE COURSE;'] (Background on this error at: http://sqlalche.me/e/e3q8)\n"
     ]
    }
   ],
   "source": [
    "%%sql\n",
    "\n",
    "DROP TABLE COURSE;\n",
    "DROP TABLE PROGRAMS;\n",
    "DROP TABLE COURSE_OFFERING;\n",
    "DROP TABLE CLASS_MEETINGS;\n",
    "DROP TABLE FACULTY;\n",
    "DROP TABLE LOCATION;"
   ]
  },
  {
   "cell_type": "code",
   "execution_count": null,
   "metadata": {},
   "outputs": [],
   "source": []
  }
 ],
 "metadata": {
  "kernelspec": {
   "display_name": "Python 3",
   "language": "python",
   "name": "python3"
  },
  "language_info": {
   "codemirror_mode": {
    "name": "ipython",
    "version": 3
   },
   "file_extension": ".py",
   "mimetype": "text/x-python",
   "name": "python",
   "nbconvert_exporter": "python",
   "pygments_lexer": "ipython3",
   "version": "3.6.5"
  }
 },
 "nbformat": 4,
 "nbformat_minor": 2
}
