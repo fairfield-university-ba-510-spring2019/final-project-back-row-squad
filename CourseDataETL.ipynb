{
 "cells": [
  {
   "cell_type": "markdown",
   "metadata": {},
   "source": [
    "## ETL process\n",
    "\n",
    "In this notebook, we go through the etl process, yada yada yada\n"
   ]
  },
  {
   "cell_type": "markdown",
   "metadata": {},
   "source": [
    "Creating the database based on the ERD tables"
   ]
  },
  {
   "cell_type": "code",
   "execution_count": 1,
   "metadata": {},
   "outputs": [],
   "source": [
    "%load_ext sql"
   ]
  },
  {
   "cell_type": "code",
   "execution_count": 2,
   "metadata": {},
   "outputs": [
    {
     "data": {
      "text/plain": [
       "'Connected: @CourseData.db'"
      ]
     },
     "execution_count": 2,
     "metadata": {},
     "output_type": "execute_result"
    }
   ],
   "source": [
    "%%sql\n",
    "\n",
    "sqlite:///CourseData.db"
   ]
  },
  {
   "cell_type": "markdown",
   "metadata": {},
   "source": [
    "creating the separate tables.\n",
    "\n",
    "Creating Programs Table"
   ]
  },
  {
   "cell_type": "code",
   "execution_count": 3,
   "metadata": {},
   "outputs": [
    {
     "name": "stdout",
     "output_type": "stream",
     "text": [
      " * sqlite:///CourseData.db\n",
      "Done.\n",
      "Done.\n"
     ]
    },
    {
     "data": {
      "text/plain": [
       "[]"
      ]
     },
     "execution_count": 3,
     "metadata": {},
     "output_type": "execute_result"
    }
   ],
   "source": [
    "%%sql\n",
    "DROP TABLE IF EXISTS PROGRAMS;\n",
    "\n",
    "CREATE TABLE PROGRAMS ( \n",
    "    PID INTEGER PRIMARY KEY,\n",
    "    PROGRAMCODE TEXT NOT NULL,\n",
    "    PROGRAMNAME TEXT NOT NULL\n",
    ");\n"
   ]
  },
  {
   "cell_type": "markdown",
   "metadata": {},
   "source": [
    "Creating Faculty Table"
   ]
  },
  {
   "cell_type": "code",
   "execution_count": 4,
   "metadata": {},
   "outputs": [
    {
     "name": "stdout",
     "output_type": "stream",
     "text": [
      " * sqlite:///CourseData.db\n",
      "Done.\n",
      "Done.\n"
     ]
    },
    {
     "data": {
      "text/plain": [
       "[]"
      ]
     },
     "execution_count": 4,
     "metadata": {},
     "output_type": "execute_result"
    }
   ],
   "source": [
    "%%sql\n",
    "DROP TABLE IF EXISTS FACULTY;\n",
    "CREATE TABLE FACULTY ( \n",
    "    FID INTEGER PRIMARY KEY,\n",
    "    LNAME TEXT NOT NULL,\n",
    "    FNAME TEXT NOT NULL\n",
    ");\n"
   ]
  },
  {
   "cell_type": "markdown",
   "metadata": {},
   "source": [
    "Creating the Location Table"
   ]
  },
  {
   "cell_type": "code",
   "execution_count": 5,
   "metadata": {},
   "outputs": [
    {
     "name": "stdout",
     "output_type": "stream",
     "text": [
      " * sqlite:///CourseData.db\n",
      "Done.\n",
      "Done.\n"
     ]
    },
    {
     "data": {
      "text/plain": [
       "[]"
      ]
     },
     "execution_count": 5,
     "metadata": {},
     "output_type": "execute_result"
    }
   ],
   "source": [
    "%%sql\n",
    "DROP TABLE IF EXISTS LOCATION;\n",
    "\n",
    "CREATE TABLE LOCATION ( \n",
    "    LID INTEGER PRIMARY KEY,\n",
    "    BUILDING TEXT NOT NULL,\n",
    "    ROOM_NO TEXT NO NULL\n",
    ");\n"
   ]
  },
  {
   "cell_type": "markdown",
   "metadata": {},
   "source": [
    "Creating the Course Table"
   ]
  },
  {
   "cell_type": "code",
   "execution_count": 6,
   "metadata": {},
   "outputs": [
    {
     "name": "stdout",
     "output_type": "stream",
     "text": [
      " * sqlite:///CourseData.db\n",
      "Done.\n",
      "Done.\n"
     ]
    },
    {
     "data": {
      "text/plain": [
       "[]"
      ]
     },
     "execution_count": 6,
     "metadata": {},
     "output_type": "execute_result"
    }
   ],
   "source": [
    "%%sql\n",
    "DROP TABLE IF EXISTS COURSE;\n",
    "CREATE TABLE COURSE ( \n",
    "    CID INTEGER PRIMARY KEY,\n",
    "    PID INTEGER NOT NULL,\n",
    "    EFFECTIVETERM TEXT NOT NULL,\n",
    "    CATALOG_ID TEXT NOT NULL,\n",
    "    COURSE_TITLE TEXT NOT NULL,\n",
    "    CREDITS TEXT NOT NULL,\n",
    "    PREREQS TEXT,\n",
    "    COREQS TEXT,\n",
    "    FEES REAL,\n",
    "    ATTRIBUTES TEXT,\n",
    "    DESCRIPTION TEXT NOT NULL,\n",
    "    FOREIGN KEY (PID) REFERENCES PROGRAMS (PID)\n",
    ");\n",
    "\n"
   ]
  },
  {
   "cell_type": "markdown",
   "metadata": {},
   "source": [
    "Creating teh Course_Offering Table"
   ]
  },
  {
   "cell_type": "code",
   "execution_count": 7,
   "metadata": {},
   "outputs": [
    {
     "name": "stdout",
     "output_type": "stream",
     "text": [
      " * sqlite:///CourseData.db\n",
      "Done.\n",
      "Done.\n"
     ]
    },
    {
     "data": {
      "text/plain": [
       "[]"
      ]
     },
     "execution_count": 7,
     "metadata": {},
     "output_type": "execute_result"
    }
   ],
   "source": [
    "%%sql\n",
    "DROP TABLE IF EXISTS COURSE_OFFERING;\n",
    "CREATE TABLE COURSE_OFFERING ( \n",
    "    COID INTEGER PRIMARY KEY,\n",
    "    CID INTEGER NOT NULL,\n",
    "    FID INTEGER NOT NULL,\n",
    "    CRN TEXT NOT NULL,\n",
    "    SEMESTER TEXT NOT NULL,\n",
    "    YEAR INTEGER NOT NULL,\n",
    "    TITLE TEXT NOT NULL,\n",
    "    MEETINGS TEXT,\n",
    "    TIMECODES TEXT,\n",
    "    SECTION TEXT NOT NULL,\n",
    "    CAP INTEGER NOT NULL,\n",
    "    ACT INTEGER NOT NULL,\n",
    "    REM INTEGER NOT NULL,\n",
    "    FOREIGN KEY (CID) REFERENCES COURSE (CID)\n",
    "    FOREIGN KEY (FID) REFERENCES FACULTY (FID)\n",
    ");\n"
   ]
  },
  {
   "cell_type": "markdown",
   "metadata": {},
   "source": [
    "Creating the Class_Meetings Table"
   ]
  },
  {
   "cell_type": "code",
   "execution_count": 8,
   "metadata": {},
   "outputs": [
    {
     "name": "stdout",
     "output_type": "stream",
     "text": [
      " * sqlite:///CourseData.db\n",
      "Done.\n",
      "Done.\n"
     ]
    },
    {
     "data": {
      "text/plain": [
       "[]"
      ]
     },
     "execution_count": 8,
     "metadata": {},
     "output_type": "execute_result"
    }
   ],
   "source": [
    "%%sql\n",
    "DROP TABLE IF EXISTS CLASS_MEETINGS;\n",
    "CREATE TABLE CLASS_MEETINGS ( \n",
    "    CMID INTEGER PRIMARY KEY,\n",
    "    COID INTEGER NOT NULL,\n",
    "    LID INTEGER NOT NULL,\n",
    "    DAY TEXT,\n",
    "    START TEXT,\n",
    "    END TEXT,\n",
    "    FOREIGN KEY (LID) REFERENCES LOCATION (LID)\n",
    "    FOREIGN KEY (COID) REFERENCES COURSE_OFFERING (COID)\n",
    ");\n"
   ]
  },
  {
   "cell_type": "code",
   "execution_count": null,
   "metadata": {},
   "outputs": [],
   "source": []
  }
 ],
 "metadata": {
  "kernelspec": {
   "display_name": "Python 3",
   "language": "python",
   "name": "python3"
  },
  "language_info": {
   "codemirror_mode": {
    "name": "ipython",
    "version": 3
   },
   "file_extension": ".py",
   "mimetype": "text/x-python",
   "name": "python",
   "nbconvert_exporter": "python",
   "pygments_lexer": "ipython3",
   "version": "3.6.5"
  }
 },
 "nbformat": 4,
 "nbformat_minor": 2
}
