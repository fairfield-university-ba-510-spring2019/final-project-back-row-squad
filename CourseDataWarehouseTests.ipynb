{
 "cells": [
  {
   "cell_type": "code",
   "execution_count": 1,
   "metadata": {},
   "outputs": [],
   "source": [
    "% load_ext sql"
   ]
  },
  {
   "cell_type": "code",
   "execution_count": 2,
   "metadata": {},
   "outputs": [
    {
     "data": {
      "text/plain": [
       "'Connected: @CourseDataWarehouse.db'"
      ]
     },
     "execution_count": 2,
     "metadata": {},
     "output_type": "execute_result"
    }
   ],
   "source": [
    "%%sql\n",
    "sqlite:///CourseDataWarehouse.db"
   ]
  },
  {
   "cell_type": "markdown",
   "metadata": {},
   "source": [
    "--Domain Integrity Queries\n",
    "--(check that each column has sensible data types)"
   ]
  },
  {
   "cell_type": "markdown",
   "metadata": {},
   "source": [
    "--Check to see that Max_Act (the maximum actual number of students in classes) is greater than or equal to Avg_Act (the average actual number of students in classes)"
   ]
  },
  {
   "cell_type": "code",
   "execution_count": 12,
   "metadata": {},
   "outputs": [
    {
     "name": "stdout",
     "output_type": "stream",
     "text": [
      " * sqlite:///CourseDataWarehouse.db\n",
      "Done.\n"
     ]
    },
    {
     "data": {
      "text/html": [
       "<table>\n",
       "    <tr>\n",
       "        <th>MAX_ACT</th>\n",
       "        <th>AVG_ACT</th>\n",
       "        <th>PROGRAM_CODE</th>\n",
       "    </tr>\n",
       "    <tr>\n",
       "        <td>20</td>\n",
       "        <td>17.0</td>\n",
       "        <td>AC</td>\n",
       "    </tr>\n",
       "    <tr>\n",
       "        <td>25</td>\n",
       "        <td>22.9</td>\n",
       "        <td>AE</td>\n",
       "    </tr>\n",
       "    <tr>\n",
       "        <td>25</td>\n",
       "        <td>25.0</td>\n",
       "        <td>AH</td>\n",
       "    </tr>\n",
       "    <tr>\n",
       "        <td>0</td>\n",
       "        <td>1.0</td>\n",
       "        <td>AN</td>\n",
       "    </tr>\n",
       "    <tr>\n",
       "        <td>25</td>\n",
       "        <td>23.0</td>\n",
       "        <td>AR</td>\n",
       "    </tr>\n",
       "    <tr>\n",
       "        <td>20</td>\n",
       "        <td>23.0</td>\n",
       "        <td>AS</td>\n",
       "    </tr>\n",
       "    <tr>\n",
       "        <td>0</td>\n",
       "        <td>1.0</td>\n",
       "        <td>AY</td>\n",
       "    </tr>\n",
       "    <tr>\n",
       "        <td>0</td>\n",
       "        <td>6.0</td>\n",
       "        <td>BB</td>\n",
       "    </tr>\n",
       "    <tr>\n",
       "        <td>15</td>\n",
       "        <td>6.0</td>\n",
       "        <td>BEN</td>\n",
       "    </tr>\n",
       "    <tr>\n",
       "        <td>30</td>\n",
       "        <td>28.916666666666668</td>\n",
       "        <td>BI</td>\n",
       "    </tr>\n",
       "</table>"
      ],
      "text/plain": [
       "[(20, 17.0, 'AC'),\n",
       " (25, 22.9, 'AE'),\n",
       " (25, 25.0, 'AH'),\n",
       " (0, 1.0, 'AN'),\n",
       " (25, 23.0, 'AR'),\n",
       " (20, 23.0, 'AS'),\n",
       " (0, 1.0, 'AY'),\n",
       " (0, 6.0, 'BB'),\n",
       " (15, 6.0, 'BEN'),\n",
       " (30, 28.916666666666668, 'BI')]"
      ]
     },
     "execution_count": 12,
     "metadata": {},
     "output_type": "execute_result"
    }
   ],
   "source": [
    "%%sql\n",
    "SELECT Max_Act,Avg_Act,Program_Code\n",
    "FROM CLASS_FACTS_W\n",
    "    JOIN COURSE_W USING (CID)\n",
    "    GROUP BY Program_Code\n",
    "    LIMIT 10;"
   ]
  },
  {
   "cell_type": "markdown",
   "metadata": {},
   "source": [
    "--Check to see that see that faculty comes up as teaching in their departments classes"
   ]
  },
  {
   "cell_type": "code",
   "execution_count": 30,
   "metadata": {},
   "outputs": [
    {
     "name": "stdout",
     "output_type": "stream",
     "text": [
      " * sqlite:///CourseDataWarehouse.db\n",
      "Done.\n"
     ]
    },
    {
     "data": {
      "text/html": [
       "<table>\n",
       "    <tr>\n",
       "        <th>LNAME</th>\n",
       "        <th>FNAME</th>\n",
       "        <th>PROGRAM_NAME</th>\n",
       "    </tr>\n",
       "    <tr>\n",
       "        <td>Hartwell</td>\n",
       "        <td>Erica E.</td>\n",
       "        <td>Accounting</td>\n",
       "    </tr>\n",
       "    <tr>\n",
       "        <td> Govindaraja</td>\n",
       "        <td>Bama</td>\n",
       "        <td>American Studies</td>\n",
       "    </tr>\n",
       "    <tr>\n",
       "        <td>Alphonso</td>\n",
       "        <td>Gwendoline M.</td>\n",
       "        <td>Anthropology</td>\n",
       "    </tr>\n",
       "    <tr>\n",
       "        <td>Schwab</td>\n",
       "        <td>Katherine A.</td>\n",
       "        <td>Applied Ethics</td>\n",
       "    </tr>\n",
       "    <tr>\n",
       "        <td>Weinstein</td>\n",
       "        <td>Aaron Quinn</td>\n",
       "        <td>Arabic</td>\n",
       "    </tr>\n",
       "    <tr>\n",
       "        <td>Lawrence</td>\n",
       "        <td>Anna M.</td>\n",
       "        <td>Art History</td>\n",
       "    </tr>\n",
       "    <tr>\n",
       "        <td>Johnson</td>\n",
       "        <td>Jerelyn M.</td>\n",
       "        <td>Asian Studies</td>\n",
       "    </tr>\n",
       "    <tr>\n",
       "        <td>Campos</td>\n",
       "        <td>Javier F.</td>\n",
       "        <td>Bioengineering</td>\n",
       "    </tr>\n",
       "    <tr>\n",
       "        <td>Burke</td>\n",
       "        <td>Gregory Patrick</td>\n",
       "        <td>Biology</td>\n",
       "    </tr>\n",
       "    <tr>\n",
       "        <td>D&#x27;Agostin</td>\n",
       "        <td>Joseph R.</td>\n",
       "        <td>Black Studies</td>\n",
       "    </tr>\n",
       "    <tr>\n",
       "        <td>Conine</td>\n",
       "        <td>Thomas E.</td>\n",
       "        <td>Business</td>\n",
       "    </tr>\n",
       "    <tr>\n",
       "        <td>Crandall</td>\n",
       "        <td>Bryan R.</td>\n",
       "        <td>Chemistry</td>\n",
       "    </tr>\n",
       "    <tr>\n",
       "        <td>Kelly</td>\n",
       "        <td>Virginia A.</td>\n",
       "        <td>Chinese</td>\n",
       "    </tr>\n",
       "    <tr>\n",
       "        <td>Morrison</td>\n",
       "        <td>Stephaney S.</td>\n",
       "        <td>Classical Studies</td>\n",
       "    </tr>\n",
       "    <tr>\n",
       "        <td>Koutmos</td>\n",
       "        <td>Gregory D.</td>\n",
       "        <td>Communication</td>\n",
       "    </tr>\n",
       "    <tr>\n",
       "        <td>John</td>\n",
       "        <td>Lori A.</td>\n",
       "        <td>Computer Engineering</td>\n",
       "    </tr>\n",
       "    <tr>\n",
       "        <td>Campbell</td>\n",
       "        <td>Anne E</td>\n",
       "        <td>Computer Science</td>\n",
       "    </tr>\n",
       "    <tr>\n",
       "        <td> Corcoran</td>\n",
       "        <td>Joseph</td>\n",
       "        <td>Counseling</td>\n",
       "    </tr>\n",
       "    <tr>\n",
       "        <td>Andersen</td>\n",
       "        <td>Catherine J.</td>\n",
       "        <td>Economics</td>\n",
       "    </tr>\n",
       "    <tr>\n",
       "        <td> Byun</td>\n",
       "        <td>Soyong</td>\n",
       "        <td>Education</td>\n",
       "    </tr>\n",
       "    <tr>\n",
       "        <td>Rusu</td>\n",
       "        <td>Amalia I.</td>\n",
       "        <td>Educational Technology</td>\n",
       "    </tr>\n",
       "    <tr>\n",
       "        <td>Zera</td>\n",
       "        <td>David A.</td>\n",
       "        <td>Electrical Engineering</td>\n",
       "    </tr>\n",
       "    <tr>\n",
       "        <td>Haylon</td>\n",
       "        <td>Lisa Suzanne</td>\n",
       "        <td>Electrical and Computer Engineering</td>\n",
       "    </tr>\n",
       "    <tr>\n",
       "        <td> Davis</td>\n",
       "        <td>Carol Ann</td>\n",
       "        <td>Engineering</td>\n",
       "    </tr>\n",
       "    <tr>\n",
       "        <td>Cassidy</td>\n",
       "        <td>Kevin J.</td>\n",
       "        <td>English</td>\n",
       "    </tr>\n",
       "    <tr>\n",
       "        <td>Creane</td>\n",
       "        <td>Michael Walden</td>\n",
       "        <td>English: Writing</td>\n",
       "    </tr>\n",
       "    <tr>\n",
       "        <td> Brooks</td>\n",
       "        <td>Patrick</td>\n",
       "        <td>Environmental Studies</td>\n",
       "    </tr>\n",
       "    <tr>\n",
       "        <td>Stott</td>\n",
       "        <td>Jonathan J.</td>\n",
       "        <td>Family Therapy</td>\n",
       "    </tr>\n",
       "    <tr>\n",
       "        <td>Leatherman</td>\n",
       "        <td>Janie L.</td>\n",
       "        <td>Film, Television, and Media Arts</td>\n",
       "    </tr>\n",
       "    <tr>\n",
       "        <td>Braginsky</td>\n",
       "        <td>Dorothea D.</td>\n",
       "        <td>Finance</td>\n",
       "    </tr>\n",
       "</table>"
      ],
      "text/plain": [
       "[('Hartwell', 'Erica E.', 'Accounting'),\n",
       " (' Govindaraja', 'Bama', 'American Studies'),\n",
       " ('Alphonso', 'Gwendoline M.', 'Anthropology'),\n",
       " ('Schwab', 'Katherine A.', 'Applied Ethics'),\n",
       " ('Weinstein', 'Aaron Quinn', 'Arabic'),\n",
       " ('Lawrence', 'Anna M.', 'Art History'),\n",
       " ('Johnson', 'Jerelyn M.', 'Asian Studies'),\n",
       " ('Campos', 'Javier F.', 'Bioengineering'),\n",
       " ('Burke', 'Gregory Patrick', 'Biology'),\n",
       " (\"D'Agostin\", 'Joseph R.', 'Black Studies'),\n",
       " ('Conine', 'Thomas E.', 'Business'),\n",
       " ('Crandall', 'Bryan R.', 'Chemistry'),\n",
       " ('Kelly', 'Virginia A.', 'Chinese'),\n",
       " ('Morrison', 'Stephaney S.', 'Classical Studies'),\n",
       " ('Koutmos', 'Gregory D.', 'Communication'),\n",
       " ('John', 'Lori A.', 'Computer Engineering'),\n",
       " ('Campbell', 'Anne E', 'Computer Science'),\n",
       " (' Corcoran', 'Joseph', 'Counseling'),\n",
       " ('Andersen', 'Catherine J.', 'Economics'),\n",
       " (' Byun', 'Soyong', 'Education'),\n",
       " ('Rusu', 'Amalia I.', 'Educational Technology'),\n",
       " ('Zera', 'David A.', 'Electrical Engineering'),\n",
       " ('Haylon', 'Lisa Suzanne', 'Electrical and Computer Engineering'),\n",
       " (' Davis', 'Carol Ann', 'Engineering'),\n",
       " ('Cassidy', 'Kevin J.', 'English'),\n",
       " ('Creane', 'Michael Walden', 'English: Writing'),\n",
       " (' Brooks', 'Patrick', 'Environmental Studies'),\n",
       " ('Stott', 'Jonathan J.', 'Family Therapy'),\n",
       " ('Leatherman', 'Janie L.', 'Film, Television, and Media Arts'),\n",
       " ('Braginsky', 'Dorothea D.', 'Finance')]"
      ]
     },
     "execution_count": 30,
     "metadata": {},
     "output_type": "execute_result"
    }
   ],
   "source": [
    "%%sql\n",
    "SELECT LName,FName,Program_Name\n",
    "FROM FACULTY_W\n",
    "    JOIN CLASS_FACTS_W USING(FID)\n",
    "    JOIN COURSE_W USING(CID)\n",
    "GROUP BY Program_Name\n",
    "LIMIT 30\n",
    ";"
   ]
  },
  {
   "cell_type": "markdown",
   "metadata": {},
   "source": [
    "--Note that the above is INCORRECT - not a one of the faculty members listed appears to be associated with the right department...but we are out of time - so we cannot go back and debug this issue! The error gave us a much-needed chuckle though - e.g., Prof. Stott is listed as teaching \"family therapy\" - since he's a priest, there's some irony there!"
   ]
  },
  {
   "cell_type": "markdown",
   "metadata": {},
   "source": [
    "--Entity Integrity Queries\n",
    "--(check that the number of records in each table makes sense)"
   ]
  },
  {
   "cell_type": "code",
   "execution_count": 31,
   "metadata": {},
   "outputs": [
    {
     "name": "stdout",
     "output_type": "stream",
     "text": [
      " * sqlite:///CourseDataWarehouse.db\n",
      "Done.\n"
     ]
    },
    {
     "data": {
      "text/html": [
       "<table>\n",
       "    <tr>\n",
       "        <th>COUNT(LName)</th>\n",
       "        <th>COUNT(FName)</th>\n",
       "    </tr>\n",
       "    <tr>\n",
       "        <td>1096</td>\n",
       "        <td>1096</td>\n",
       "    </tr>\n",
       "</table>"
      ],
      "text/plain": [
       "[(1096, 1096)]"
      ]
     },
     "execution_count": 31,
     "metadata": {},
     "output_type": "execute_result"
    }
   ],
   "source": [
    "%%sql\n",
    "SELECT COUNT(LName), COUNT(FName)\n",
    "FROM FACULTY_W;"
   ]
  },
  {
   "cell_type": "code",
   "execution_count": 32,
   "metadata": {},
   "outputs": [
    {
     "name": "stdout",
     "output_type": "stream",
     "text": [
      " * sqlite:///CourseDataWarehouse.db\n",
      "Done.\n"
     ]
    },
    {
     "data": {
      "text/html": [
       "<table>\n",
       "    <tr>\n",
       "        <th>COUNT(LName)</th>\n",
       "    </tr>\n",
       "    <tr>\n",
       "        <td>1096</td>\n",
       "    </tr>\n",
       "</table>"
      ],
      "text/plain": [
       "[(1096,)]"
      ]
     },
     "execution_count": 32,
     "metadata": {},
     "output_type": "execute_result"
    }
   ],
   "source": [
    "%%sql\n",
    "SELECT DISTINCT COUNT(LName)\n",
    "FROM FACULTY_W;"
   ]
  },
  {
   "cell_type": "code",
   "execution_count": 33,
   "metadata": {},
   "outputs": [
    {
     "name": "stdout",
     "output_type": "stream",
     "text": [
      " * sqlite:///CourseDataWarehouse.db\n",
      "Done.\n"
     ]
    },
    {
     "data": {
      "text/html": [
       "<table>\n",
       "    <tr>\n",
       "        <th>COUNT(crn)</th>\n",
       "    </tr>\n",
       "    <tr>\n",
       "        <td>6069</td>\n",
       "    </tr>\n",
       "</table>"
      ],
      "text/plain": [
       "[(6069,)]"
      ]
     },
     "execution_count": 33,
     "metadata": {},
     "output_type": "execute_result"
    }
   ],
   "source": [
    "%%sql\n",
    "SELECT COUNT(crn)\n",
    "FROM COURSE_W;"
   ]
  },
  {
   "cell_type": "code",
   "execution_count": 35,
   "metadata": {},
   "outputs": [
    {
     "name": "stdout",
     "output_type": "stream",
     "text": [
      " * sqlite:///CourseDataWarehouse.db\n",
      "Done.\n"
     ]
    },
    {
     "data": {
      "text/html": [
       "<table>\n",
       "    <tr>\n",
       "        <th>COUNT(Credits)</th>\n",
       "    </tr>\n",
       "    <tr>\n",
       "        <td>6069</td>\n",
       "    </tr>\n",
       "</table>"
      ],
      "text/plain": [
       "[(6069,)]"
      ]
     },
     "execution_count": 35,
     "metadata": {},
     "output_type": "execute_result"
    }
   ],
   "source": [
    "%%sql\n",
    "SELECT COUNT(Credits)\n",
    "FROM COURSE_W;"
   ]
  },
  {
   "cell_type": "code",
   "execution_count": null,
   "metadata": {},
   "outputs": [],
   "source": [
    "--Houston; we have a problem. There should be 4423 courses in the Course_W table\n",
    "(i.e., the table from the Catalog). Again, there is no time to debug this error!"
   ]
  },
  {
   "cell_type": "code",
   "execution_count": 40,
   "metadata": {},
   "outputs": [
    {
     "name": "stdout",
     "output_type": "stream",
     "text": [
      " * sqlite:///CourseDataWarehouse.db\n",
      "Done.\n"
     ]
    },
    {
     "data": {
      "text/html": [
       "<table>\n",
       "    <tr>\n",
       "        <th>COUNT(Year)</th>\n",
       "    </tr>\n",
       "    <tr>\n",
       "        <td>19</td>\n",
       "    </tr>\n",
       "</table>"
      ],
      "text/plain": [
       "[(19,)]"
      ]
     },
     "execution_count": 40,
     "metadata": {},
     "output_type": "execute_result"
    }
   ],
   "source": [
    "%%sql\n",
    "SELECT COUNT(Year)\n",
    "FROM TERM_W;"
   ]
  },
  {
   "cell_type": "code",
   "execution_count": 41,
   "metadata": {},
   "outputs": [
    {
     "name": "stdout",
     "output_type": "stream",
     "text": [
      " * sqlite:///CourseDataWarehouse.db\n",
      "Done.\n"
     ]
    },
    {
     "data": {
      "text/html": [
       "<table>\n",
       "    <tr>\n",
       "        <th>COUNT(Term)</th>\n",
       "    </tr>\n",
       "    <tr>\n",
       "        <td>19</td>\n",
       "    </tr>\n",
       "</table>"
      ],
      "text/plain": [
       "[(19,)]"
      ]
     },
     "execution_count": 41,
     "metadata": {},
     "output_type": "execute_result"
    }
   ],
   "source": [
    "%%sql\n",
    "SELECT COUNT(Term)\n",
    "FROM TERM_W;"
   ]
  },
  {
   "cell_type": "code",
   "execution_count": 42,
   "metadata": {},
   "outputs": [
    {
     "name": "stdout",
     "output_type": "stream",
     "text": [
      " * sqlite:///CourseDataWarehouse.db\n",
      "Done.\n"
     ]
    },
    {
     "data": {
      "text/html": [
       "<table>\n",
       "    <tr>\n",
       "        <th>COUNT(Building)</th>\n",
       "    </tr>\n",
       "    <tr>\n",
       "        <td>206</td>\n",
       "    </tr>\n",
       "</table>"
      ],
      "text/plain": [
       "[(206,)]"
      ]
     },
     "execution_count": 42,
     "metadata": {},
     "output_type": "execute_result"
    }
   ],
   "source": [
    "%%sql\n",
    "SELECT COUNT(Building)\n",
    "FROM LOCATION_W;"
   ]
  },
  {
   "cell_type": "code",
   "execution_count": 43,
   "metadata": {},
   "outputs": [
    {
     "name": "stdout",
     "output_type": "stream",
     "text": [
      " * sqlite:///CourseDataWarehouse.db\n",
      "Done.\n"
     ]
    },
    {
     "data": {
      "text/html": [
       "<table>\n",
       "    <tr>\n",
       "        <th>COUNT(Room)</th>\n",
       "    </tr>\n",
       "    <tr>\n",
       "        <td>206</td>\n",
       "    </tr>\n",
       "</table>"
      ],
      "text/plain": [
       "[(206,)]"
      ]
     },
     "execution_count": 43,
     "metadata": {},
     "output_type": "execute_result"
    }
   ],
   "source": [
    "%%sql\n",
    "SELECT COUNT(Room)\n",
    "FROM LOCATION_W;"
   ]
  },
  {
   "cell_type": "code",
   "execution_count": 47,
   "metadata": {},
   "outputs": [
    {
     "name": "stdout",
     "output_type": "stream",
     "text": [
      " * sqlite:///CourseDataWarehouse.db\n",
      "Done.\n"
     ]
    },
    {
     "data": {
      "text/html": [
       "<table>\n",
       "    <tr>\n",
       "        <th>COUNT(Cap)</th>\n",
       "    </tr>\n",
       "    <tr>\n",
       "        <td>2040</td>\n",
       "    </tr>\n",
       "</table>"
      ],
      "text/plain": [
       "[(2040,)]"
      ]
     },
     "execution_count": 47,
     "metadata": {},
     "output_type": "execute_result"
    }
   ],
   "source": [
    "%%sql\n",
    "SELECT COUNT(Cap)\n",
    "FROM CLASS_FACTS_W;"
   ]
  },
  {
   "cell_type": "code",
   "execution_count": 45,
   "metadata": {},
   "outputs": [
    {
     "name": "stdout",
     "output_type": "stream",
     "text": [
      " * sqlite:///CourseDataWarehouse.db\n",
      "Done.\n"
     ]
    },
    {
     "data": {
      "text/html": [
       "<table>\n",
       "    <tr>\n",
       "        <th>COUNT(Act)</th>\n",
       "    </tr>\n",
       "    <tr>\n",
       "        <td>2040</td>\n",
       "    </tr>\n",
       "</table>"
      ],
      "text/plain": [
       "[(2040,)]"
      ]
     },
     "execution_count": 45,
     "metadata": {},
     "output_type": "execute_result"
    }
   ],
   "source": [
    "%%sql\n",
    "SELECT COUNT(Act)\n",
    "FROM CLASS_FACTS_W;"
   ]
  },
  {
   "cell_type": "markdown",
   "metadata": {},
   "source": [
    "And here we have another issue - this table should have 15,937 records. Clearly there is another problem we need time to debug."
   ]
  },
  {
   "cell_type": "markdown",
   "metadata": {},
   "source": [
    "--Relational Integrity Queries\n",
    "--(check that the FKs are join compatible w/PKs; make sure mandatory relationships fulfill NOT NULL constraint)"
   ]
  },
  {
   "cell_type": "markdown",
   "metadata": {},
   "source": [
    "--Make sure Accounting courses are taught mainly in DSB"
   ]
  },
  {
   "cell_type": "code",
   "execution_count": 75,
   "metadata": {},
   "outputs": [
    {
     "name": "stdout",
     "output_type": "stream",
     "text": [
      " * sqlite:///CourseDataWarehouse.db\n",
      "Done.\n"
     ]
    },
    {
     "data": {
      "text/html": [
       "<table>\n",
       "    <tr>\n",
       "        <th>PROGRAM_NAME</th>\n",
       "        <th>BUILDING</th>\n",
       "    </tr>\n",
       "    <tr>\n",
       "        <td>Accounting</td>\n",
       "        <td>CNS</td>\n",
       "    </tr>\n",
       "    <tr>\n",
       "        <td>Accounting</td>\n",
       "        <td>DSB</td>\n",
       "    </tr>\n",
       "</table>"
      ],
      "text/plain": [
       "[('Accounting', 'CNS'), ('Accounting', 'DSB')]"
      ]
     },
     "execution_count": 75,
     "metadata": {},
     "output_type": "execute_result"
    }
   ],
   "source": [
    "%%sql\n",
    "SELECT Program_Name,Building\n",
    "FROM COURSE_W\n",
    "    JOIN CLASS_FACTS_W USING(CID)\n",
    "    JOIN LOCATION_W USING(LID)\n",
    "WHERE Program_Name='Accounting'\n",
    "GROUP BY BUILDING\n",
    "LIMIT 20;"
   ]
  },
  {
   "cell_type": "markdown",
   "metadata": {},
   "source": [
    "--Make sure Count of Courses for faculty is about 3-4 per term, which is the typical number in faculty contracts."
   ]
  },
  {
   "cell_type": "code",
   "execution_count": 74,
   "metadata": {},
   "outputs": [
    {
     "name": "stdout",
     "output_type": "stream",
     "text": [
      " * sqlite:///CourseDataWarehouse.db\n",
      "Done.\n"
     ]
    },
    {
     "data": {
      "text/html": [
       "<table>\n",
       "    <tr>\n",
       "        <th>TERM</th>\n",
       "        <th>LNAME</th>\n",
       "        <th>FNAME</th>\n",
       "        <th>COUNT_OF_COURSES</th>\n",
       "    </tr>\n",
       "    <tr>\n",
       "        <td>Fall2014</td>\n",
       "        <td>Leclair</td>\n",
       "        <td>Mark S.</td>\n",
       "        <td>19</td>\n",
       "    </tr>\n",
       "    <tr>\n",
       "        <td>Fall2015</td>\n",
       "        <td>Leclair</td>\n",
       "        <td>Mark S.</td>\n",
       "        <td>19</td>\n",
       "    </tr>\n",
       "    <tr>\n",
       "        <td>Fall2016</td>\n",
       "        <td>Leclair</td>\n",
       "        <td>Mark S.</td>\n",
       "        <td>19</td>\n",
       "    </tr>\n",
       "    <tr>\n",
       "        <td>Fall2017</td>\n",
       "        <td>Leclair</td>\n",
       "        <td>Mark S.</td>\n",
       "        <td>19</td>\n",
       "    </tr>\n",
       "    <tr>\n",
       "        <td>Fall2018</td>\n",
       "        <td>Leclair</td>\n",
       "        <td>Mark S.</td>\n",
       "        <td>19</td>\n",
       "    </tr>\n",
       "    <tr>\n",
       "        <td>Fall2014</td>\n",
       "        <td> Aksan</td>\n",
       "        <td>Anna-Maria</td>\n",
       "        <td>19</td>\n",
       "    </tr>\n",
       "    <tr>\n",
       "        <td>Fall2015</td>\n",
       "        <td> Aksan</td>\n",
       "        <td>Anna-Maria</td>\n",
       "        <td>19</td>\n",
       "    </tr>\n",
       "    <tr>\n",
       "        <td>Fall2016</td>\n",
       "        <td> Aksan</td>\n",
       "        <td>Anna-Maria</td>\n",
       "        <td>19</td>\n",
       "    </tr>\n",
       "    <tr>\n",
       "        <td>Fall2017</td>\n",
       "        <td> Aksan</td>\n",
       "        <td>Anna-Maria</td>\n",
       "        <td>19</td>\n",
       "    </tr>\n",
       "    <tr>\n",
       "        <td>Fall2018</td>\n",
       "        <td> Aksan</td>\n",
       "        <td>Anna-Maria</td>\n",
       "        <td>19</td>\n",
       "    </tr>\n",
       "    <tr>\n",
       "        <td>Fall2014</td>\n",
       "        <td>Martin</td>\n",
       "        <td>Todd P.</td>\n",
       "        <td>19</td>\n",
       "    </tr>\n",
       "    <tr>\n",
       "        <td>Fall2015</td>\n",
       "        <td>Martin</td>\n",
       "        <td>Todd P.</td>\n",
       "        <td>19</td>\n",
       "    </tr>\n",
       "    <tr>\n",
       "        <td>Fall2016</td>\n",
       "        <td>Martin</td>\n",
       "        <td>Todd P.</td>\n",
       "        <td>19</td>\n",
       "    </tr>\n",
       "    <tr>\n",
       "        <td>Fall2017</td>\n",
       "        <td>Martin</td>\n",
       "        <td>Todd P.</td>\n",
       "        <td>19</td>\n",
       "    </tr>\n",
       "    <tr>\n",
       "        <td>Fall2018</td>\n",
       "        <td>Martin</td>\n",
       "        <td>Todd P.</td>\n",
       "        <td>19</td>\n",
       "    </tr>\n",
       "    <tr>\n",
       "        <td>Fall2014</td>\n",
       "        <td> Franceschi</td>\n",
       "        <td>Dina</td>\n",
       "        <td>19</td>\n",
       "    </tr>\n",
       "    <tr>\n",
       "        <td>Fall2015</td>\n",
       "        <td> Franceschi</td>\n",
       "        <td>Dina</td>\n",
       "        <td>19</td>\n",
       "    </tr>\n",
       "    <tr>\n",
       "        <td>Fall2016</td>\n",
       "        <td> Franceschi</td>\n",
       "        <td>Dina</td>\n",
       "        <td>19</td>\n",
       "    </tr>\n",
       "    <tr>\n",
       "        <td>Fall2017</td>\n",
       "        <td> Franceschi</td>\n",
       "        <td>Dina</td>\n",
       "        <td>19</td>\n",
       "    </tr>\n",
       "    <tr>\n",
       "        <td>Fall2018</td>\n",
       "        <td> Franceschi</td>\n",
       "        <td>Dina</td>\n",
       "        <td>19</td>\n",
       "    </tr>\n",
       "</table>"
      ],
      "text/plain": [
       "[('Fall2014', 'Leclair', 'Mark S.', 19),\n",
       " ('Fall2015', 'Leclair', 'Mark S.', 19),\n",
       " ('Fall2016', 'Leclair', 'Mark S.', 19),\n",
       " ('Fall2017', 'Leclair', 'Mark S.', 19),\n",
       " ('Fall2018', 'Leclair', 'Mark S.', 19),\n",
       " ('Fall2014', ' Aksan', 'Anna-Maria', 19),\n",
       " ('Fall2015', ' Aksan', 'Anna-Maria', 19),\n",
       " ('Fall2016', ' Aksan', 'Anna-Maria', 19),\n",
       " ('Fall2017', ' Aksan', 'Anna-Maria', 19),\n",
       " ('Fall2018', ' Aksan', 'Anna-Maria', 19),\n",
       " ('Fall2014', 'Martin', 'Todd P.', 19),\n",
       " ('Fall2015', 'Martin', 'Todd P.', 19),\n",
       " ('Fall2016', 'Martin', 'Todd P.', 19),\n",
       " ('Fall2017', 'Martin', 'Todd P.', 19),\n",
       " ('Fall2018', 'Martin', 'Todd P.', 19),\n",
       " ('Fall2014', ' Franceschi', 'Dina', 19),\n",
       " ('Fall2015', ' Franceschi', 'Dina', 19),\n",
       " ('Fall2016', ' Franceschi', 'Dina', 19),\n",
       " ('Fall2017', ' Franceschi', 'Dina', 19),\n",
       " ('Fall2018', ' Franceschi', 'Dina', 19)]"
      ]
     },
     "execution_count": 74,
     "metadata": {},
     "output_type": "execute_result"
    }
   ],
   "source": [
    "%%sql\n",
    "SELECT DISTINCT Term,LName,FName,Count_of_Courses\n",
    "FROM TERM_W\n",
    "    JOIN CLASS_FACTS_W USING(TermID)\n",
    "    JOIN FACULTY_W USING(FID)\n",
    "LIMIT 20;"
   ]
  },
  {
   "cell_type": "markdown",
   "metadata": {},
   "source": [
    "--And we have another issue - the data clearly are not right! (Todd Martin is a Professor of the Practice and s/b at 4 whereas the others are Tenure-track faculty and s/b at 3...)"
   ]
  },
  {
   "cell_type": "markdown",
   "metadata": {},
   "source": [
    "--Want to see that Dawn W Massey comes up as teaching AC classes"
   ]
  },
  {
   "cell_type": "code",
   "execution_count": 76,
   "metadata": {},
   "outputs": [
    {
     "name": "stdout",
     "output_type": "stream",
     "text": [
      " * sqlite:///CourseDataWarehouse.db\n",
      "Done.\n"
     ]
    },
    {
     "data": {
      "text/html": [
       "<table>\n",
       "    <tr>\n",
       "        <th>LNAME</th>\n",
       "        <th>FNAME</th>\n",
       "        <th>PROGRAM_CODE</th>\n",
       "    </tr>\n",
       "</table>"
      ],
      "text/plain": [
       "[]"
      ]
     },
     "execution_count": 76,
     "metadata": {},
     "output_type": "execute_result"
    }
   ],
   "source": [
    "%%sql\n",
    "SELECT LName,FName,Program_Code\n",
    "FROM FACULTY_W\n",
    "    JOIN CLASS_FACTS_W USING(FID)\n",
    "    JOIN COURSE_W USING(CID)\n",
    "WHERE LName='Massey' and FName='Dawn W'\n",
    ";"
   ]
  },
  {
   "cell_type": "markdown",
   "metadata": {},
   "source": [
    "--Note that the above is NOT correct...We are SURE Dawn W Massey has taught in two programs (i.e., AC and BU)."
   ]
  }
 ],
 "metadata": {
  "kernelspec": {
   "display_name": "Python 3",
   "language": "python",
   "name": "python3"
  },
  "language_info": {
   "codemirror_mode": {
    "name": "ipython",
    "version": 3
   },
   "file_extension": ".py",
   "mimetype": "text/x-python",
   "name": "python",
   "nbconvert_exporter": "python",
   "pygments_lexer": "ipython3",
   "version": "3.6.5"
  }
 },
 "nbformat": 4,
 "nbformat_minor": 2
}
