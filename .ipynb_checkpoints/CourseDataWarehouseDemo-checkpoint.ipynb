{
 "cells": [
  {
   "cell_type": "markdown",
   "metadata": {},
   "source": [
    "## making the datawarehouse "
   ]
  },
  {
   "cell_type": "code",
   "execution_count": 1,
   "metadata": {},
   "outputs": [],
   "source": [
    "import pandas as pd\n",
    "import sqlite3\n",
    "import numpy as np\n",
    "conn = sqlite3.connect('CourseDataWarehouse.db')\n",
    "c = conn.cursor()"
   ]
  },
  {
   "cell_type": "code",
   "execution_count": 2,
   "metadata": {},
   "outputs": [],
   "source": [
    "% load_ext sql"
   ]
  },
  {
   "cell_type": "code",
   "execution_count": 3,
   "metadata": {},
   "outputs": [
    {
     "data": {
      "text/plain": [
       "'Connected: @CourseDataWarehouse.db'"
      ]
     },
     "execution_count": 3,
     "metadata": {},
     "output_type": "execute_result"
    }
   ],
   "source": [
    "%%sql\n",
    "\n",
    "sqlite:///CourseDataWarehouse.db"
   ]
  },
  {
   "cell_type": "code",
   "execution_count": 4,
   "metadata": {},
   "outputs": [
    {
     "name": "stdout",
     "output_type": "stream",
     "text": [
      " * sqlite:///CourseDataWarehouse.db\n",
      "Done.\n",
      "Done.\n",
      "Done.\n",
      "Done.\n",
      "Done.\n",
      "Done.\n",
      "Done.\n",
      "Done.\n"
     ]
    },
    {
     "data": {
      "text/plain": [
       "[]"
      ]
     },
     "execution_count": 4,
     "metadata": {},
     "output_type": "execute_result"
    }
   ],
   "source": [
    "%%sql\n",
    "\n",
    "DROP TABLE IF EXISTS LOCATION_W;\n",
    "\n",
    "CREATE TABLE LOCATION_W(\n",
    "    LID INTEGER PRIMARY KEY,\n",
    "    BUILDING TEXT,\n",
    "    ROOM TEXT\n",
    ");\n",
    "\n",
    "DROP TABLE IF EXISTS FACULTY_W;\n",
    "\n",
    "CREATE TABLE FACULTY_W(\n",
    "    FID INTEGER PRIMARY KEY,\n",
    "    LNAME TEXT,\n",
    "    FNAME TEXT\n",
    ");\n",
    "\n",
    "DROP TABLE IF EXISTS COURSE_W;\n",
    "\n",
    "CREATE TABLE COURSE_W(\n",
    "    CID INTEGER PRIMARY KEY,\n",
    "    CRN TEXT,\n",
    "    CREDITS TEXT,\n",
    "    PREREQS TEXT,\n",
    "    COREQS TEXT,\n",
    "    ATTRIBUTES TEXT,\n",
    "    DESCRIPTION TEXT,\n",
    "    PROGRAM_NAME TEXT,\n",
    "    PROGRAM_CODE TEXT\n",
    ");\n",
    "\n",
    "DROP TABLE IF EXISTS TERM_W;\n",
    "\n",
    "CREATE TABLE TERM_W(\n",
    "    TERMID INTEGER PRIMARY KEY,\n",
    "    SEMESTER TEXT,\n",
    "    YEAR TEXT,\n",
    "    TERM TEXT\n",
    ");\n"
   ]
  },
  {
   "cell_type": "markdown",
   "metadata": {},
   "source": [
    "## populating the dimension tables"
   ]
  },
  {
   "cell_type": "code",
   "execution_count": 5,
   "metadata": {},
   "outputs": [
    {
     "name": "stdout",
     "output_type": "stream",
     "text": [
      " * sqlite:///CourseDataWarehouse.db\n",
      "Done.\n"
     ]
    },
    {
     "data": {
      "text/plain": [
       "[]"
      ]
     },
     "execution_count": 5,
     "metadata": {},
     "output_type": "execute_result"
    }
   ],
   "source": [
    "%%sql\n",
    "\n",
    "--popluting the location dimension table--\n",
    "INSERT INTO LOCATION_W(BUILDING, ROOM)\n",
    "SELECT DISTINCT BUILDING, ROOM \n",
    "FROM Location;"
   ]
  },
  {
   "cell_type": "code",
   "execution_count": 6,
   "metadata": {},
   "outputs": [
    {
     "name": "stdout",
     "output_type": "stream",
     "text": [
      " * sqlite:///CourseDataWarehouse.db\n",
      "Done.\n"
     ]
    },
    {
     "data": {
      "text/html": [
       "<table>\n",
       "    <tr>\n",
       "        <th>LID</th>\n",
       "        <th>BUILDING</th>\n",
       "        <th>ROOM</th>\n",
       "    </tr>\n",
       "    <tr>\n",
       "        <td>1</td>\n",
       "        <td>DSB</td>\n",
       "        <td>105</td>\n",
       "    </tr>\n",
       "    <tr>\n",
       "        <td>2</td>\n",
       "        <td>DSB</td>\n",
       "        <td>111</td>\n",
       "    </tr>\n",
       "    <tr>\n",
       "        <td>3</td>\n",
       "        <td>DSB</td>\n",
       "        <td>110A</td>\n",
       "    </tr>\n",
       "    <tr>\n",
       "        <td>4</td>\n",
       "        <td>DSB</td>\n",
       "        <td>108</td>\n",
       "    </tr>\n",
       "    <tr>\n",
       "        <td>5</td>\n",
       "        <td>DSB</td>\n",
       "        <td>110B</td>\n",
       "    </tr>\n",
       "    <tr>\n",
       "        <td>6</td>\n",
       "        <td>DSB</td>\n",
       "        <td>104</td>\n",
       "    </tr>\n",
       "    <tr>\n",
       "        <td>7</td>\n",
       "        <td>DSB</td>\n",
       "        <td>112</td>\n",
       "    </tr>\n",
       "    <tr>\n",
       "        <td>8</td>\n",
       "        <td>DSB</td>\n",
       "        <td>109</td>\n",
       "    </tr>\n",
       "    <tr>\n",
       "        <td>9</td>\n",
       "        <td>DSB</td>\n",
       "        <td>115</td>\n",
       "    </tr>\n",
       "    <tr>\n",
       "        <td>10</td>\n",
       "        <td>DSB</td>\n",
       "        <td>2109A</td>\n",
       "    </tr>\n",
       "</table>"
      ],
      "text/plain": [
       "[(1, 'DSB', '105'),\n",
       " (2, 'DSB', '111'),\n",
       " (3, 'DSB', '110A'),\n",
       " (4, 'DSB', '108'),\n",
       " (5, 'DSB', '110B'),\n",
       " (6, 'DSB', '104'),\n",
       " (7, 'DSB', '112'),\n",
       " (8, 'DSB', '109'),\n",
       " (9, 'DSB', '115'),\n",
       " (10, 'DSB', '2109A')]"
      ]
     },
     "execution_count": 6,
     "metadata": {},
     "output_type": "execute_result"
    }
   ],
   "source": [
    "%%sql\n",
    "\n",
    "SELECT * FROM LOCATION_W\n",
    "LIMIT 10;"
   ]
  },
  {
   "cell_type": "code",
   "execution_count": 7,
   "metadata": {},
   "outputs": [
    {
     "name": "stdout",
     "output_type": "stream",
     "text": [
      " * sqlite:///CourseDataWarehouse.db\n",
      "Done.\n"
     ]
    },
    {
     "data": {
      "text/plain": [
       "[]"
      ]
     },
     "execution_count": 7,
     "metadata": {},
     "output_type": "execute_result"
    }
   ],
   "source": [
    "%%sql\n",
    "\n",
    "--populating the faculty_w dimension table--\n",
    "INSERT INTO FACULTY_W(LNAME, FNAME)\n",
    "SELECT DISTINCT LNAME, FNAME\n",
    "FROM FACULTY;"
   ]
  },
  {
   "cell_type": "code",
   "execution_count": 8,
   "metadata": {},
   "outputs": [
    {
     "name": "stdout",
     "output_type": "stream",
     "text": [
      " * sqlite:///CourseDataWarehouse.db\n",
      "Done.\n"
     ]
    },
    {
     "data": {
      "text/html": [
       "<table>\n",
       "    <tr>\n",
       "        <th>FID</th>\n",
       "        <th>LNAME</th>\n",
       "        <th>FNAME</th>\n",
       "    </tr>\n",
       "    <tr>\n",
       "        <td>1</td>\n",
       "        <td>Coyne</td>\n",
       "        <td>Michael P.</td>\n",
       "    </tr>\n",
       "    <tr>\n",
       "        <td>2</td>\n",
       "        <td>Bloch</td>\n",
       "        <td>Rebecca I.</td>\n",
       "    </tr>\n",
       "    <tr>\n",
       "        <td>3</td>\n",
       "        <td> Caster</td>\n",
       "        <td>Paul</td>\n",
       "    </tr>\n",
       "    <tr>\n",
       "        <td>4</td>\n",
       "        <td> Drusbosky</td>\n",
       "        <td>Jo Ann</td>\n",
       "    </tr>\n",
       "    <tr>\n",
       "        <td>5</td>\n",
       "        <td>Kardos</td>\n",
       "        <td>Arleen N.</td>\n",
       "    </tr>\n",
       "    <tr>\n",
       "        <td>6</td>\n",
       "        <td>Brenner</td>\n",
       "        <td>Scott M</td>\n",
       "    </tr>\n",
       "    <tr>\n",
       "        <td>7</td>\n",
       "        <td>Cassidy</td>\n",
       "        <td>Kevin C.</td>\n",
       "    </tr>\n",
       "    <tr>\n",
       "        <td>8</td>\n",
       "        <td> Bradford</td>\n",
       "        <td>Bruce</td>\n",
       "    </tr>\n",
       "    <tr>\n",
       "        <td>9</td>\n",
       "        <td>Peck</td>\n",
       "        <td>Milo W.</td>\n",
       "    </tr>\n",
       "    <tr>\n",
       "        <td>10</td>\n",
       "        <td>Yost</td>\n",
       "        <td>Stephen E.</td>\n",
       "    </tr>\n",
       "</table>"
      ],
      "text/plain": [
       "[(1, 'Coyne', 'Michael P.'),\n",
       " (2, 'Bloch', 'Rebecca I.'),\n",
       " (3, ' Caster', 'Paul'),\n",
       " (4, ' Drusbosky', 'Jo Ann'),\n",
       " (5, 'Kardos', 'Arleen N.'),\n",
       " (6, 'Brenner', 'Scott M'),\n",
       " (7, 'Cassidy', 'Kevin C.'),\n",
       " (8, ' Bradford', 'Bruce'),\n",
       " (9, 'Peck', 'Milo W.'),\n",
       " (10, 'Yost', 'Stephen E.')]"
      ]
     },
     "execution_count": 8,
     "metadata": {},
     "output_type": "execute_result"
    }
   ],
   "source": [
    "%%sql\n",
    "\n",
    "SELECT * FROM FACULTY_W\n",
    "LIMIT 10;"
   ]
  },
  {
   "cell_type": "code",
   "execution_count": 9,
   "metadata": {},
   "outputs": [
    {
     "name": "stdout",
     "output_type": "stream",
     "text": [
      " * sqlite:///CourseDataWarehouse.db\n",
      "Done.\n"
     ]
    },
    {
     "data": {
      "text/plain": [
       "[]"
      ]
     },
     "execution_count": 9,
     "metadata": {},
     "output_type": "execute_result"
    }
   ],
   "source": [
    "%%sql\n",
    "\n",
    "--populating course_w dimension table\n",
    "INSERT INTO COURSE_W(CRN,CREDITS,PREREQS, COREQS,ATTRIBUTES,DESCRIPTION,PROGRAM_NAME,PROGRAM_CODE)\n",
    "SELECT DISTINCT CRN, CREDITS,PREREQS, COREQS,ATTRIBUTES,DESCRIPTION,PROGRAMNAME,PROGRAMCODE\n",
    "FROM COURSE\n",
    "    LEFT JOIN PROGRAMS USING (PID)\n",
    "    LEFT JOIN COURSE_OFFERING USING (CID);\n",
    "    \n"
   ]
  },
  {
   "cell_type": "code",
   "execution_count": 10,
   "metadata": {},
   "outputs": [
    {
     "name": "stdout",
     "output_type": "stream",
     "text": [
      " * sqlite:///CourseDataWarehouse.db\n",
      "Done.\n"
     ]
    },
    {
     "data": {
      "text/html": [
       "<table>\n",
       "    <tr>\n",
       "        <th>CID</th>\n",
       "        <th>CRN</th>\n",
       "        <th>CREDITS</th>\n",
       "        <th>PREREQS</th>\n",
       "        <th>COREQS</th>\n",
       "        <th>ATTRIBUTES</th>\n",
       "        <th>DESCRIPTION</th>\n",
       "        <th>PROGRAM_NAME</th>\n",
       "        <th>PROGRAM_CODE</th>\n",
       "    </tr>\n",
       "    <tr>\n",
       "        <td>1</td>\n",
       "        <td>73018</td>\n",
       "        <td>1-3 Credits</td>\n",
       "        <td>None</td>\n",
       "        <td>None</td>\n",
       "        <td>None</td>\n",
       "        <td>Students undertake an individualized program of study in consultation with a director from the Asian studies faculty.</td>\n",
       "        <td>Asian Studies</td>\n",
       "        <td>AN</td>\n",
       "    </tr>\n",
       "    <tr>\n",
       "        <td>2</td>\n",
       "        <td>73057</td>\n",
       "        <td>1-3 Credits</td>\n",
       "        <td>None</td>\n",
       "        <td>None</td>\n",
       "        <td>None</td>\n",
       "        <td>Students undertake an individualized program of study in consultation with a director from the Asian studies faculty.</td>\n",
       "        <td>Asian Studies</td>\n",
       "        <td>AN</td>\n",
       "    </tr>\n",
       "    <tr>\n",
       "        <td>3</td>\n",
       "        <td>35347</td>\n",
       "        <td>3 Credits</td>\n",
       "        <td>None</td>\n",
       "        <td>None</td>\n",
       "        <td>None</td>\n",
       "        <td>This seminar examines selected topics concerning Asia. This course is taught in conjunction with another 100-300 level course from a rotation of course offerings. Consult the Asian Studies director to identify the conjoined course for a given semester. The seminar concentrates on topics within the parameters of the conjoined course syllabus but adds research emphasis. Students registered for this course must complete a research project, to include 300-level research, in addition to the regular research requirements of the conjoined course, and a 25-50 page term paper in substitution of some portion of the conjoined course requirements, as determined by the instructor. Open to juniors and seniors only.</td>\n",
       "        <td>Asian Studies</td>\n",
       "        <td>AN</td>\n",
       "    </tr>\n",
       "    <tr>\n",
       "        <td>4</td>\n",
       "        <td>71367</td>\n",
       "        <td>3 Credits</td>\n",
       "        <td>None</td>\n",
       "        <td>None</td>\n",
       "        <td>None</td>\n",
       "        <td>This seminar examines selected topics concerning Asia. This course is taught in conjunction with another 100-300 level course from a rotation of course offerings. Consult the Asian Studies director to identify the conjoined course for a given semester. The seminar concentrates on topics within the parameters of the conjoined course syllabus but adds research emphasis. Students registered for this course must complete a research project, to include 300-level research, in addition to the regular research requirements of the conjoined course, and a 25-50 page term paper in substitution of some portion of the conjoined course requirements, as determined by the instructor. Open to juniors and seniors only.</td>\n",
       "        <td>Asian Studies</td>\n",
       "        <td>AN</td>\n",
       "    </tr>\n",
       "    <tr>\n",
       "        <td>5</td>\n",
       "        <td>11801</td>\n",
       "        <td>3 Credits</td>\n",
       "        <td>Junior standing.</td>\n",
       "        <td>None</td>\n",
       "        <td>None</td>\n",
       "        <td>This course examines the broad philosophical as well as practical nature and function of the legal system, and introduces students to the legal and social responsibilities of business. The course includes an introduction to the legal system, the federal courts, Constitutional law, the United States Supreme Court, the civil process, and regulatory areas such as employment discrimination, protection of the environment, and corporate governance and securities markets.</td>\n",
       "        <td>Business</td>\n",
       "        <td>BU</td>\n",
       "    </tr>\n",
       "    <tr>\n",
       "        <td>6</td>\n",
       "        <td>34165</td>\n",
       "        <td>3 Credits</td>\n",
       "        <td>Junior standing.</td>\n",
       "        <td>None</td>\n",
       "        <td>None</td>\n",
       "        <td>This course examines the broad philosophical as well as practical nature and function of the legal system, and introduces students to the legal and social responsibilities of business. The course includes an introduction to the legal system, the federal courts, Constitutional law, the United States Supreme Court, the civil process, and regulatory areas such as employment discrimination, protection of the environment, and corporate governance and securities markets.</td>\n",
       "        <td>Business</td>\n",
       "        <td>BU</td>\n",
       "    </tr>\n",
       "    <tr>\n",
       "        <td>7</td>\n",
       "        <td>34166</td>\n",
       "        <td>3 Credits</td>\n",
       "        <td>Junior standing.</td>\n",
       "        <td>None</td>\n",
       "        <td>None</td>\n",
       "        <td>This course examines the broad philosophical as well as practical nature and function of the legal system, and introduces students to the legal and social responsibilities of business. The course includes an introduction to the legal system, the federal courts, Constitutional law, the United States Supreme Court, the civil process, and regulatory areas such as employment discrimination, protection of the environment, and corporate governance and securities markets.</td>\n",
       "        <td>Business</td>\n",
       "        <td>BU</td>\n",
       "    </tr>\n",
       "    <tr>\n",
       "        <td>8</td>\n",
       "        <td>34167</td>\n",
       "        <td>3 Credits</td>\n",
       "        <td>Junior standing.</td>\n",
       "        <td>None</td>\n",
       "        <td>None</td>\n",
       "        <td>This course examines the broad philosophical as well as practical nature and function of the legal system, and introduces students to the legal and social responsibilities of business. The course includes an introduction to the legal system, the federal courts, Constitutional law, the United States Supreme Court, the civil process, and regulatory areas such as employment discrimination, protection of the environment, and corporate governance and securities markets.</td>\n",
       "        <td>Business</td>\n",
       "        <td>BU</td>\n",
       "    </tr>\n",
       "    <tr>\n",
       "        <td>9</td>\n",
       "        <td>34168</td>\n",
       "        <td>3 Credits</td>\n",
       "        <td>Junior standing.</td>\n",
       "        <td>None</td>\n",
       "        <td>None</td>\n",
       "        <td>This course examines the broad philosophical as well as practical nature and function of the legal system, and introduces students to the legal and social responsibilities of business. The course includes an introduction to the legal system, the federal courts, Constitutional law, the United States Supreme Court, the civil process, and regulatory areas such as employment discrimination, protection of the environment, and corporate governance and securities markets.</td>\n",
       "        <td>Business</td>\n",
       "        <td>BU</td>\n",
       "    </tr>\n",
       "    <tr>\n",
       "        <td>10</td>\n",
       "        <td>34624</td>\n",
       "        <td>3 Credits</td>\n",
       "        <td>Junior standing.</td>\n",
       "        <td>None</td>\n",
       "        <td>None</td>\n",
       "        <td>This course examines the broad philosophical as well as practical nature and function of the legal system, and introduces students to the legal and social responsibilities of business. The course includes an introduction to the legal system, the federal courts, Constitutional law, the United States Supreme Court, the civil process, and regulatory areas such as employment discrimination, protection of the environment, and corporate governance and securities markets.</td>\n",
       "        <td>Business</td>\n",
       "        <td>BU</td>\n",
       "    </tr>\n",
       "</table>"
      ],
      "text/plain": [
       "[(1, '73018', '1-3 Credits', None, None, None, 'Students undertake an individualized program of study in consultation with a director from the Asian studies faculty.', 'Asian Studies', 'AN'),\n",
       " (2, '73057', '1-3 Credits', None, None, None, 'Students undertake an individualized program of study in consultation with a director from the Asian studies faculty.', 'Asian Studies', 'AN'),\n",
       " (3, '35347', '3 Credits', None, None, None, 'This seminar examines selected topics concerning Asia. This course is taught in conjunction with another 100-300 level course from a rotation of cour ... (412 characters truncated) ... e term paper in substitution of some portion of the conjoined course requirements, as determined by the instructor. Open to juniors and seniors only.', 'Asian Studies', 'AN'),\n",
       " (4, '71367', '3 Credits', None, None, None, 'This seminar examines selected topics concerning Asia. This course is taught in conjunction with another 100-300 level course from a rotation of cour ... (412 characters truncated) ... e term paper in substitution of some portion of the conjoined course requirements, as determined by the instructor. Open to juniors and seniors only.', 'Asian Studies', 'AN'),\n",
       " (5, '11801', '3 Credits', 'Junior standing.', None, None, 'This course examines the broad philosophical as well as practical nature and function of the legal system, and introduces students to the legal and s ... (171 characters truncated) ... ivil process, and regulatory areas such as employment discrimination, protection of the environment, and corporate governance and securities markets.', 'Business', 'BU'),\n",
       " (6, '34165', '3 Credits', 'Junior standing.', None, None, 'This course examines the broad philosophical as well as practical nature and function of the legal system, and introduces students to the legal and s ... (171 characters truncated) ... ivil process, and regulatory areas such as employment discrimination, protection of the environment, and corporate governance and securities markets.', 'Business', 'BU'),\n",
       " (7, '34166', '3 Credits', 'Junior standing.', None, None, 'This course examines the broad philosophical as well as practical nature and function of the legal system, and introduces students to the legal and s ... (171 characters truncated) ... ivil process, and regulatory areas such as employment discrimination, protection of the environment, and corporate governance and securities markets.', 'Business', 'BU'),\n",
       " (8, '34167', '3 Credits', 'Junior standing.', None, None, 'This course examines the broad philosophical as well as practical nature and function of the legal system, and introduces students to the legal and s ... (171 characters truncated) ... ivil process, and regulatory areas such as employment discrimination, protection of the environment, and corporate governance and securities markets.', 'Business', 'BU'),\n",
       " (9, '34168', '3 Credits', 'Junior standing.', None, None, 'This course examines the broad philosophical as well as practical nature and function of the legal system, and introduces students to the legal and s ... (171 characters truncated) ... ivil process, and regulatory areas such as employment discrimination, protection of the environment, and corporate governance and securities markets.', 'Business', 'BU'),\n",
       " (10, '34624', '3 Credits', 'Junior standing.', None, None, 'This course examines the broad philosophical as well as practical nature and function of the legal system, and introduces students to the legal and s ... (171 characters truncated) ... ivil process, and regulatory areas such as employment discrimination, protection of the environment, and corporate governance and securities markets.', 'Business', 'BU')]"
      ]
     },
     "execution_count": 10,
     "metadata": {},
     "output_type": "execute_result"
    }
   ],
   "source": [
    "%%sql\n",
    "\n",
    "SELECT * FROM COURSE_W LIMIT 10;"
   ]
  },
  {
   "cell_type": "code",
   "execution_count": 11,
   "metadata": {},
   "outputs": [
    {
     "name": "stdout",
     "output_type": "stream",
     "text": [
      " * sqlite:///CourseDataWarehouse.db\n",
      "Done.\n"
     ]
    },
    {
     "data": {
      "text/plain": [
       "[]"
      ]
     },
     "execution_count": 11,
     "metadata": {},
     "output_type": "execute_result"
    }
   ],
   "source": [
    "%%sql\n",
    "\n",
    "--populating the term_w table--\n",
    "INSERT INTO TERM_W(SEMESTER, YEAR, TERM)\n",
    "SELECT DISTINCT SEMESTER, YEAR, TERM\n",
    "FROM COURSE_OFFERING;"
   ]
  },
  {
   "cell_type": "code",
   "execution_count": 12,
   "metadata": {},
   "outputs": [
    {
     "name": "stdout",
     "output_type": "stream",
     "text": [
      " * sqlite:///CourseDataWarehouse.db\n",
      "Done.\n"
     ]
    },
    {
     "data": {
      "text/html": [
       "<table>\n",
       "    <tr>\n",
       "        <th>TERMID</th>\n",
       "        <th>SEMESTER</th>\n",
       "        <th>YEAR</th>\n",
       "        <th>TERM</th>\n",
       "    </tr>\n",
       "    <tr>\n",
       "        <td>1</td>\n",
       "        <td>Fall</td>\n",
       "        <td>2014</td>\n",
       "        <td>Fall2014</td>\n",
       "    </tr>\n",
       "    <tr>\n",
       "        <td>2</td>\n",
       "        <td>Fall</td>\n",
       "        <td>2015</td>\n",
       "        <td>Fall2015</td>\n",
       "    </tr>\n",
       "    <tr>\n",
       "        <td>3</td>\n",
       "        <td>Fall</td>\n",
       "        <td>2016</td>\n",
       "        <td>Fall2016</td>\n",
       "    </tr>\n",
       "    <tr>\n",
       "        <td>4</td>\n",
       "        <td>Fall</td>\n",
       "        <td>2017</td>\n",
       "        <td>Fall2017</td>\n",
       "    </tr>\n",
       "    <tr>\n",
       "        <td>5</td>\n",
       "        <td>Fall</td>\n",
       "        <td>2018</td>\n",
       "        <td>Fall2018</td>\n",
       "    </tr>\n",
       "    <tr>\n",
       "        <td>6</td>\n",
       "        <td>Spring</td>\n",
       "        <td>2015</td>\n",
       "        <td>Spring2015</td>\n",
       "    </tr>\n",
       "    <tr>\n",
       "        <td>7</td>\n",
       "        <td>Spring</td>\n",
       "        <td>2016</td>\n",
       "        <td>Spring2016</td>\n",
       "    </tr>\n",
       "    <tr>\n",
       "        <td>8</td>\n",
       "        <td>Spring</td>\n",
       "        <td>2017</td>\n",
       "        <td>Spring2017</td>\n",
       "    </tr>\n",
       "    <tr>\n",
       "        <td>9</td>\n",
       "        <td>Spring</td>\n",
       "        <td>2018</td>\n",
       "        <td>Spring2018</td>\n",
       "    </tr>\n",
       "    <tr>\n",
       "        <td>10</td>\n",
       "        <td>Spring</td>\n",
       "        <td>2019</td>\n",
       "        <td>Spring2019</td>\n",
       "    </tr>\n",
       "</table>"
      ],
      "text/plain": [
       "[(1, 'Fall', '2014', 'Fall2014'),\n",
       " (2, 'Fall', '2015', 'Fall2015'),\n",
       " (3, 'Fall', '2016', 'Fall2016'),\n",
       " (4, 'Fall', '2017', 'Fall2017'),\n",
       " (5, 'Fall', '2018', 'Fall2018'),\n",
       " (6, 'Spring', '2015', 'Spring2015'),\n",
       " (7, 'Spring', '2016', 'Spring2016'),\n",
       " (8, 'Spring', '2017', 'Spring2017'),\n",
       " (9, 'Spring', '2018', 'Spring2018'),\n",
       " (10, 'Spring', '2019', 'Spring2019')]"
      ]
     },
     "execution_count": 12,
     "metadata": {},
     "output_type": "execute_result"
    }
   ],
   "source": [
    "%%sql\n",
    "\n",
    "SELECT * FROM TERM_W LIMIT 10;"
   ]
  },
  {
   "cell_type": "markdown",
   "metadata": {},
   "source": [
    "## creating the fact table."
   ]
  },
  {
   "cell_type": "code",
   "execution_count": 13,
   "metadata": {},
   "outputs": [
    {
     "name": "stdout",
     "output_type": "stream",
     "text": [
      " * sqlite:///CourseDataWarehouse.db\n",
      "Done.\n",
      "Done.\n"
     ]
    },
    {
     "data": {
      "text/plain": [
       "[]"
      ]
     },
     "execution_count": 13,
     "metadata": {},
     "output_type": "execute_result"
    }
   ],
   "source": [
    "%%sql\n",
    "\n",
    "DROP TABLE IF EXISTS COURSE_OFFERING_W;\n",
    "\n",
    "CREATE TABLE COURSE_OFFERING_W(\n",
    "    COID INTEGER PRIMARY KEY,\n",
    "    ACT INTEGER,\n",
    "    CAP INTEGER, \n",
    "    REM INTEGER,\n",
    "    AVG_CAP INTEGER,\n",
    "    MAX_CAP INTEGER,\n",
    "    AVG_CLASS_BUILDING INTERGER,\n",
    "    NUM_ROOM_BUILDING INTERGER,\n",
    "    TERMID INTEGER,\n",
    "    CID INTEGER,\n",
    "    LID INTEGER,\n",
    "    FID INTEGER,\n",
    "    FOREIGN KEY (TERMID) REFERENCES TERM_W (TERMID),\n",
    "    FOREIGN KEY (CID) REFERENCES COURSE_W (CID),\n",
    "    FOREIGN KEY (LID) REFERENCES LOCATION_W (LID),\n",
    "    FOREIGN KEY (FID) REFERENCES FACULTY_W (FID)\n",
    ");"
   ]
  },
  {
   "cell_type": "code",
   "execution_count": 19,
   "metadata": {},
   "outputs": [
    {
     "name": "stdout",
     "output_type": "stream",
     "text": [
      " * sqlite:///CourseDataWarehouse.db\n",
      "Done.\n"
     ]
    },
    {
     "data": {
      "text/html": [
       "<table>\n",
       "    <tr>\n",
       "        <th>ACT</th>\n",
       "        <th>CAP</th>\n",
       "        <th>REM</th>\n",
       "        <th>FID</th>\n",
       "        <th>CID</th>\n",
       "    </tr>\n",
       "    <tr>\n",
       "        <td>28</td>\n",
       "        <td>0</td>\n",
       "        <td>-28</td>\n",
       "        <td>2</td>\n",
       "        <td>113</td>\n",
       "    </tr>\n",
       "    <tr>\n",
       "        <td>29</td>\n",
       "        <td>0</td>\n",
       "        <td>-29</td>\n",
       "        <td>2</td>\n",
       "        <td>113</td>\n",
       "    </tr>\n",
       "    <tr>\n",
       "        <td>26</td>\n",
       "        <td>0</td>\n",
       "        <td>-26</td>\n",
       "        <td>685</td>\n",
       "        <td>113</td>\n",
       "    </tr>\n",
       "    <tr>\n",
       "        <td>30</td>\n",
       "        <td>0</td>\n",
       "        <td>-30</td>\n",
       "        <td>685</td>\n",
       "        <td>113</td>\n",
       "    </tr>\n",
       "    <tr>\n",
       "        <td>31</td>\n",
       "        <td>0</td>\n",
       "        <td>-31</td>\n",
       "        <td>685</td>\n",
       "        <td>113</td>\n",
       "    </tr>\n",
       "    <tr>\n",
       "        <td>29</td>\n",
       "        <td>0</td>\n",
       "        <td>-29</td>\n",
       "        <td>685</td>\n",
       "        <td>113</td>\n",
       "    </tr>\n",
       "    <tr>\n",
       "        <td>30</td>\n",
       "        <td>30</td>\n",
       "        <td>0</td>\n",
       "        <td>1</td>\n",
       "        <td>113</td>\n",
       "    </tr>\n",
       "    <tr>\n",
       "        <td>30</td>\n",
       "        <td>30</td>\n",
       "        <td>0</td>\n",
       "        <td>4</td>\n",
       "        <td>113</td>\n",
       "    </tr>\n",
       "    <tr>\n",
       "        <td>29</td>\n",
       "        <td>30</td>\n",
       "        <td>1</td>\n",
       "        <td>4</td>\n",
       "        <td>113</td>\n",
       "    </tr>\n",
       "    <tr>\n",
       "        <td>27</td>\n",
       "        <td>30</td>\n",
       "        <td>3</td>\n",
       "        <td>777</td>\n",
       "        <td>113</td>\n",
       "    </tr>\n",
       "</table>"
      ],
      "text/plain": [
       "[(28, 0, -28, 2, 113),\n",
       " (29, 0, -29, 2, 113),\n",
       " (26, 0, -26, 685, 113),\n",
       " (30, 0, -30, 685, 113),\n",
       " (31, 0, -31, 685, 113),\n",
       " (29, 0, -29, 685, 113),\n",
       " (30, 30, 0, 1, 113),\n",
       " (30, 30, 0, 4, 113),\n",
       " (29, 30, 1, 4, 113),\n",
       " (27, 30, 3, 777, 113)]"
      ]
     },
     "execution_count": 19,
     "metadata": {},
     "output_type": "execute_result"
    }
   ],
   "source": [
    "%%sql\n",
    "\n",
    "--populating the course_offering_w table\n",
    "--INSERT INTO COURSE_OFFERING_W (ACT, CAP, REM, AVG_CAP, MAX_CAP, AVG_CLASS_BUILDING,NUM_ROOM_BUILDING, TERMID, CID, LID, FID)\n",
    "SELECT DISTINCT ACT, CAP, REM, FID,CID\n",
    "FROM COURSE_OFFERING\n",
    "    JOIN FACULTY_W USING (FID)\n",
    "    --JOIN LOCATION_W USING (LID)\n",
    "    --JOIN TERM_W USING (TERMID)\n",
    "    JOIN COURSE_W USING (CID)\n",
    "    LIMIT 10;"
   ]
  },
  {
   "cell_type": "code",
   "execution_count": null,
   "metadata": {},
   "outputs": [],
   "source": []
  }
 ],
 "metadata": {
  "kernelspec": {
   "display_name": "Python 3",
   "language": "python",
   "name": "python3"
  },
  "language_info": {
   "codemirror_mode": {
    "name": "ipython",
    "version": 3
   },
   "file_extension": ".py",
   "mimetype": "text/x-python",
   "name": "python",
   "nbconvert_exporter": "python",
   "pygments_lexer": "ipython3",
   "version": "3.6.5"
  }
 },
 "nbformat": 4,
 "nbformat_minor": 2
}
