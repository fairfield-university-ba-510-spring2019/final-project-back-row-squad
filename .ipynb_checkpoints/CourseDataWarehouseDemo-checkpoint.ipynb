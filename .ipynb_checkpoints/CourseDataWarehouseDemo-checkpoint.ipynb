{
 "cells": [
  {
   "cell_type": "markdown",
   "metadata": {},
   "source": [
    "## Making the datawarehouse "
   ]
  },
  {
   "cell_type": "code",
   "execution_count": 1,
   "metadata": {},
   "outputs": [],
   "source": [
    "import pandas as pd\n",
    "import sqlite3\n",
    "import numpy as np\n",
    "import pandasql as ps\n",
    "conn = sqlite3.connect('CourseDataWarehouse.db')\n",
    "c = conn.cursor()"
   ]
  },
  {
   "cell_type": "code",
   "execution_count": 2,
   "metadata": {},
   "outputs": [],
   "source": [
    "% load_ext sql"
   ]
  },
  {
   "cell_type": "code",
   "execution_count": 3,
   "metadata": {},
   "outputs": [
    {
     "data": {
      "text/plain": [
       "'Connected: @CourseDataWarehouse.db'"
      ]
     },
     "execution_count": 3,
     "metadata": {},
     "output_type": "execute_result"
    }
   ],
   "source": [
    "%%sql\n",
    "\n",
    "sqlite:///CourseDataWarehouse.db"
   ]
  },
  {
   "cell_type": "code",
   "execution_count": 4,
   "metadata": {},
   "outputs": [
    {
     "name": "stdout",
     "output_type": "stream",
     "text": [
      " * sqlite:///CourseDataWarehouse.db\n",
      "Done.\n",
      "Done.\n",
      "Done.\n",
      "Done.\n",
      "Done.\n",
      "Done.\n",
      "Done.\n",
      "Done.\n"
     ]
    },
    {
     "data": {
      "text/plain": [
       "[]"
      ]
     },
     "execution_count": 4,
     "metadata": {},
     "output_type": "execute_result"
    }
   ],
   "source": [
    "%%sql\n",
    "\n",
    "DROP TABLE IF EXISTS LOCATION_W;\n",
    "\n",
    "CREATE TABLE LOCATION_W(\n",
    "    LID INTEGER PRIMARY KEY,\n",
    "    BUILDING TEXT,\n",
    "    ROOM TEXT\n",
    ");\n",
    "\n",
    "DROP TABLE IF EXISTS FACULTY_W;\n",
    "\n",
    "CREATE TABLE FACULTY_W(\n",
    "    FID INTEGER PRIMARY KEY,\n",
    "    LNAME TEXT,\n",
    "    FNAME TEXT\n",
    ");\n",
    "\n",
    "DROP TABLE IF EXISTS COURSE_W;\n",
    "\n",
    "CREATE TABLE COURSE_W(\n",
    "    CID INTEGER PRIMARY KEY,\n",
    "    CRN TEXT,\n",
    "    CREDITS TEXT,\n",
    "    PREREQS TEXT,\n",
    "    COREQS TEXT,\n",
    "    ATTRIBUTES TEXT,\n",
    "    DESCRIPTION TEXT,\n",
    "    PROGRAM_NAME TEXT,\n",
    "    PROGRAM_CODE TEXT\n",
    ");\n",
    "\n",
    "DROP TABLE IF EXISTS TERM_W;\n",
    "\n",
    "CREATE TABLE TERM_W(\n",
    "    TERMID INTEGER PRIMARY KEY,\n",
    "    SEMESTER TEXT,\n",
    "    YEAR TEXT,\n",
    "    TERM TEXT\n",
    ");\n"
   ]
  },
  {
   "cell_type": "markdown",
   "metadata": {},
   "source": [
    "## populating the dimension tables"
   ]
  },
  {
   "cell_type": "code",
   "execution_count": 5,
   "metadata": {},
   "outputs": [
    {
     "name": "stdout",
     "output_type": "stream",
     "text": [
      " * sqlite:///CourseDataWarehouse.db\n",
      "Done.\n"
     ]
    },
    {
     "data": {
      "text/plain": [
       "[]"
      ]
     },
     "execution_count": 5,
     "metadata": {},
     "output_type": "execute_result"
    }
   ],
   "source": [
    "%%sql\n",
    "\n",
    "--popluting the location dimension table--\n",
    "INSERT INTO LOCATION_W(BUILDING, ROOM)\n",
    "SELECT DISTINCT BUILDING, ROOM \n",
    "FROM Location;"
   ]
  },
  {
   "cell_type": "code",
   "execution_count": 6,
   "metadata": {},
   "outputs": [
    {
     "name": "stdout",
     "output_type": "stream",
     "text": [
      " * sqlite:///CourseDataWarehouse.db\n",
      "Done.\n"
     ]
    },
    {
     "data": {
      "text/plain": [
       "[]"
      ]
     },
     "execution_count": 6,
     "metadata": {},
     "output_type": "execute_result"
    }
   ],
   "source": [
    "%%sql\n",
    "\n",
    "--populating the faculty_w dimension table--\n",
    "INSERT INTO FACULTY_W(LNAME, FNAME)\n",
    "SELECT DISTINCT LNAME, FNAME\n",
    "FROM FACULTY;"
   ]
  },
  {
   "cell_type": "code",
   "execution_count": 7,
   "metadata": {},
   "outputs": [
    {
     "name": "stdout",
     "output_type": "stream",
     "text": [
      " * sqlite:///CourseDataWarehouse.db\n",
      "Done.\n"
     ]
    },
    {
     "data": {
      "text/plain": [
       "[]"
      ]
     },
     "execution_count": 7,
     "metadata": {},
     "output_type": "execute_result"
    }
   ],
   "source": [
    "%%sql\n",
    "\n",
    "--populating course_w dimension table\n",
    "INSERT INTO COURSE_W(CRN,CREDITS,PREREQS, COREQS,ATTRIBUTES,DESCRIPTION,PROGRAM_NAME,PROGRAM_CODE)\n",
    "SELECT DISTINCT CRN, CREDITS,PREREQS, COREQS,ATTRIBUTES,DESCRIPTION,PROGRAMNAME,PROGRAMCODE\n",
    "FROM COURSE\n",
    "    INNER JOIN COURSE_OFFERING ON (COURSE.CID = COURSE_OFFERING.CID)\n",
    "    JOIN PROGRAMS USING (PID)\n",
    ";\n",
    "    \n",
    "    \n"
   ]
  },
  {
   "cell_type": "code",
   "execution_count": 8,
   "metadata": {},
   "outputs": [
    {
     "name": "stdout",
     "output_type": "stream",
     "text": [
      " * sqlite:///CourseDataWarehouse.db\n",
      "Done.\n"
     ]
    },
    {
     "data": {
      "text/plain": [
       "[]"
      ]
     },
     "execution_count": 8,
     "metadata": {},
     "output_type": "execute_result"
    }
   ],
   "source": [
    "%%sql\n",
    "\n",
    "--populating the term_w table--\n",
    "INSERT INTO TERM_W(SEMESTER, YEAR, TERM)\n",
    "SELECT DISTINCT SEMESTER, YEAR, TERM\n",
    "FROM COURSE_OFFERING;"
   ]
  },
  {
   "cell_type": "markdown",
   "metadata": {},
   "source": [
    "## Creating the fact table."
   ]
  },
  {
   "cell_type": "code",
   "execution_count": 9,
   "metadata": {},
   "outputs": [
    {
     "name": "stdout",
     "output_type": "stream",
     "text": [
      " * sqlite:///CourseDataWarehouse.db\n",
      "Done.\n",
      "Done.\n",
      "Done.\n"
     ]
    },
    {
     "data": {
      "text/plain": [
       "[]"
      ]
     },
     "execution_count": 9,
     "metadata": {},
     "output_type": "execute_result"
    }
   ],
   "source": [
    "%%sql\n",
    "\n",
    "DROP TABLE IF EXISTS COURSE_OFFERING_W;\n",
    "\n",
    "DROP TABLE IF EXISTS CLASS_FACTS_W;\n",
    "\n",
    "CREATE TABLE CLASS_FACTS_W(\n",
    "    COID INTEGER PRIMARY KEY,\n",
    "    CAP INTEGER,\n",
    "    ACT INTEGER, \n",
    "    REM INTEGER,\n",
    "    COUNT_OF_FACULTY_PER_PROGRAM INTEGER,\n",
    "    COUNT_OF_COURSES INTEGER,\n",
    "    MAX_ACT INTERGER,\n",
    "    AVG_ACT INTERGER,\n",
    "    COUNT_CLASSES_PER_BLDG INTEGER,\n",
    "    TERMID INTEGER,\n",
    "    CID INTEGER,\n",
    "    LID INTEGER,\n",
    "    FID INTEGER,\n",
    "    FOREIGN KEY (TERMID) REFERENCES TERM_W (TERMID),\n",
    "    FOREIGN KEY (CID) REFERENCES COURSE_W (CID),\n",
    "    FOREIGN KEY (LID) REFERENCES LOCATION_W (LID),\n",
    "    FOREIGN KEY (FID) REFERENCES FACULTY_W (FID)\n",
    ");"
   ]
  },
  {
   "cell_type": "code",
   "execution_count": 10,
   "metadata": {},
   "outputs": [
    {
     "name": "stdout",
     "output_type": "stream",
     "text": [
      " * sqlite:///CourseDataWarehouse.db\n",
      "Done.\n"
     ]
    },
    {
     "data": {
      "text/plain": [
       "[]"
      ]
     },
     "execution_count": 10,
     "metadata": {},
     "output_type": "execute_result"
    }
   ],
   "source": [
    "%%sql\n",
    "\n",
    "--populating the CLASS_FACTS_W table\n",
    "INSERT INTO CLASS_FACTS_W (CAP, ACT, REM, TERMID, CID, LID, FID)\n",
    "SELECT DISTINCT CAP, ACT, REM, TERMID, CID,LID, FID\n",
    "FROM COURSE_OFFERING\n",
    "    JOIN FACULTY_W USING (FID)\n",
    "    JOIN CLASS_MEETINGS USING (COID)\n",
    "    JOIN LOCATION USING (LID)\n",
    "    JOIN TERM_W USING (SEMESTER)\n",
    "    JOIN COURSE_W USING (CID)\n",
    ";"
   ]
  },
  {
   "cell_type": "markdown",
   "metadata": {},
   "source": [
    "## Manipulating the Fact Table to fill in numeric data.\n",
    "\n",
    "### Use pandas to write as dataframe and export as database table."
   ]
  },
  {
   "cell_type": "markdown",
   "metadata": {},
   "source": [
    "### Fill in 'MAX_ACT' & 'AVG_ACT"
   ]
  },
  {
   "cell_type": "code",
   "execution_count": 11,
   "metadata": {},
   "outputs": [
    {
     "data": {
      "text/html": [
       "<div>\n",
       "<style scoped>\n",
       "    .dataframe tbody tr th:only-of-type {\n",
       "        vertical-align: middle;\n",
       "    }\n",
       "\n",
       "    .dataframe tbody tr th {\n",
       "        vertical-align: top;\n",
       "    }\n",
       "\n",
       "    .dataframe thead th {\n",
       "        text-align: right;\n",
       "    }\n",
       "</style>\n",
       "<table border=\"1\" class=\"dataframe\">\n",
       "  <thead>\n",
       "    <tr style=\"text-align: right;\">\n",
       "      <th></th>\n",
       "      <th>COID</th>\n",
       "      <th>CAP</th>\n",
       "      <th>ACT</th>\n",
       "      <th>REM</th>\n",
       "      <th>COUNT_OF_FACULTY_PER_PROGRAM</th>\n",
       "      <th>COUNT_OF_COURSES</th>\n",
       "      <th>MAX_ACT</th>\n",
       "      <th>AVG_ACT</th>\n",
       "      <th>COUNT_CLASSES_PER_BLDG</th>\n",
       "      <th>TERMID</th>\n",
       "      <th>CID</th>\n",
       "      <th>LID</th>\n",
       "      <th>FID</th>\n",
       "    </tr>\n",
       "  </thead>\n",
       "  <tbody>\n",
       "    <tr>\n",
       "      <th>0</th>\n",
       "      <td>1</td>\n",
       "      <td>27</td>\n",
       "      <td>27</td>\n",
       "      <td>0</td>\n",
       "      <td>None</td>\n",
       "      <td>None</td>\n",
       "      <td>None</td>\n",
       "      <td>None</td>\n",
       "      <td>None</td>\n",
       "      <td>1</td>\n",
       "      <td>1369</td>\n",
       "      <td>1</td>\n",
       "      <td>125</td>\n",
       "    </tr>\n",
       "    <tr>\n",
       "      <th>1</th>\n",
       "      <td>2</td>\n",
       "      <td>27</td>\n",
       "      <td>27</td>\n",
       "      <td>0</td>\n",
       "      <td>None</td>\n",
       "      <td>None</td>\n",
       "      <td>None</td>\n",
       "      <td>None</td>\n",
       "      <td>None</td>\n",
       "      <td>2</td>\n",
       "      <td>1369</td>\n",
       "      <td>1</td>\n",
       "      <td>125</td>\n",
       "    </tr>\n",
       "    <tr>\n",
       "      <th>2</th>\n",
       "      <td>3</td>\n",
       "      <td>27</td>\n",
       "      <td>27</td>\n",
       "      <td>0</td>\n",
       "      <td>None</td>\n",
       "      <td>None</td>\n",
       "      <td>None</td>\n",
       "      <td>None</td>\n",
       "      <td>None</td>\n",
       "      <td>3</td>\n",
       "      <td>1369</td>\n",
       "      <td>1</td>\n",
       "      <td>125</td>\n",
       "    </tr>\n",
       "    <tr>\n",
       "      <th>3</th>\n",
       "      <td>4</td>\n",
       "      <td>27</td>\n",
       "      <td>27</td>\n",
       "      <td>0</td>\n",
       "      <td>None</td>\n",
       "      <td>None</td>\n",
       "      <td>None</td>\n",
       "      <td>None</td>\n",
       "      <td>None</td>\n",
       "      <td>4</td>\n",
       "      <td>1369</td>\n",
       "      <td>1</td>\n",
       "      <td>125</td>\n",
       "    </tr>\n",
       "    <tr>\n",
       "      <th>4</th>\n",
       "      <td>5</td>\n",
       "      <td>27</td>\n",
       "      <td>27</td>\n",
       "      <td>0</td>\n",
       "      <td>None</td>\n",
       "      <td>None</td>\n",
       "      <td>None</td>\n",
       "      <td>None</td>\n",
       "      <td>None</td>\n",
       "      <td>5</td>\n",
       "      <td>1369</td>\n",
       "      <td>1</td>\n",
       "      <td>125</td>\n",
       "    </tr>\n",
       "  </tbody>\n",
       "</table>\n",
       "</div>"
      ],
      "text/plain": [
       "   COID  CAP  ACT  REM COUNT_OF_FACULTY_PER_PROGRAM COUNT_OF_COURSES MAX_ACT  \\\n",
       "0     1   27   27    0                         None             None    None   \n",
       "1     2   27   27    0                         None             None    None   \n",
       "2     3   27   27    0                         None             None    None   \n",
       "3     4   27   27    0                         None             None    None   \n",
       "4     5   27   27    0                         None             None    None   \n",
       "\n",
       "  AVG_ACT COUNT_CLASSES_PER_BLDG  TERMID   CID  LID  FID  \n",
       "0    None                   None       1  1369    1  125  \n",
       "1    None                   None       2  1369    1  125  \n",
       "2    None                   None       3  1369    1  125  \n",
       "3    None                   None       4  1369    1  125  \n",
       "4    None                   None       5  1369    1  125  "
      ]
     },
     "execution_count": 11,
     "metadata": {},
     "output_type": "execute_result"
    }
   ],
   "source": [
    "table = '''SELECT * FROM CLASS_FACTS_W'''\n",
    "df = pd.read_sql(table, conn)\n",
    "df.head()\n"
   ]
  },
  {
   "cell_type": "code",
   "execution_count": 12,
   "metadata": {},
   "outputs": [
    {
     "data": {
      "text/html": [
       "<div>\n",
       "<style scoped>\n",
       "    .dataframe tbody tr th:only-of-type {\n",
       "        vertical-align: middle;\n",
       "    }\n",
       "\n",
       "    .dataframe tbody tr th {\n",
       "        vertical-align: top;\n",
       "    }\n",
       "\n",
       "    .dataframe thead th {\n",
       "        text-align: right;\n",
       "    }\n",
       "</style>\n",
       "<table border=\"1\" class=\"dataframe\">\n",
       "  <thead>\n",
       "    <tr style=\"text-align: right;\">\n",
       "      <th></th>\n",
       "      <th>avg_act</th>\n",
       "      <th>CID</th>\n",
       "    </tr>\n",
       "  </thead>\n",
       "  <tbody>\n",
       "    <tr>\n",
       "      <th>0</th>\n",
       "      <td>1.00000</td>\n",
       "      <td>1</td>\n",
       "    </tr>\n",
       "    <tr>\n",
       "      <th>1</th>\n",
       "      <td>1.00000</td>\n",
       "      <td>2</td>\n",
       "    </tr>\n",
       "    <tr>\n",
       "      <th>2</th>\n",
       "      <td>23.74359</td>\n",
       "      <td>3</td>\n",
       "    </tr>\n",
       "    <tr>\n",
       "      <th>3</th>\n",
       "      <td>10.00000</td>\n",
       "      <td>4</td>\n",
       "    </tr>\n",
       "    <tr>\n",
       "      <th>4</th>\n",
       "      <td>12.00000</td>\n",
       "      <td>7</td>\n",
       "    </tr>\n",
       "  </tbody>\n",
       "</table>\n",
       "</div>"
      ],
      "text/plain": [
       "    avg_act  CID\n",
       "0   1.00000    1\n",
       "1   1.00000    2\n",
       "2  23.74359    3\n",
       "3  10.00000    4\n",
       "4  12.00000    7"
      ]
     },
     "execution_count": 12,
     "metadata": {},
     "output_type": "execute_result"
    }
   ],
   "source": [
    "q1 = '''SELECT AVG(ACT) as avg_act, CID FROM df GROUP BY CID'''\n",
    "df2=pd.DataFrame(ps.sqldf(q1, locals()))\n",
    "\n",
    "q2 = '''SELECT MAX(CAP) as max_act, CID FROM df GROUP BY CID'''\n",
    "df3 = pd.DataFrame(ps.sqldf(q2, locals()))\n",
    "df2.head()\n",
    "\n"
   ]
  },
  {
   "cell_type": "code",
   "execution_count": 13,
   "metadata": {},
   "outputs": [
    {
     "data": {
      "text/html": [
       "<div>\n",
       "<style scoped>\n",
       "    .dataframe tbody tr th:only-of-type {\n",
       "        vertical-align: middle;\n",
       "    }\n",
       "\n",
       "    .dataframe tbody tr th {\n",
       "        vertical-align: top;\n",
       "    }\n",
       "\n",
       "    .dataframe thead th {\n",
       "        text-align: right;\n",
       "    }\n",
       "</style>\n",
       "<table border=\"1\" class=\"dataframe\">\n",
       "  <thead>\n",
       "    <tr style=\"text-align: right;\">\n",
       "      <th></th>\n",
       "      <th>max_act</th>\n",
       "      <th>CID</th>\n",
       "    </tr>\n",
       "  </thead>\n",
       "  <tbody>\n",
       "    <tr>\n",
       "      <th>0</th>\n",
       "      <td>0</td>\n",
       "      <td>1</td>\n",
       "    </tr>\n",
       "    <tr>\n",
       "      <th>1</th>\n",
       "      <td>5</td>\n",
       "      <td>2</td>\n",
       "    </tr>\n",
       "    <tr>\n",
       "      <th>2</th>\n",
       "      <td>25</td>\n",
       "      <td>3</td>\n",
       "    </tr>\n",
       "    <tr>\n",
       "      <th>3</th>\n",
       "      <td>25</td>\n",
       "      <td>4</td>\n",
       "    </tr>\n",
       "    <tr>\n",
       "      <th>4</th>\n",
       "      <td>25</td>\n",
       "      <td>7</td>\n",
       "    </tr>\n",
       "  </tbody>\n",
       "</table>\n",
       "</div>"
      ],
      "text/plain": [
       "   max_act  CID\n",
       "0        0    1\n",
       "1        5    2\n",
       "2       25    3\n",
       "3       25    4\n",
       "4       25    7"
      ]
     },
     "execution_count": 13,
     "metadata": {},
     "output_type": "execute_result"
    }
   ],
   "source": [
    "df3.head()"
   ]
  },
  {
   "cell_type": "code",
   "execution_count": 14,
   "metadata": {},
   "outputs": [
    {
     "data": {
      "text/html": [
       "<div>\n",
       "<style scoped>\n",
       "    .dataframe tbody tr th:only-of-type {\n",
       "        vertical-align: middle;\n",
       "    }\n",
       "\n",
       "    .dataframe tbody tr th {\n",
       "        vertical-align: top;\n",
       "    }\n",
       "\n",
       "    .dataframe thead th {\n",
       "        text-align: right;\n",
       "    }\n",
       "</style>\n",
       "<table border=\"1\" class=\"dataframe\">\n",
       "  <thead>\n",
       "    <tr style=\"text-align: right;\">\n",
       "      <th></th>\n",
       "      <th>COID</th>\n",
       "      <th>CAP</th>\n",
       "      <th>ACT</th>\n",
       "      <th>REM</th>\n",
       "      <th>COUNT_OF_FACULTY_PER_PROGRAM</th>\n",
       "      <th>COUNT_OF_COURSES</th>\n",
       "      <th>MAX_ACT</th>\n",
       "      <th>AVG_ACT</th>\n",
       "      <th>COUNT_CLASSES_PER_BLDG</th>\n",
       "      <th>TERMID</th>\n",
       "      <th>CID</th>\n",
       "      <th>LID</th>\n",
       "      <th>FID</th>\n",
       "    </tr>\n",
       "  </thead>\n",
       "  <tbody>\n",
       "    <tr>\n",
       "      <th>0</th>\n",
       "      <td>1</td>\n",
       "      <td>27</td>\n",
       "      <td>27</td>\n",
       "      <td>0</td>\n",
       "      <td>None</td>\n",
       "      <td>None</td>\n",
       "      <td>27</td>\n",
       "      <td>23.317919</td>\n",
       "      <td>None</td>\n",
       "      <td>1</td>\n",
       "      <td>1369</td>\n",
       "      <td>1</td>\n",
       "      <td>125</td>\n",
       "    </tr>\n",
       "    <tr>\n",
       "      <th>1</th>\n",
       "      <td>2</td>\n",
       "      <td>27</td>\n",
       "      <td>27</td>\n",
       "      <td>0</td>\n",
       "      <td>None</td>\n",
       "      <td>None</td>\n",
       "      <td>27</td>\n",
       "      <td>23.317919</td>\n",
       "      <td>None</td>\n",
       "      <td>2</td>\n",
       "      <td>1369</td>\n",
       "      <td>1</td>\n",
       "      <td>125</td>\n",
       "    </tr>\n",
       "    <tr>\n",
       "      <th>2</th>\n",
       "      <td>3</td>\n",
       "      <td>27</td>\n",
       "      <td>27</td>\n",
       "      <td>0</td>\n",
       "      <td>None</td>\n",
       "      <td>None</td>\n",
       "      <td>27</td>\n",
       "      <td>23.317919</td>\n",
       "      <td>None</td>\n",
       "      <td>3</td>\n",
       "      <td>1369</td>\n",
       "      <td>1</td>\n",
       "      <td>125</td>\n",
       "    </tr>\n",
       "    <tr>\n",
       "      <th>3</th>\n",
       "      <td>4</td>\n",
       "      <td>27</td>\n",
       "      <td>27</td>\n",
       "      <td>0</td>\n",
       "      <td>None</td>\n",
       "      <td>None</td>\n",
       "      <td>27</td>\n",
       "      <td>23.317919</td>\n",
       "      <td>None</td>\n",
       "      <td>4</td>\n",
       "      <td>1369</td>\n",
       "      <td>1</td>\n",
       "      <td>125</td>\n",
       "    </tr>\n",
       "    <tr>\n",
       "      <th>4</th>\n",
       "      <td>5</td>\n",
       "      <td>27</td>\n",
       "      <td>27</td>\n",
       "      <td>0</td>\n",
       "      <td>None</td>\n",
       "      <td>None</td>\n",
       "      <td>27</td>\n",
       "      <td>23.317919</td>\n",
       "      <td>None</td>\n",
       "      <td>5</td>\n",
       "      <td>1369</td>\n",
       "      <td>1</td>\n",
       "      <td>125</td>\n",
       "    </tr>\n",
       "  </tbody>\n",
       "</table>\n",
       "</div>"
      ],
      "text/plain": [
       "   COID  CAP  ACT  REM COUNT_OF_FACULTY_PER_PROGRAM COUNT_OF_COURSES  MAX_ACT  \\\n",
       "0     1   27   27    0                         None             None       27   \n",
       "1     2   27   27    0                         None             None       27   \n",
       "2     3   27   27    0                         None             None       27   \n",
       "3     4   27   27    0                         None             None       27   \n",
       "4     5   27   27    0                         None             None       27   \n",
       "\n",
       "     AVG_ACT COUNT_CLASSES_PER_BLDG  TERMID   CID  LID  FID  \n",
       "0  23.317919                   None       1  1369    1  125  \n",
       "1  23.317919                   None       2  1369    1  125  \n",
       "2  23.317919                   None       3  1369    1  125  \n",
       "3  23.317919                   None       4  1369    1  125  \n",
       "4  23.317919                   None       5  1369    1  125  "
      ]
     },
     "execution_count": 14,
     "metadata": {},
     "output_type": "execute_result"
    }
   ],
   "source": [
    "# merge the little dataframes onto the big one\n",
    "df=df.merge(df2, on='CID', how='left')\n",
    "df = df.merge(df3, on='CID', how = 'left')\n",
    "\n",
    "#set the empty columns to the newly added colums\n",
    "df['MAX_ACT'] = df['max_act']\n",
    "df['AVG_ACT'] = df['avg_act']\n",
    "\n",
    "#drop the intermediate columns\n",
    "#yes, this could have been done more elegantly...\n",
    "df = df.drop(['avg_act', 'max_act'], axis = 1)\n",
    "df.head(5)"
   ]
  },
  {
   "cell_type": "markdown",
   "metadata": {},
   "source": [
    "### Fill in number of CID's for program code.\n",
    "\n",
    "These values will be incorrect due to our bug in the previous steps of or COURSE_W table.\n"
   ]
  },
  {
   "cell_type": "code",
   "execution_count": 15,
   "metadata": {},
   "outputs": [
    {
     "data": {
      "text/html": [
       "<div>\n",
       "<style scoped>\n",
       "    .dataframe tbody tr th:only-of-type {\n",
       "        vertical-align: middle;\n",
       "    }\n",
       "\n",
       "    .dataframe tbody tr th {\n",
       "        vertical-align: top;\n",
       "    }\n",
       "\n",
       "    .dataframe thead th {\n",
       "        text-align: right;\n",
       "    }\n",
       "</style>\n",
       "<table border=\"1\" class=\"dataframe\">\n",
       "  <thead>\n",
       "    <tr style=\"text-align: right;\">\n",
       "      <th></th>\n",
       "      <th>COID</th>\n",
       "      <th>CAP</th>\n",
       "      <th>ACT</th>\n",
       "      <th>REM</th>\n",
       "      <th>COUNT_OF_FACULTY_PER_PROGRAM</th>\n",
       "      <th>COUNT_OF_COURSES</th>\n",
       "      <th>MAX_ACT</th>\n",
       "      <th>AVG_ACT</th>\n",
       "      <th>COUNT_CLASSES_PER_BLDG</th>\n",
       "      <th>TERMID</th>\n",
       "      <th>CID</th>\n",
       "      <th>LID</th>\n",
       "      <th>FID</th>\n",
       "    </tr>\n",
       "  </thead>\n",
       "  <tbody>\n",
       "    <tr>\n",
       "      <th>0</th>\n",
       "      <td>1</td>\n",
       "      <td>27</td>\n",
       "      <td>27</td>\n",
       "      <td>0</td>\n",
       "      <td>None</td>\n",
       "      <td>19</td>\n",
       "      <td>27</td>\n",
       "      <td>23.317919</td>\n",
       "      <td>None</td>\n",
       "      <td>1</td>\n",
       "      <td>1369</td>\n",
       "      <td>1</td>\n",
       "      <td>125</td>\n",
       "    </tr>\n",
       "    <tr>\n",
       "      <th>1</th>\n",
       "      <td>2</td>\n",
       "      <td>27</td>\n",
       "      <td>27</td>\n",
       "      <td>0</td>\n",
       "      <td>None</td>\n",
       "      <td>19</td>\n",
       "      <td>27</td>\n",
       "      <td>23.317919</td>\n",
       "      <td>None</td>\n",
       "      <td>2</td>\n",
       "      <td>1369</td>\n",
       "      <td>1</td>\n",
       "      <td>125</td>\n",
       "    </tr>\n",
       "    <tr>\n",
       "      <th>2</th>\n",
       "      <td>3</td>\n",
       "      <td>27</td>\n",
       "      <td>27</td>\n",
       "      <td>0</td>\n",
       "      <td>None</td>\n",
       "      <td>19</td>\n",
       "      <td>27</td>\n",
       "      <td>23.317919</td>\n",
       "      <td>None</td>\n",
       "      <td>3</td>\n",
       "      <td>1369</td>\n",
       "      <td>1</td>\n",
       "      <td>125</td>\n",
       "    </tr>\n",
       "    <tr>\n",
       "      <th>3</th>\n",
       "      <td>4</td>\n",
       "      <td>27</td>\n",
       "      <td>27</td>\n",
       "      <td>0</td>\n",
       "      <td>None</td>\n",
       "      <td>19</td>\n",
       "      <td>27</td>\n",
       "      <td>23.317919</td>\n",
       "      <td>None</td>\n",
       "      <td>4</td>\n",
       "      <td>1369</td>\n",
       "      <td>1</td>\n",
       "      <td>125</td>\n",
       "    </tr>\n",
       "    <tr>\n",
       "      <th>4</th>\n",
       "      <td>5</td>\n",
       "      <td>27</td>\n",
       "      <td>27</td>\n",
       "      <td>0</td>\n",
       "      <td>None</td>\n",
       "      <td>19</td>\n",
       "      <td>27</td>\n",
       "      <td>23.317919</td>\n",
       "      <td>None</td>\n",
       "      <td>5</td>\n",
       "      <td>1369</td>\n",
       "      <td>1</td>\n",
       "      <td>125</td>\n",
       "    </tr>\n",
       "  </tbody>\n",
       "</table>\n",
       "</div>"
      ],
      "text/plain": [
       "   COID  CAP  ACT  REM COUNT_OF_FACULTY_PER_PROGRAM  COUNT_OF_COURSES  \\\n",
       "0     1   27   27    0                         None                19   \n",
       "1     2   27   27    0                         None                19   \n",
       "2     3   27   27    0                         None                19   \n",
       "3     4   27   27    0                         None                19   \n",
       "4     5   27   27    0                         None                19   \n",
       "\n",
       "   MAX_ACT    AVG_ACT COUNT_CLASSES_PER_BLDG  TERMID   CID  LID  FID  \n",
       "0       27  23.317919                   None       1  1369    1  125  \n",
       "1       27  23.317919                   None       2  1369    1  125  \n",
       "2       27  23.317919                   None       3  1369    1  125  \n",
       "3       27  23.317919                   None       4  1369    1  125  \n",
       "4       27  23.317919                   None       5  1369    1  125  "
      ]
     },
     "execution_count": 15,
     "metadata": {},
     "output_type": "execute_result"
    }
   ],
   "source": [
    "\n",
    "df4 = pd.read_sql('''\n",
    "SELECT  COUNT( DISTINCT CID), PROGRAM_CODE, CID\n",
    "FROM CLASS_FACTS_W\n",
    "    JOIN COURSE_W USING (CID)\n",
    "GROUP BY PROGRAM_CODE;''', con = conn)\n",
    "\n",
    "df = df.merge(df4, how = 'inner', on='CID')\n",
    "df['COUNT_OF_COURSES'] = df['COUNT( DISTINCT CID)']\n",
    "df = df.drop(['COUNT( DISTINCT CID)', 'PROGRAM_CODE'], axis = 1)\n",
    "df.head()"
   ]
  },
  {
   "cell_type": "code",
   "execution_count": 16,
   "metadata": {},
   "outputs": [
    {
     "data": {
      "text/html": [
       "<div>\n",
       "<style scoped>\n",
       "    .dataframe tbody tr th:only-of-type {\n",
       "        vertical-align: middle;\n",
       "    }\n",
       "\n",
       "    .dataframe tbody tr th {\n",
       "        vertical-align: top;\n",
       "    }\n",
       "\n",
       "    .dataframe thead th {\n",
       "        text-align: right;\n",
       "    }\n",
       "</style>\n",
       "<table border=\"1\" class=\"dataframe\">\n",
       "  <thead>\n",
       "    <tr style=\"text-align: right;\">\n",
       "      <th></th>\n",
       "      <th>COID</th>\n",
       "      <th>CAP</th>\n",
       "      <th>ACT</th>\n",
       "      <th>REM</th>\n",
       "      <th>COUNT_OF_FACULTY_PER_PROGRAM</th>\n",
       "      <th>COUNT_OF_COURSES</th>\n",
       "      <th>MAX_ACT</th>\n",
       "      <th>AVG_ACT</th>\n",
       "      <th>COUNT_CLASSES_PER_BLDG</th>\n",
       "      <th>TERMID</th>\n",
       "      <th>CID</th>\n",
       "      <th>LID</th>\n",
       "      <th>FID</th>\n",
       "    </tr>\n",
       "  </thead>\n",
       "  <tbody>\n",
       "    <tr>\n",
       "      <th>783</th>\n",
       "      <td>162</td>\n",
       "      <td>28</td>\n",
       "      <td>27</td>\n",
       "      <td>1</td>\n",
       "      <td>None</td>\n",
       "      <td>54</td>\n",
       "      <td>29</td>\n",
       "      <td>28.100000</td>\n",
       "      <td>None</td>\n",
       "      <td>2</td>\n",
       "      <td>739</td>\n",
       "      <td>36</td>\n",
       "      <td>622</td>\n",
       "    </tr>\n",
       "    <tr>\n",
       "      <th>583</th>\n",
       "      <td>24051</td>\n",
       "      <td>19</td>\n",
       "      <td>17</td>\n",
       "      <td>2</td>\n",
       "      <td>None</td>\n",
       "      <td>37</td>\n",
       "      <td>25</td>\n",
       "      <td>18.301038</td>\n",
       "      <td>None</td>\n",
       "      <td>6</td>\n",
       "      <td>1288</td>\n",
       "      <td>80</td>\n",
       "      <td>171</td>\n",
       "    </tr>\n",
       "    <tr>\n",
       "      <th>654</th>\n",
       "      <td>27183</td>\n",
       "      <td>25</td>\n",
       "      <td>25</td>\n",
       "      <td>0</td>\n",
       "      <td>None</td>\n",
       "      <td>61</td>\n",
       "      <td>30</td>\n",
       "      <td>26.857143</td>\n",
       "      <td>None</td>\n",
       "      <td>8</td>\n",
       "      <td>526</td>\n",
       "      <td>171</td>\n",
       "      <td>467</td>\n",
       "    </tr>\n",
       "    <tr>\n",
       "      <th>669</th>\n",
       "      <td>58</td>\n",
       "      <td>15</td>\n",
       "      <td>14</td>\n",
       "      <td>1</td>\n",
       "      <td>None</td>\n",
       "      <td>72</td>\n",
       "      <td>15</td>\n",
       "      <td>14.000000</td>\n",
       "      <td>None</td>\n",
       "      <td>3</td>\n",
       "      <td>1361</td>\n",
       "      <td>14</td>\n",
       "      <td>164</td>\n",
       "    </tr>\n",
       "    <tr>\n",
       "      <th>1869</th>\n",
       "      <td>3595</td>\n",
       "      <td>25</td>\n",
       "      <td>21</td>\n",
       "      <td>4</td>\n",
       "      <td>None</td>\n",
       "      <td>12</td>\n",
       "      <td>25</td>\n",
       "      <td>22.500000</td>\n",
       "      <td>None</td>\n",
       "      <td>5</td>\n",
       "      <td>2855</td>\n",
       "      <td>2</td>\n",
       "      <td>877</td>\n",
       "    </tr>\n",
       "  </tbody>\n",
       "</table>\n",
       "</div>"
      ],
      "text/plain": [
       "       COID  CAP  ACT  REM COUNT_OF_FACULTY_PER_PROGRAM  COUNT_OF_COURSES  \\\n",
       "783     162   28   27    1                         None                54   \n",
       "583   24051   19   17    2                         None                37   \n",
       "654   27183   25   25    0                         None                61   \n",
       "669      58   15   14    1                         None                72   \n",
       "1869   3595   25   21    4                         None                12   \n",
       "\n",
       "      MAX_ACT    AVG_ACT COUNT_CLASSES_PER_BLDG  TERMID   CID  LID  FID  \n",
       "783        29  28.100000                   None       2   739   36  622  \n",
       "583        25  18.301038                   None       6  1288   80  171  \n",
       "654        30  26.857143                   None       8   526  171  467  \n",
       "669        15  14.000000                   None       3  1361   14  164  \n",
       "1869       25  22.500000                   None       5  2855    2  877  "
      ]
     },
     "execution_count": 16,
     "metadata": {},
     "output_type": "execute_result"
    }
   ],
   "source": [
    "df.sample(5)"
   ]
  },
  {
   "cell_type": "markdown",
   "metadata": {},
   "source": [
    "### Fill in the count of faculty per program code.\n",
    "\n",
    "These values are also incorrect."
   ]
  },
  {
   "cell_type": "code",
   "execution_count": 17,
   "metadata": {},
   "outputs": [
    {
     "data": {
      "text/html": [
       "<div>\n",
       "<style scoped>\n",
       "    .dataframe tbody tr th:only-of-type {\n",
       "        vertical-align: middle;\n",
       "    }\n",
       "\n",
       "    .dataframe tbody tr th {\n",
       "        vertical-align: top;\n",
       "    }\n",
       "\n",
       "    .dataframe thead th {\n",
       "        text-align: right;\n",
       "    }\n",
       "</style>\n",
       "<table border=\"1\" class=\"dataframe\">\n",
       "  <thead>\n",
       "    <tr style=\"text-align: right;\">\n",
       "      <th></th>\n",
       "      <th>COUNT(DISTINCT FID)</th>\n",
       "      <th>PROGRAM_CODE</th>\n",
       "      <th>CID</th>\n",
       "    </tr>\n",
       "  </thead>\n",
       "  <tbody>\n",
       "    <tr>\n",
       "      <th>0</th>\n",
       "      <td>90</td>\n",
       "      <td>AC</td>\n",
       "      <td>1448</td>\n",
       "    </tr>\n",
       "    <tr>\n",
       "      <th>1</th>\n",
       "      <td>35</td>\n",
       "      <td>AE</td>\n",
       "      <td>66</td>\n",
       "    </tr>\n",
       "    <tr>\n",
       "      <th>2</th>\n",
       "      <td>25</td>\n",
       "      <td>AH</td>\n",
       "      <td>1520</td>\n",
       "    </tr>\n",
       "    <tr>\n",
       "      <th>3</th>\n",
       "      <td>3</td>\n",
       "      <td>AN</td>\n",
       "      <td>2980</td>\n",
       "    </tr>\n",
       "    <tr>\n",
       "      <th>4</th>\n",
       "      <td>1</td>\n",
       "      <td>AR</td>\n",
       "      <td>2964</td>\n",
       "    </tr>\n",
       "  </tbody>\n",
       "</table>\n",
       "</div>"
      ],
      "text/plain": [
       "   COUNT(DISTINCT FID) PROGRAM_CODE   CID\n",
       "0                   90           AC  1448\n",
       "1                   35           AE    66\n",
       "2                   25           AH  1520\n",
       "3                    3           AN  2980\n",
       "4                    1           AR  2964"
      ]
     },
     "execution_count": 17,
     "metadata": {},
     "output_type": "execute_result"
    }
   ],
   "source": [
    "##get the count of faculty by program code\n",
    "\n",
    "df5 = pd.read_sql('''\n",
    "SELECT COUNT(DISTINCT FID), PROGRAM_CODE, CID\n",
    "FROM CLASS_FACTS_W\n",
    "    JOIN COURSE_W USING (CID)\n",
    "    GROUP BY PROGRAM_CODE''',\n",
    "                  con = conn)\n",
    "\n",
    "df5.head(5)"
   ]
  },
  {
   "cell_type": "code",
   "execution_count": 18,
   "metadata": {},
   "outputs": [
    {
     "data": {
      "text/html": [
       "<div>\n",
       "<style scoped>\n",
       "    .dataframe tbody tr th:only-of-type {\n",
       "        vertical-align: middle;\n",
       "    }\n",
       "\n",
       "    .dataframe tbody tr th {\n",
       "        vertical-align: top;\n",
       "    }\n",
       "\n",
       "    .dataframe thead th {\n",
       "        text-align: right;\n",
       "    }\n",
       "</style>\n",
       "<table border=\"1\" class=\"dataframe\">\n",
       "  <thead>\n",
       "    <tr style=\"text-align: right;\">\n",
       "      <th></th>\n",
       "      <th>COID</th>\n",
       "      <th>CAP</th>\n",
       "      <th>ACT</th>\n",
       "      <th>REM</th>\n",
       "      <th>COUNT_OF_FACULTY_PER_PROGRAM</th>\n",
       "      <th>COUNT_OF_COURSES</th>\n",
       "      <th>MAX_ACT</th>\n",
       "      <th>AVG_ACT</th>\n",
       "      <th>COUNT_CLASSES_PER_BLDG</th>\n",
       "      <th>TERMID</th>\n",
       "      <th>CID</th>\n",
       "      <th>LID</th>\n",
       "      <th>FID</th>\n",
       "    </tr>\n",
       "  </thead>\n",
       "  <tbody>\n",
       "    <tr>\n",
       "      <th>0</th>\n",
       "      <td>1</td>\n",
       "      <td>27</td>\n",
       "      <td>27</td>\n",
       "      <td>0</td>\n",
       "      <td>25</td>\n",
       "      <td>19</td>\n",
       "      <td>27</td>\n",
       "      <td>23.317919</td>\n",
       "      <td>None</td>\n",
       "      <td>1</td>\n",
       "      <td>1369</td>\n",
       "      <td>1</td>\n",
       "      <td>125</td>\n",
       "    </tr>\n",
       "    <tr>\n",
       "      <th>1</th>\n",
       "      <td>2</td>\n",
       "      <td>27</td>\n",
       "      <td>27</td>\n",
       "      <td>0</td>\n",
       "      <td>25</td>\n",
       "      <td>19</td>\n",
       "      <td>27</td>\n",
       "      <td>23.317919</td>\n",
       "      <td>None</td>\n",
       "      <td>2</td>\n",
       "      <td>1369</td>\n",
       "      <td>1</td>\n",
       "      <td>125</td>\n",
       "    </tr>\n",
       "    <tr>\n",
       "      <th>2</th>\n",
       "      <td>3</td>\n",
       "      <td>27</td>\n",
       "      <td>27</td>\n",
       "      <td>0</td>\n",
       "      <td>25</td>\n",
       "      <td>19</td>\n",
       "      <td>27</td>\n",
       "      <td>23.317919</td>\n",
       "      <td>None</td>\n",
       "      <td>3</td>\n",
       "      <td>1369</td>\n",
       "      <td>1</td>\n",
       "      <td>125</td>\n",
       "    </tr>\n",
       "    <tr>\n",
       "      <th>3</th>\n",
       "      <td>4</td>\n",
       "      <td>27</td>\n",
       "      <td>27</td>\n",
       "      <td>0</td>\n",
       "      <td>25</td>\n",
       "      <td>19</td>\n",
       "      <td>27</td>\n",
       "      <td>23.317919</td>\n",
       "      <td>None</td>\n",
       "      <td>4</td>\n",
       "      <td>1369</td>\n",
       "      <td>1</td>\n",
       "      <td>125</td>\n",
       "    </tr>\n",
       "    <tr>\n",
       "      <th>4</th>\n",
       "      <td>5</td>\n",
       "      <td>27</td>\n",
       "      <td>27</td>\n",
       "      <td>0</td>\n",
       "      <td>25</td>\n",
       "      <td>19</td>\n",
       "      <td>27</td>\n",
       "      <td>23.317919</td>\n",
       "      <td>None</td>\n",
       "      <td>5</td>\n",
       "      <td>1369</td>\n",
       "      <td>1</td>\n",
       "      <td>125</td>\n",
       "    </tr>\n",
       "  </tbody>\n",
       "</table>\n",
       "</div>"
      ],
      "text/plain": [
       "   COID  CAP  ACT  REM  COUNT_OF_FACULTY_PER_PROGRAM  COUNT_OF_COURSES  \\\n",
       "0     1   27   27    0                            25                19   \n",
       "1     2   27   27    0                            25                19   \n",
       "2     3   27   27    0                            25                19   \n",
       "3     4   27   27    0                            25                19   \n",
       "4     5   27   27    0                            25                19   \n",
       "\n",
       "   MAX_ACT    AVG_ACT COUNT_CLASSES_PER_BLDG  TERMID   CID  LID  FID  \n",
       "0       27  23.317919                   None       1  1369    1  125  \n",
       "1       27  23.317919                   None       2  1369    1  125  \n",
       "2       27  23.317919                   None       3  1369    1  125  \n",
       "3       27  23.317919                   None       4  1369    1  125  \n",
       "4       27  23.317919                   None       5  1369    1  125  "
      ]
     },
     "execution_count": 18,
     "metadata": {},
     "output_type": "execute_result"
    }
   ],
   "source": [
    "df = df.merge(df5, how = 'inner', on='CID')\n",
    "df['COUNT_OF_FACULTY_PER_PROGRAM'] = df['COUNT(DISTINCT FID)']\n",
    "df = df.drop(['COUNT(DISTINCT FID)', 'PROGRAM_CODE'], axis = 1)\n",
    "df.head()"
   ]
  },
  {
   "cell_type": "code",
   "execution_count": 19,
   "metadata": {},
   "outputs": [],
   "source": [
    "df6 = pd.read_sql('''SELECT * FROM CLASS_FACTS_W JOIN LOCATION USING (LID)''', conn)\n"
   ]
  },
  {
   "cell_type": "markdown",
   "metadata": {},
   "source": [
    "### Fill in the number of classes per building. "
   ]
  },
  {
   "cell_type": "code",
   "execution_count": 20,
   "metadata": {},
   "outputs": [
    {
     "data": {
      "text/html": [
       "<div>\n",
       "<style scoped>\n",
       "    .dataframe tbody tr th:only-of-type {\n",
       "        vertical-align: middle;\n",
       "    }\n",
       "\n",
       "    .dataframe tbody tr th {\n",
       "        vertical-align: top;\n",
       "    }\n",
       "\n",
       "    .dataframe thead th {\n",
       "        text-align: right;\n",
       "    }\n",
       "</style>\n",
       "<table border=\"1\" class=\"dataframe\">\n",
       "  <thead>\n",
       "    <tr style=\"text-align: right;\">\n",
       "      <th></th>\n",
       "      <th>COUNT_OF_CLASS_PER_BUILDING</th>\n",
       "      <th>LID</th>\n",
       "    </tr>\n",
       "  </thead>\n",
       "  <tbody>\n",
       "    <tr>\n",
       "      <th>0</th>\n",
       "      <td>70</td>\n",
       "      <td>1</td>\n",
       "    </tr>\n",
       "    <tr>\n",
       "      <th>1</th>\n",
       "      <td>67</td>\n",
       "      <td>2</td>\n",
       "    </tr>\n",
       "    <tr>\n",
       "      <th>2</th>\n",
       "      <td>44</td>\n",
       "      <td>3</td>\n",
       "    </tr>\n",
       "    <tr>\n",
       "      <th>3</th>\n",
       "      <td>59</td>\n",
       "      <td>4</td>\n",
       "    </tr>\n",
       "    <tr>\n",
       "      <th>4</th>\n",
       "      <td>47</td>\n",
       "      <td>5</td>\n",
       "    </tr>\n",
       "  </tbody>\n",
       "</table>\n",
       "</div>"
      ],
      "text/plain": [
       "   COUNT_OF_CLASS_PER_BUILDING  LID\n",
       "0                           70    1\n",
       "1                           67    2\n",
       "2                           44    3\n",
       "3                           59    4\n",
       "4                           47    5"
      ]
     },
     "execution_count": 20,
     "metadata": {},
     "output_type": "execute_result"
    }
   ],
   "source": [
    "q2 ='''SELECT COUNT(DISTINCT CID) AS COUNT_OF_CLASS_PER_BUILDING, LID FROM df6 GROUP BY LID'''\n",
    "df10 = pd.DataFrame(ps.sqldf(q2, locals()))\n",
    "df10.head()"
   ]
  },
  {
   "cell_type": "code",
   "execution_count": 21,
   "metadata": {},
   "outputs": [
    {
     "data": {
      "text/html": [
       "<div>\n",
       "<style scoped>\n",
       "    .dataframe tbody tr th:only-of-type {\n",
       "        vertical-align: middle;\n",
       "    }\n",
       "\n",
       "    .dataframe tbody tr th {\n",
       "        vertical-align: top;\n",
       "    }\n",
       "\n",
       "    .dataframe thead th {\n",
       "        text-align: right;\n",
       "    }\n",
       "</style>\n",
       "<table border=\"1\" class=\"dataframe\">\n",
       "  <thead>\n",
       "    <tr style=\"text-align: right;\">\n",
       "      <th></th>\n",
       "      <th>COID</th>\n",
       "      <th>CAP</th>\n",
       "      <th>ACT</th>\n",
       "      <th>REM</th>\n",
       "      <th>COUNT_OF_FACULTY_PER_PROGRAM</th>\n",
       "      <th>COUNT_OF_COURSES</th>\n",
       "      <th>MAX_ACT</th>\n",
       "      <th>AVG_ACT</th>\n",
       "      <th>COUNT_CLASSES_PER_BLDG</th>\n",
       "      <th>TERMID</th>\n",
       "      <th>CID</th>\n",
       "      <th>LID</th>\n",
       "      <th>FID</th>\n",
       "      <th>COUNT_OF_CLASS_PER_BUILDING</th>\n",
       "    </tr>\n",
       "  </thead>\n",
       "  <tbody>\n",
       "    <tr>\n",
       "      <th>0</th>\n",
       "      <td>1</td>\n",
       "      <td>27</td>\n",
       "      <td>27</td>\n",
       "      <td>0</td>\n",
       "      <td>25</td>\n",
       "      <td>19</td>\n",
       "      <td>27</td>\n",
       "      <td>23.317919</td>\n",
       "      <td>70</td>\n",
       "      <td>1</td>\n",
       "      <td>1369</td>\n",
       "      <td>1</td>\n",
       "      <td>125</td>\n",
       "      <td>70</td>\n",
       "    </tr>\n",
       "    <tr>\n",
       "      <th>1</th>\n",
       "      <td>2</td>\n",
       "      <td>27</td>\n",
       "      <td>27</td>\n",
       "      <td>0</td>\n",
       "      <td>25</td>\n",
       "      <td>19</td>\n",
       "      <td>27</td>\n",
       "      <td>23.317919</td>\n",
       "      <td>70</td>\n",
       "      <td>2</td>\n",
       "      <td>1369</td>\n",
       "      <td>1</td>\n",
       "      <td>125</td>\n",
       "      <td>70</td>\n",
       "    </tr>\n",
       "    <tr>\n",
       "      <th>2</th>\n",
       "      <td>3</td>\n",
       "      <td>27</td>\n",
       "      <td>27</td>\n",
       "      <td>0</td>\n",
       "      <td>25</td>\n",
       "      <td>19</td>\n",
       "      <td>27</td>\n",
       "      <td>23.317919</td>\n",
       "      <td>70</td>\n",
       "      <td>3</td>\n",
       "      <td>1369</td>\n",
       "      <td>1</td>\n",
       "      <td>125</td>\n",
       "      <td>70</td>\n",
       "    </tr>\n",
       "    <tr>\n",
       "      <th>3</th>\n",
       "      <td>4</td>\n",
       "      <td>27</td>\n",
       "      <td>27</td>\n",
       "      <td>0</td>\n",
       "      <td>25</td>\n",
       "      <td>19</td>\n",
       "      <td>27</td>\n",
       "      <td>23.317919</td>\n",
       "      <td>70</td>\n",
       "      <td>4</td>\n",
       "      <td>1369</td>\n",
       "      <td>1</td>\n",
       "      <td>125</td>\n",
       "      <td>70</td>\n",
       "    </tr>\n",
       "    <tr>\n",
       "      <th>4</th>\n",
       "      <td>5</td>\n",
       "      <td>27</td>\n",
       "      <td>27</td>\n",
       "      <td>0</td>\n",
       "      <td>25</td>\n",
       "      <td>19</td>\n",
       "      <td>27</td>\n",
       "      <td>23.317919</td>\n",
       "      <td>70</td>\n",
       "      <td>5</td>\n",
       "      <td>1369</td>\n",
       "      <td>1</td>\n",
       "      <td>125</td>\n",
       "      <td>70</td>\n",
       "    </tr>\n",
       "  </tbody>\n",
       "</table>\n",
       "</div>"
      ],
      "text/plain": [
       "   COID  CAP  ACT  REM  COUNT_OF_FACULTY_PER_PROGRAM  COUNT_OF_COURSES  \\\n",
       "0     1   27   27    0                            25                19   \n",
       "1     2   27   27    0                            25                19   \n",
       "2     3   27   27    0                            25                19   \n",
       "3     4   27   27    0                            25                19   \n",
       "4     5   27   27    0                            25                19   \n",
       "\n",
       "   MAX_ACT    AVG_ACT  COUNT_CLASSES_PER_BLDG  TERMID   CID  LID  FID  \\\n",
       "0       27  23.317919                      70       1  1369    1  125   \n",
       "1       27  23.317919                      70       2  1369    1  125   \n",
       "2       27  23.317919                      70       3  1369    1  125   \n",
       "3       27  23.317919                      70       4  1369    1  125   \n",
       "4       27  23.317919                      70       5  1369    1  125   \n",
       "\n",
       "   COUNT_OF_CLASS_PER_BUILDING  \n",
       "0                           70  \n",
       "1                           70  \n",
       "2                           70  \n",
       "3                           70  \n",
       "4                           70  "
      ]
     },
     "execution_count": 21,
     "metadata": {},
     "output_type": "execute_result"
    }
   ],
   "source": [
    "df = df.merge(df10, on='LID', how='left')\n",
    "df['COUNT_CLASSES_PER_BLDG'] = df['COUNT_OF_CLASS_PER_BUILDING']\n",
    "df.drop('COUNT_OF_CLASS_PER_BUILDING', axis = 1)\n",
    "df.head()"
   ]
  },
  {
   "cell_type": "code",
   "execution_count": 22,
   "metadata": {},
   "outputs": [],
   "source": [
    "df.to_sql('CLASS_FACTS_W', conn, if_exists = 'replace')"
   ]
  },
  {
   "cell_type": "markdown",
   "metadata": {},
   "source": [
    "## Drop unnecessary tables\n",
    "\n",
    "(Keep commented out for now)"
   ]
  },
  {
   "cell_type": "code",
   "execution_count": 23,
   "metadata": {},
   "outputs": [
    {
     "name": "stdout",
     "output_type": "stream",
     "text": [
      " * sqlite:///CourseDataWarehouse.db\n",
      "0 rows affected.\n"
     ]
    },
    {
     "data": {
      "text/plain": [
       "[]"
      ]
     },
     "execution_count": 23,
     "metadata": {},
     "output_type": "execute_result"
    }
   ],
   "source": [
    "%%sql\n",
    "\n",
    "--DROP TABLE COURSE;\n",
    "--DROP TABLE PROGRAMS;\n",
    "--DROP TABLE COURSE_OFFERING;\n",
    "--DROP TABLE CLASS_MEETINGS;\n",
    "--DROP TABLE FACULTY;\n",
    "--DROP TABLE LOCATION;"
   ]
  },
  {
   "cell_type": "code",
   "execution_count": 24,
   "metadata": {},
   "outputs": [
    {
     "name": "stdout",
     "output_type": "stream",
     "text": [
      " * sqlite:///CourseDataWarehouse.db\n",
      "0 rows affected.\n"
     ]
    },
    {
     "data": {
      "text/plain": [
       "[]"
      ]
     },
     "execution_count": 24,
     "metadata": {},
     "output_type": "execute_result"
    }
   ],
   "source": [
    "%%sql\n",
    "\n",
    "--VACUUM"
   ]
  },
  {
   "cell_type": "code",
   "execution_count": null,
   "metadata": {},
   "outputs": [],
   "source": []
  }
 ],
 "metadata": {
  "kernelspec": {
   "display_name": "Python 3",
   "language": "python",
   "name": "python3"
  },
  "language_info": {
   "codemirror_mode": {
    "name": "ipython",
    "version": 3
   },
   "file_extension": ".py",
   "mimetype": "text/x-python",
   "name": "python",
   "nbconvert_exporter": "python",
   "pygments_lexer": "ipython3",
   "version": "3.6.5"
  }
 },
 "nbformat": 4,
 "nbformat_minor": 2
}
