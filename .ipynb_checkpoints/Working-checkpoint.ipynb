{
 "cells": [
  {
   "cell_type": "code",
   "execution_count": 1,
   "metadata": {},
   "outputs": [],
   "source": [
    "import pandas as pd\n",
    "import numpy as np\n",
    "import sqlite3\n",
    "import numpy as np\n",
    "conn = sqlite3.connect('CourseData.db')\n",
    "c = conn.cursor()"
   ]
  },
  {
   "cell_type": "code",
   "execution_count": 2,
   "metadata": {},
   "outputs": [
    {
     "data": {
      "text/plain": [
       "'Connected: @CourseData.db'"
      ]
     },
     "execution_count": 2,
     "metadata": {},
     "output_type": "execute_result"
    }
   ],
   "source": [
    "%load_ext sql\n",
    "%sql sqlite:///CourseData.db"
   ]
  },
  {
   "cell_type": "code",
   "execution_count": 3,
   "metadata": {},
   "outputs": [
    {
     "name": "stdout",
     "output_type": "stream",
     "text": [
      " * sqlite:///CourseData.db\n",
      "Done.\n",
      "Done.\n",
      "Done.\n",
      "Done.\n",
      "Done.\n",
      "Done.\n",
      "Done.\n"
     ]
    },
    {
     "data": {
      "text/plain": [
       "[]"
      ]
     },
     "execution_count": 3,
     "metadata": {},
     "output_type": "execute_result"
    }
   ],
   "source": [
    "%%sql\n",
    "\n",
    "DROP TABLE IF EXISTS IMPORT_Courses;\n",
    "DROP TABLE IF EXISTS IMPORT_Course_Meetings;\n",
    "DROP TABLE IF EXISTS IMPORT_CourseCatlog;\n",
    "DROP TABLE IF EXISTS IMPORT_Course_Catalog;\n",
    "\n",
    "CREATE TABLE IMPORT_Courses (\n",
    "    term TEXT,\n",
    "    crn TEXT,\n",
    "    catalog_id TEXT,\n",
    "    section TEXT,\n",
    "    credits TEXT,\n",
    "    title TEXT,\n",
    "    meetings TEXT,\n",
    "    timecodes TEXT,\n",
    "    primary_instructor TEXT,\n",
    "    cap INT,\n",
    "    act INT, \n",
    "    rem INT,\n",
    "    fname TEXT,\n",
    "    lname TEXT,\n",
    "    semester TEXT,\n",
    "    year TEXT\n",
    ");\n",
    "\n",
    "\n",
    "CREATE TABLE IMPORT_Course_Meetings(\n",
    "    crn TEXT,\n",
    "    location TEXT,\n",
    "    day TEXT,\n",
    "    start TEXT,\n",
    "    end TEXT,\n",
    "    term TEXT, \n",
    "    building TEXT, \n",
    "    room TEXT\n",
    ");\n",
    "\n",
    "CREATE TABLE IMPORT_Course_Catalog(\n",
    "    program_code TEXT,\n",
    "    program_name TEXT,\n",
    "    catalog_ID TEXT,\n",
    "    course_title TEXT,\n",
    "    credits TEXT,\n",
    "    prereqs TEXT,\n",
    "    coreqs TEXT,\n",
    "    fees TEXT,\n",
    "    attributes TEXT,\n",
    "    description TEXT,\n",
    "    EffectiveTerm TEXT\n",
    ");"
   ]
  },
  {
   "cell_type": "code",
   "execution_count": 4,
   "metadata": {},
   "outputs": [
    {
     "name": "stderr",
     "output_type": "stream",
     "text": [
      "/opt/tljh/user/lib/python3.6/site-packages/pandas/core/frame.py:6211: FutureWarning: Sorting because non-concatenation axis is not aligned. A future version\n",
      "of pandas will change to not sort by default.\n",
      "\n",
      "To accept the future behavior, pass 'sort=False'.\n",
      "\n",
      "To retain the current behavior and silence the warning, pass 'sort=True'.\n",
      "\n",
      "  sort=sort)\n"
     ]
    }
   ],
   "source": [
    "\n",
    "\n",
    "folder_names = ['Fall2014', 'Fall2015', 'Fall2016', 'Fall2017', 'Fall2018', 'Spring2015', 'Spring2016', 'Spring2017', 'Spring2018',\n",
    "               'Spring2019', 'SpringBreak2017', 'Summer2015', 'Summer2016', 'Summer2017', 'Summer2018', 'Winter2015', 'Winter2016', \n",
    "               'Winter2017', 'Winter2018']\n",
    "\n",
    "\n",
    "for file in folder_names:\n",
    "    data = 'SourceData/' + file + '/course_meetings.csv'\n",
    "    \n",
    "    if (file == folder_names[0]):\n",
    "        df = pd.read_csv(data)\n",
    "    else:\n",
    "        df = df.append(pd.read_csv(data), ignore_index=True)\n",
    "    \n",
    "    \n",
    "    location = list(df.location)\n",
    "    building = []\n",
    "    room = []\n",
    "\n",
    "    for loc in location:\n",
    "        loc = loc.strip(\"\\n ' '\")\n",
    "        data = loc.split(' ')\n",
    "\n",
    "        length = len(data)\n",
    "\n",
    "        if length == 2:\n",
    "            building.append(data[0])\n",
    "            room.append(data[1])\n",
    "        else:\n",
    "            building.append(data[0])\n",
    "            room.append('NULL')\n",
    "\n",
    "\n",
    "    df['building'] = building\n",
    "\n",
    "    df['room'] = room\n",
    "    \n",
    "df.to_sql('IMPORT_Course_Meetings', conn, if_exists='append', index=False)"
   ]
  },
  {
   "cell_type": "code",
   "execution_count": 5,
   "metadata": {},
   "outputs": [
    {
     "name": "stdout",
     "output_type": "stream",
     "text": [
      "  building    crn day                  end location room                start\n",
      "0      DSB  70384   T  2014-09-02T09:15:00  DSB 105  105  2014-09-02T08:00:00\n",
      "1      DSB  70384   F  2014-09-05T09:15:00  DSB 105  105  2014-09-05T08:00:00\n",
      "2      DSB  70384   T  2014-09-09T09:15:00  DSB 105  105  2014-09-09T08:00:00\n",
      "3      DSB  70384   F  2014-09-12T09:15:00  DSB 105  105  2014-09-12T08:00:00\n",
      "4      DSB  70384   T  2014-09-16T09:15:00  DSB 105  105  2014-09-16T08:00:00\n",
      "       building    crn day                  end location room  \\\n",
      "317316      LYL  11832   R  2018-01-04T16:30:00   LYL 22   22   \n",
      "317317      LYL  11832   F  2018-01-05T16:30:00   LYL 22   22   \n",
      "317318      LYL  11832   M  2018-01-08T16:30:00   LYL 22   22   \n",
      "317319      LYL  11832   T  2018-01-09T16:30:00   LYL 22   22   \n",
      "317320      LYL  11832   W  2018-01-10T16:30:00   LYL 22   22   \n",
      "\n",
      "                      start  \n",
      "317316  2018-01-04T08:30:00  \n",
      "317317  2018-01-05T08:30:00  \n",
      "317318  2018-01-08T08:30:00  \n",
      "317319  2018-01-09T08:30:00  \n",
      "317320  2018-01-10T08:30:00  \n"
     ]
    }
   ],
   "source": [
    "print(df.head())\n",
    "print(df.tail())"
   ]
  },
  {
   "cell_type": "code",
   "execution_count": 6,
   "metadata": {},
   "outputs": [
    {
     "name": "stderr",
     "output_type": "stream",
     "text": [
      "/opt/tljh/user/lib/python3.6/site-packages/pandas/core/frame.py:6211: FutureWarning: Sorting because non-concatenation axis is not aligned. A future version\n",
      "of pandas will change to not sort by default.\n",
      "\n",
      "To accept the future behavior, pass 'sort=False'.\n",
      "\n",
      "To retain the current behavior and silence the warning, pass 'sort=True'.\n",
      "\n",
      "  sort=sort)\n"
     ]
    }
   ],
   "source": [
    "folder_names = ['Fall2014', 'Fall2015', 'Fall2016', 'Fall2017', 'Fall2018', 'Spring2015', 'Spring2016', 'Spring2017', 'Spring2018',\n",
    "               'Spring2019', 'SpringBreak2017', 'Summer2015', 'Summer2016', 'Summer2017', 'Summer2018', 'Winter2015', 'Winter2016', \n",
    "               'Winter2017', 'Winter2018']\n",
    "\n",
    "\n",
    "for file in folder_names:\n",
    "    data = 'SourceData/' + file + '/courses.csv'\n",
    "    \n",
    "    if (file == folder_names[0]):\n",
    "        df = pd.read_csv(data)\n",
    "    else:\n",
    "        df = df.append(pd.read_csv(data), ignore_index=True)\n",
    "        \n",
    "        \n",
    "        \n",
    "    \n",
    "    instructor = list(df.primary_instructor)\n",
    "    lname = []\n",
    "    fname = []\n",
    "\n",
    "    for name in instructor:\n",
    "        data = name.split('  ')\n",
    "\n",
    "        length = len(data)\n",
    "\n",
    "        if length == 2:\n",
    "            fname.append(data[0])\n",
    "            lname.append(data[1])\n",
    "        else:\n",
    "            fname.append('TBA')\n",
    "            lname.append('TBA')\n",
    "\n",
    "\n",
    "    df['fname'] = fname\n",
    "\n",
    "    df['lname'] = lname\n",
    "    \n",
    "    \n",
    "    term = list(df.term)\n",
    "    semester = []\n",
    "    year = []\n",
    "    \n",
    "    for t in term:\n",
    "        data = t.split('2')\n",
    "        semester.append(data[0])\n",
    "        year_val = '2'+data[1]\n",
    "        year.append(year_val)\n",
    "        \n",
    "        \n",
    "    df['semester'] = semester\n",
    "    df['year'] = year_val\n",
    "\n",
    "df.to_sql('IMPORT_Courses', conn, if_exists='append', index=False)\n",
    "\n"
   ]
  },
  {
   "cell_type": "code",
   "execution_count": 7,
   "metadata": {},
   "outputs": [],
   "source": [
    "\n",
    "\n",
    "folder_names = ['SourceData/Catalogs/CourseCatalog2017_2018.csv', 'SourceData/Catalogs/CourseCatalog2018_2019.csv']\n",
    "\n",
    "df1 = pd.read_csv(folder_names[0])\n",
    "\n",
    "df1['EffectiveTerm'] = 'NaN'\n",
    "\n",
    "df1['EffectiveTerm'] = df1['EffectiveTerm'].replace('NaN', '2017-2018')\n",
    "\n",
    "df2 = pd.read_csv(folder_names[1])\n",
    "\n",
    "df2['EffectiveTerm'] = 'NaN'\n",
    "\n",
    "df2['EffectiveTerm'] = df2['EffectiveTerm'].replace('NaN', '2018-2019')\n",
    "\n",
    "df3 = df1.append(df2, ignore_index=True)\n",
    "\n",
    "\n",
    "    \n",
    "df3.to_sql('IMPORT_Course_Catalog', conn, if_exists='append', index=False)"
   ]
  },
  {
   "cell_type": "markdown",
   "metadata": {},
   "source": [
    "## Closes Our conecction"
   ]
  },
  {
   "cell_type": "code",
   "execution_count": 9,
   "metadata": {},
   "outputs": [
    {
     "name": "stdout",
     "output_type": "stream",
     "text": [
      " * sqlite:///CourseData.db\n",
      "Done.\n"
     ]
    },
    {
     "data": {
      "text/html": [
       "<table>\n",
       "    <tr>\n",
       "        <th>COUNT(EffectiveTerm)</th>\n",
       "    </tr>\n",
       "    <tr>\n",
       "        <td>4423</td>\n",
       "    </tr>\n",
       "</table>"
      ],
      "text/plain": [
       "[(4423,)]"
      ]
     },
     "execution_count": 9,
     "metadata": {},
     "output_type": "execute_result"
    }
   ],
   "source": [
    "%%sql\n",
    "\n",
    "SELECT COUNT(EffectiveTerm) FROM IMPORT_Course_Catalog;"
   ]
  },
  {
   "cell_type": "code",
   "execution_count": 10,
   "metadata": {},
   "outputs": [
    {
     "name": "stdout",
     "output_type": "stream",
     "text": [
      " * sqlite:///CourseData.db\n",
      "Done.\n"
     ]
    },
    {
     "data": {
      "text/html": [
       "<table>\n",
       "    <tr>\n",
       "        <th>COUNT(lname)</th>\n",
       "    </tr>\n",
       "    <tr>\n",
       "        <td>15937</td>\n",
       "    </tr>\n",
       "</table>"
      ],
      "text/plain": [
       "[(15937,)]"
      ]
     },
     "execution_count": 10,
     "metadata": {},
     "output_type": "execute_result"
    }
   ],
   "source": [
    "%%sql\n",
    "\n",
    "SELECT COUNT(lname) FROM IMPORT_Courses;"
   ]
  },
  {
   "cell_type": "code",
   "execution_count": 11,
   "metadata": {},
   "outputs": [
    {
     "name": "stdout",
     "output_type": "stream",
     "text": [
      " * sqlite:///CourseData.db\n",
      "Done.\n"
     ]
    },
    {
     "data": {
      "text/html": [
       "<table>\n",
       "    <tr>\n",
       "        <th>COUNT(building)</th>\n",
       "    </tr>\n",
       "    <tr>\n",
       "        <td>317321</td>\n",
       "    </tr>\n",
       "</table>"
      ],
      "text/plain": [
       "[(317321,)]"
      ]
     },
     "execution_count": 11,
     "metadata": {},
     "output_type": "execute_result"
    }
   ],
   "source": [
    "%%sql\n",
    "\n",
    "SELECT COUNT(building) FROM IMPORT_Course_Meetings;"
   ]
  },
  {
   "cell_type": "code",
   "execution_count": null,
   "metadata": {},
   "outputs": [],
   "source": []
  },
  {
   "cell_type": "code",
   "execution_count": null,
   "metadata": {},
   "outputs": [],
   "source": []
  },
  {
   "cell_type": "code",
   "execution_count": null,
   "metadata": {},
   "outputs": [],
   "source": [
    "c.close()\n",
    "del c\n",
    "conn.close()"
   ]
  }
 ],
 "metadata": {
  "kernelspec": {
   "display_name": "Python 3",
   "language": "python",
   "name": "python3"
  },
  "language_info": {
   "codemirror_mode": {
    "name": "ipython",
    "version": 3
   },
   "file_extension": ".py",
   "mimetype": "text/x-python",
   "name": "python",
   "nbconvert_exporter": "python",
   "pygments_lexer": "ipython3",
   "version": "3.6.5"
  }
 },
 "nbformat": 4,
 "nbformat_minor": 2
}
