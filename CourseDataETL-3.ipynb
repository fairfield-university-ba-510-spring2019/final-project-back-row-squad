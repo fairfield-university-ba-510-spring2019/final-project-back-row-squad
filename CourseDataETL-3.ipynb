{
 "cells": [
  {
   "cell_type": "markdown",
   "metadata": {},
   "source": [
    "## ETL process\n",
    "\n",
    "In this notebook, we go through the etl process, yada yada yada\n"
   ]
  },
  {
   "cell_type": "markdown",
   "metadata": {},
   "source": [
    "Creating the database based on the ERD tables"
   ]
  },
  {
   "cell_type": "markdown",
   "metadata": {},
   "source": [
    "## Creating our Databse Tables from Our ERD"
   ]
  },
  {
   "cell_type": "code",
   "execution_count": 1,
   "metadata": {},
   "outputs": [],
   "source": [
    "import pandas as pd\n",
    "import numpy as np\n",
    "import sqlite3\n",
    "import numpy as np\n",
    "conn = sqlite3.connect('CourseData.db')\n",
    "c = conn.cursor()"
   ]
  },
  {
   "cell_type": "code",
   "execution_count": 2,
   "metadata": {},
   "outputs": [],
   "source": [
    "%load_ext sql"
   ]
  },
  {
   "cell_type": "code",
   "execution_count": 3,
   "metadata": {},
   "outputs": [
    {
     "data": {
      "text/plain": [
       "'Connected: @CourseData.db'"
      ]
     },
     "execution_count": 3,
     "metadata": {},
     "output_type": "execute_result"
    }
   ],
   "source": [
    "%%sql\n",
    "\n",
    "sqlite:///CourseData.db"
   ]
  },
  {
   "cell_type": "markdown",
   "metadata": {},
   "source": [
    "creating the separate tables.\n",
    "\n",
    "Creating Programs Table"
   ]
  },
  {
   "cell_type": "code",
   "execution_count": 4,
   "metadata": {},
   "outputs": [
    {
     "name": "stdout",
     "output_type": "stream",
     "text": [
      " * sqlite:///CourseData.db\n",
      "Done.\n",
      "Done.\n"
     ]
    },
    {
     "data": {
      "text/plain": [
       "[]"
      ]
     },
     "execution_count": 4,
     "metadata": {},
     "output_type": "execute_result"
    }
   ],
   "source": [
    "%%sql\n",
    "DROP TABLE IF EXISTS PROGRAMS;\n",
    "\n",
    "CREATE TABLE PROGRAMS ( \n",
    "    PID INTEGER PRIMARY KEY,\n",
    "    PROGRAMCODE TEXT NOT NULL,\n",
    "    PROGRAMNAME TEXT NOT NULL\n",
    ");\n"
   ]
  },
  {
   "cell_type": "markdown",
   "metadata": {},
   "source": [
    "Creating Faculty Table"
   ]
  },
  {
   "cell_type": "code",
   "execution_count": 5,
   "metadata": {},
   "outputs": [
    {
     "name": "stdout",
     "output_type": "stream",
     "text": [
      " * sqlite:///CourseData.db\n",
      "Done.\n",
      "Done.\n"
     ]
    },
    {
     "data": {
      "text/plain": [
       "[]"
      ]
     },
     "execution_count": 5,
     "metadata": {},
     "output_type": "execute_result"
    }
   ],
   "source": [
    "%%sql\n",
    "DROP TABLE IF EXISTS FACULTY;\n",
    "CREATE TABLE FACULTY ( \n",
    "    FID INTEGER PRIMARY KEY,\n",
    "    LNAME TEXT NOT NULL,\n",
    "    FNAME TEXT NOT NULL\n",
    ");\n"
   ]
  },
  {
   "cell_type": "markdown",
   "metadata": {},
   "source": [
    "Creating the Location Table"
   ]
  },
  {
   "cell_type": "code",
   "execution_count": 6,
   "metadata": {},
   "outputs": [
    {
     "name": "stdout",
     "output_type": "stream",
     "text": [
      " * sqlite:///CourseData.db\n",
      "Done.\n",
      "Done.\n"
     ]
    },
    {
     "data": {
      "text/plain": [
       "[]"
      ]
     },
     "execution_count": 6,
     "metadata": {},
     "output_type": "execute_result"
    }
   ],
   "source": [
    "%%sql\n",
    "DROP TABLE IF EXISTS LOCATION;\n",
    "\n",
    "CREATE TABLE LOCATION ( \n",
    "    LID INTEGER PRIMARY KEY,\n",
    "    BUILDING TEXT,\n",
    "    ROOM TEXT,\n",
    "    LOCATION TEXT\n",
    ");\n"
   ]
  },
  {
   "cell_type": "markdown",
   "metadata": {},
   "source": [
    "Creating the Course Table"
   ]
  },
  {
   "cell_type": "code",
   "execution_count": 7,
   "metadata": {},
   "outputs": [
    {
     "name": "stdout",
     "output_type": "stream",
     "text": [
      " * sqlite:///CourseData.db\n",
      "Done.\n",
      "Done.\n"
     ]
    },
    {
     "data": {
      "text/plain": [
       "[]"
      ]
     },
     "execution_count": 7,
     "metadata": {},
     "output_type": "execute_result"
    }
   ],
   "source": [
    "%%sql\n",
    "DROP TABLE IF EXISTS COURSE;\n",
    "CREATE TABLE COURSE ( \n",
    "    CID INTEGER PRIMARY KEY,\n",
    "    PID INTEGER NOT NULL,\n",
    "    EFFECTIVETERM TEXT NOT NULL,\n",
    "    CATALOG_ID TEXT NOT NULL,\n",
    "    COURSE_TITLE TEXT NOT NULL,\n",
    "    CREDITS TEXT NOT NULL,\n",
    "    PREREQS TEXT,\n",
    "    COREQS TEXT,\n",
    "    FEES REAL,\n",
    "    ATTRIBUTES TEXT,\n",
    "    DESCRIPTION TEXT,\n",
    "    FOREIGN KEY (PID) REFERENCES PROGRAMS (PID)\n",
    ");"
   ]
  },
  {
   "cell_type": "markdown",
   "metadata": {},
   "source": [
    "Creating teh Course_Offering Table"
   ]
  },
  {
   "cell_type": "code",
   "execution_count": 8,
   "metadata": {},
   "outputs": [
    {
     "name": "stdout",
     "output_type": "stream",
     "text": [
      " * sqlite:///CourseData.db\n",
      "Done.\n",
      "Done.\n"
     ]
    },
    {
     "data": {
      "text/plain": [
       "[]"
      ]
     },
     "execution_count": 8,
     "metadata": {},
     "output_type": "execute_result"
    }
   ],
   "source": [
    "%%sql\n",
    "DROP TABLE IF EXISTS COURSE_OFFERING;\n",
    "CREATE TABLE COURSE_OFFERING ( \n",
    "    COID INTEGER PRIMARY KEY,\n",
    "    CID INTEGER,\n",
    "    FID INTEGER NOT NULL,\n",
    "    CRN TEXT NOT NULL,\n",
    "    SEMESTER TEXT NOT NULL,\n",
    "    YEAR INTEGER NOT NULL,\n",
    "    TITLE TEXT NOT NULL,\n",
    "    CATALOG_ID TEXT,\n",
    "    TERM TEXT,\n",
    "    EffectiveTerm TEXT,\n",
    "    MEETINGS TEXT,\n",
    "    TIMECODES TEXT,\n",
    "    SECTION TEXT NOT NULL,\n",
    "    CAP INTEGER NOT NULL,\n",
    "    ACT INTEGER NOT NULL,\n",
    "    REM INTEGER NOT NULL,\n",
    "    LNAME TEXT,\n",
    "    FNAME TEXT,\n",
    "    FOREIGN KEY (CID) REFERENCES COURSE (CID)\n",
    "    FOREIGN KEY (FID) REFERENCES FACULTY (FID)\n",
    ");\n"
   ]
  },
  {
   "cell_type": "markdown",
   "metadata": {},
   "source": [
    "Creating the Class_Meetings Table"
   ]
  },
  {
   "cell_type": "code",
   "execution_count": 9,
   "metadata": {},
   "outputs": [
    {
     "name": "stdout",
     "output_type": "stream",
     "text": [
      " * sqlite:///CourseData.db\n",
      "Done.\n",
      "Done.\n"
     ]
    },
    {
     "data": {
      "text/plain": [
       "[]"
      ]
     },
     "execution_count": 9,
     "metadata": {},
     "output_type": "execute_result"
    }
   ],
   "source": [
    "%%sql\n",
    "DROP TABLE IF EXISTS CLASS_MEETINGS;\n",
    "CREATE TABLE CLASS_MEETINGS ( \n",
    "    CMID INTEGER PRIMARY KEY,\n",
    "    COID INTEGER,\n",
    "    LID INTEGER,\n",
    "    DAY TEXT,\n",
    "    START TEXT,\n",
    "    END TEXT,\n",
    "    CRN TEXT,\n",
    "    TERM TEXT,\n",
    "    FOREIGN KEY (LID) REFERENCES LOCATION (LID)\n",
    "    FOREIGN KEY (COID) REFERENCES COURSE_OFFERING (COID)\n",
    ");\n"
   ]
  },
  {
   "cell_type": "code",
   "execution_count": 10,
   "metadata": {},
   "outputs": [
    {
     "name": "stdout",
     "output_type": "stream",
     "text": [
      " * sqlite:///CourseData.db\n",
      "Done.\n",
      "Done.\n",
      "20 rows affected.\n"
     ]
    },
    {
     "data": {
      "text/plain": [
       "[]"
      ]
     },
     "execution_count": 10,
     "metadata": {},
     "output_type": "execute_result"
    }
   ],
   "source": [
    "%%sql \n",
    "\n",
    "DROP TABLE IF EXISTS CATALOG_YEAR;\n",
    "CREATE TABLE CATALOG_YEAR (\n",
    "    EFFECTIVETERM TEXT,\n",
    "    YEAR TEXT,\n",
    "    SEMESTER TEXT\n",
    ");\n",
    "\n",
    "INSERT INTO CATALOG_YEAR (Semester,Year,EffectiveTerm) VALUES \n",
    "('Fall','2014','2014-2015'),('Winter','2015','2014-2015'),('Spring','2015','2014-2015'),('Summer','2015','2014-2015'),\n",
    "('Fall','2015','2015-2016'),('Winter','2016','2015-2016'),('Spring','2016','2015-2016'),('Summer','2016','2015-2016'),\n",
    "('Fall','2016','2016-2017'),('Winter','2017','2016-2017'),('Spring','2017','2016-2017'),('SpringBreak','2017','2016-2017'),('Summer','2017','2016-2017'),\n",
    "('Fall','2017','2017-2018'),('Winter','2018','2017-2018'),('Spring','2018','2017-2018'),('Summer','2018','2017-2018'),\n",
    "('Fall','2018','2018-2019'),('Winter','2019','2018-2019'),('Spring','2019','2018-2019');"
   ]
  },
  {
   "cell_type": "markdown",
   "metadata": {},
   "source": [
    "## Make and Populate our IMPORT tables from our CSV Files"
   ]
  },
  {
   "cell_type": "code",
   "execution_count": 11,
   "metadata": {},
   "outputs": [
    {
     "name": "stdout",
     "output_type": "stream",
     "text": [
      " * sqlite:///CourseData.db\n",
      "Done.\n"
     ]
    },
    {
     "data": {
      "text/html": [
       "<table>\n",
       "    <tr>\n",
       "        <th>EFFECTIVETERM</th>\n",
       "        <th>YEAR</th>\n",
       "        <th>SEMESTER</th>\n",
       "    </tr>\n",
       "    <tr>\n",
       "        <td>2014-2015</td>\n",
       "        <td>2014</td>\n",
       "        <td>Fall</td>\n",
       "    </tr>\n",
       "    <tr>\n",
       "        <td>2014-2015</td>\n",
       "        <td>2015</td>\n",
       "        <td>Winter</td>\n",
       "    </tr>\n",
       "    <tr>\n",
       "        <td>2014-2015</td>\n",
       "        <td>2015</td>\n",
       "        <td>Spring</td>\n",
       "    </tr>\n",
       "    <tr>\n",
       "        <td>2014-2015</td>\n",
       "        <td>2015</td>\n",
       "        <td>Summer</td>\n",
       "    </tr>\n",
       "    <tr>\n",
       "        <td>2015-2016</td>\n",
       "        <td>2015</td>\n",
       "        <td>Fall</td>\n",
       "    </tr>\n",
       "    <tr>\n",
       "        <td>2015-2016</td>\n",
       "        <td>2016</td>\n",
       "        <td>Winter</td>\n",
       "    </tr>\n",
       "    <tr>\n",
       "        <td>2015-2016</td>\n",
       "        <td>2016</td>\n",
       "        <td>Spring</td>\n",
       "    </tr>\n",
       "    <tr>\n",
       "        <td>2015-2016</td>\n",
       "        <td>2016</td>\n",
       "        <td>Summer</td>\n",
       "    </tr>\n",
       "    <tr>\n",
       "        <td>2016-2017</td>\n",
       "        <td>2016</td>\n",
       "        <td>Fall</td>\n",
       "    </tr>\n",
       "    <tr>\n",
       "        <td>2016-2017</td>\n",
       "        <td>2017</td>\n",
       "        <td>Winter</td>\n",
       "    </tr>\n",
       "    <tr>\n",
       "        <td>2016-2017</td>\n",
       "        <td>2017</td>\n",
       "        <td>Spring</td>\n",
       "    </tr>\n",
       "    <tr>\n",
       "        <td>2016-2017</td>\n",
       "        <td>2017</td>\n",
       "        <td>SpringBreak</td>\n",
       "    </tr>\n",
       "    <tr>\n",
       "        <td>2016-2017</td>\n",
       "        <td>2017</td>\n",
       "        <td>Summer</td>\n",
       "    </tr>\n",
       "    <tr>\n",
       "        <td>2017-2018</td>\n",
       "        <td>2017</td>\n",
       "        <td>Fall</td>\n",
       "    </tr>\n",
       "    <tr>\n",
       "        <td>2017-2018</td>\n",
       "        <td>2018</td>\n",
       "        <td>Winter</td>\n",
       "    </tr>\n",
       "    <tr>\n",
       "        <td>2017-2018</td>\n",
       "        <td>2018</td>\n",
       "        <td>Spring</td>\n",
       "    </tr>\n",
       "    <tr>\n",
       "        <td>2017-2018</td>\n",
       "        <td>2018</td>\n",
       "        <td>Summer</td>\n",
       "    </tr>\n",
       "    <tr>\n",
       "        <td>2018-2019</td>\n",
       "        <td>2018</td>\n",
       "        <td>Fall</td>\n",
       "    </tr>\n",
       "    <tr>\n",
       "        <td>2018-2019</td>\n",
       "        <td>2019</td>\n",
       "        <td>Winter</td>\n",
       "    </tr>\n",
       "    <tr>\n",
       "        <td>2018-2019</td>\n",
       "        <td>2019</td>\n",
       "        <td>Spring</td>\n",
       "    </tr>\n",
       "</table>"
      ],
      "text/plain": [
       "[('2014-2015', '2014', 'Fall'),\n",
       " ('2014-2015', '2015', 'Winter'),\n",
       " ('2014-2015', '2015', 'Spring'),\n",
       " ('2014-2015', '2015', 'Summer'),\n",
       " ('2015-2016', '2015', 'Fall'),\n",
       " ('2015-2016', '2016', 'Winter'),\n",
       " ('2015-2016', '2016', 'Spring'),\n",
       " ('2015-2016', '2016', 'Summer'),\n",
       " ('2016-2017', '2016', 'Fall'),\n",
       " ('2016-2017', '2017', 'Winter'),\n",
       " ('2016-2017', '2017', 'Spring'),\n",
       " ('2016-2017', '2017', 'SpringBreak'),\n",
       " ('2016-2017', '2017', 'Summer'),\n",
       " ('2017-2018', '2017', 'Fall'),\n",
       " ('2017-2018', '2018', 'Winter'),\n",
       " ('2017-2018', '2018', 'Spring'),\n",
       " ('2017-2018', '2018', 'Summer'),\n",
       " ('2018-2019', '2018', 'Fall'),\n",
       " ('2018-2019', '2019', 'Winter'),\n",
       " ('2018-2019', '2019', 'Spring')]"
      ]
     },
     "execution_count": 11,
     "metadata": {},
     "output_type": "execute_result"
    }
   ],
   "source": [
    "%%sql \n",
    "\n",
    "SELECT * FROM CATALOG_YEAR;\n"
   ]
  },
  {
   "cell_type": "code",
   "execution_count": 12,
   "metadata": {},
   "outputs": [
    {
     "name": "stdout",
     "output_type": "stream",
     "text": [
      " * sqlite:///CourseData.db\n",
      "Done.\n",
      "Done.\n",
      "Done.\n",
      "Done.\n",
      "Done.\n",
      "Done.\n",
      "Done.\n"
     ]
    },
    {
     "data": {
      "text/plain": [
       "[]"
      ]
     },
     "execution_count": 12,
     "metadata": {},
     "output_type": "execute_result"
    }
   ],
   "source": [
    "%%sql\n",
    "\n",
    "DROP TABLE IF EXISTS IMPORT_Courses;\n",
    "DROP TABLE IF EXISTS IMPORT_Course_Meetings;\n",
    "DROP TABLE IF EXISTS IMPORT_CourseCatlog;\n",
    "DROP TABLE IF EXISTS IMPORT_Course_Catalog;\n",
    "\n",
    "CREATE TABLE IMPORT_Courses (\n",
    "    term TEXT,\n",
    "    crn TEXT,\n",
    "    catalog_id TEXT,\n",
    "    section TEXT,\n",
    "    credits TEXT,\n",
    "    title TEXT,\n",
    "    meetings TEXT,\n",
    "    timecodes TEXT,\n",
    "    primary_instructor TEXT,\n",
    "    cap INT,\n",
    "    act INT, \n",
    "    rem INT,\n",
    "    fname TEXT,\n",
    "    lname TEXT,\n",
    "    semester TEXT,\n",
    "    year TEXT\n",
    ");\n",
    "\n",
    "\n",
    "CREATE TABLE IMPORT_Course_Meetings(\n",
    "    crn TEXT,\n",
    "    location TEXT,\n",
    "    day TEXT,\n",
    "    start TEXT,\n",
    "    end TEXT,\n",
    "    term TEXT, \n",
    "    building TEXT, \n",
    "    room TEXT\n",
    ");\n",
    "\n",
    "CREATE TABLE IMPORT_Course_Catalog(\n",
    "    program_code TEXT,\n",
    "    program_name TEXT,\n",
    "    catalog_ID TEXT,\n",
    "    course_title TEXT,\n",
    "    credits TEXT,\n",
    "    prereqs TEXT,\n",
    "    coreqs TEXT,\n",
    "    fees TEXT,\n",
    "    attributes TEXT,\n",
    "    description TEXT,\n",
    "    EffectiveTerm TEXT\n",
    ");"
   ]
  },
  {
   "cell_type": "code",
   "execution_count": 13,
   "metadata": {},
   "outputs": [
    {
     "name": "stderr",
     "output_type": "stream",
     "text": [
      "/opt/tljh/user/lib/python3.6/site-packages/pandas/core/frame.py:6211: FutureWarning: Sorting because non-concatenation axis is not aligned. A future version\n",
      "of pandas will change to not sort by default.\n",
      "\n",
      "To accept the future behavior, pass 'sort=False'.\n",
      "\n",
      "To retain the current behavior and silence the warning, pass 'sort=True'.\n",
      "\n",
      "  sort=sort)\n"
     ]
    }
   ],
   "source": [
    "folder_names = ['Fall2014', 'Fall2015', 'Fall2016', 'Fall2017', 'Fall2018', 'Spring2015', 'Spring2016', 'Spring2017', 'Spring2018',\n",
    "               'Spring2019', 'SpringBreak2017', 'Summer2015', 'Summer2016', 'Summer2017', 'Summer2018', 'Winter2015', 'Winter2016', \n",
    "               'Winter2017', 'Winter2018']\n",
    "\n",
    "\n",
    "for file in folder_names:\n",
    "    data = 'SourceData/' + file + '/course_meetings.csv'\n",
    "    \n",
    "    if (file == folder_names[0]):\n",
    "        df = pd.read_csv(data)\n",
    "    else:\n",
    "        df = df.append(pd.read_csv(data), ignore_index=True)\n",
    "    \n",
    "    \n",
    "    location = list(df.location)\n",
    "    building = []\n",
    "    room = []\n",
    "\n",
    "    for loc in location:\n",
    "        loc = loc.strip(\"\\n ' '\")\n",
    "        data = loc.split(' ')\n",
    "\n",
    "        length = len(data)\n",
    "\n",
    "        if length == 2:\n",
    "            building.append(data[0])\n",
    "            room.append(data[1])\n",
    "        else:\n",
    "            building.append(data[0])\n",
    "            room.append('NULL')\n",
    "\n",
    "\n",
    "    df['building'] = building\n",
    "\n",
    "    df['room'] = room\n",
    "    \n",
    "df.to_sql('IMPORT_Course_Meetings', conn, if_exists='append', index=False)"
   ]
  },
  {
   "cell_type": "code",
   "execution_count": 14,
   "metadata": {},
   "outputs": [
    {
     "name": "stdout",
     "output_type": "stream",
     "text": [
      " * sqlite:///CourseData.db\n",
      "Done.\n"
     ]
    },
    {
     "data": {
      "text/html": [
       "<table>\n",
       "    <tr>\n",
       "        <th>COUNT()</th>\n",
       "    </tr>\n",
       "    <tr>\n",
       "        <td>317321</td>\n",
       "    </tr>\n",
       "</table>"
      ],
      "text/plain": [
       "[(317321,)]"
      ]
     },
     "execution_count": 14,
     "metadata": {},
     "output_type": "execute_result"
    }
   ],
   "source": [
    "%%sql\n",
    "\n",
    "SELECT COUNT() FROM IMPORT_Course_Meetings;"
   ]
  },
  {
   "cell_type": "code",
   "execution_count": 15,
   "metadata": {},
   "outputs": [
    {
     "name": "stderr",
     "output_type": "stream",
     "text": [
      "/opt/tljh/user/lib/python3.6/site-packages/pandas/core/frame.py:6211: FutureWarning: Sorting because non-concatenation axis is not aligned. A future version\n",
      "of pandas will change to not sort by default.\n",
      "\n",
      "To accept the future behavior, pass 'sort=False'.\n",
      "\n",
      "To retain the current behavior and silence the warning, pass 'sort=True'.\n",
      "\n",
      "  sort=sort)\n"
     ]
    }
   ],
   "source": [
    "folder_names = ['Fall2014', 'Fall2015', 'Fall2016', 'Fall2017', 'Fall2018', 'Spring2015', 'Spring2016', 'Spring2017', 'Spring2018',\n",
    "               'Spring2019', 'SpringBreak2017', 'Summer2015', 'Summer2016', 'Summer2017', 'Summer2018', 'Winter2015', 'Winter2016', \n",
    "               'Winter2017', 'Winter2018']\n",
    "\n",
    "\n",
    "for file in folder_names:\n",
    "    data = 'SourceData/' + file + '/courses.csv'\n",
    "    \n",
    "    if (file == folder_names[0]):\n",
    "        df = pd.read_csv(data)\n",
    "    else:\n",
    "        df = df.append(pd.read_csv(data), ignore_index=True)\n",
    "        \n",
    "        \n",
    "        \n",
    "    \n",
    "    instructor = list(df.primary_instructor)\n",
    "    lname = []\n",
    "    fname = []\n",
    "\n",
    "    for name in instructor:\n",
    "        data = name.split('  ')\n",
    "\n",
    "        length = len(data)\n",
    "\n",
    "        if length == 2:\n",
    "            fname.append(data[0])\n",
    "            lname.append(data[1])\n",
    "        else:\n",
    "            fname.append('TBA')\n",
    "            lname.append('TBA')\n",
    "\n",
    "\n",
    "    df['fname'] = fname\n",
    "\n",
    "    df['lname'] = lname\n",
    "    \n",
    "    \n",
    "    term = list(df.term)\n",
    "    semester = []\n",
    "    year = []\n",
    "    \n",
    "\n",
    "    for t in term:\n",
    "        data = t.split('2')\n",
    "        semester.append(data[0])\n",
    "        year_val = '2'+data[1]\n",
    "        year.append(year_val)\n",
    "        \n",
    "    df['semester'] = semester\n",
    "    df['year'] = year\n",
    "\n",
    "df.to_sql('IMPORT_Courses', conn, if_exists='append', index=False)"
   ]
  },
  {
   "cell_type": "code",
   "execution_count": 16,
   "metadata": {},
   "outputs": [
    {
     "name": "stdout",
     "output_type": "stream",
     "text": [
      " * sqlite:///CourseData.db\n",
      "Done.\n"
     ]
    },
    {
     "data": {
      "text/html": [
       "<table>\n",
       "    <tr>\n",
       "        <th>term</th>\n",
       "        <th>crn</th>\n",
       "        <th>catalog_id</th>\n",
       "        <th>section</th>\n",
       "        <th>credits</th>\n",
       "        <th>title</th>\n",
       "        <th>meetings</th>\n",
       "        <th>timecodes</th>\n",
       "        <th>primary_instructor</th>\n",
       "        <th>cap</th>\n",
       "        <th>act</th>\n",
       "        <th>rem</th>\n",
       "        <th>fname</th>\n",
       "        <th>lname</th>\n",
       "        <th>semester</th>\n",
       "        <th>year</th>\n",
       "    </tr>\n",
       "    <tr>\n",
       "        <td>Fall2014</td>\n",
       "        <td>70384</td>\n",
       "        <td>AC 0011</td>\n",
       "        <td>C01</td>\n",
       "        <td>3.000</td>\n",
       "        <td>Introduction to Financial Accounting</td>\n",
       "        <td>[{&#x27;days&#x27;: &#x27;TF&#x27;, &#x27;times&#x27;: &#x27;0800am-0915am&#x27;, &#x27;dates&#x27;: &#x27;09/02-12/08&#x27;, &#x27;location&#x27;: &#x27;DSB 105&#x27;}]</td>\n",
       "        <td>[&#x27;TF 0800am-0915am 09/02-12/08 DSB 105&#x27;]</td>\n",
       "        <td>Michael P.  Coyne</td>\n",
       "        <td>0</td>\n",
       "        <td>31</td>\n",
       "        <td>-31</td>\n",
       "        <td>Michael P.</td>\n",
       "        <td>Coyne</td>\n",
       "        <td>Fall</td>\n",
       "        <td>2014</td>\n",
       "    </tr>\n",
       "    <tr>\n",
       "        <td>Fall2014</td>\n",
       "        <td>70385</td>\n",
       "        <td>AC 0011</td>\n",
       "        <td>C02</td>\n",
       "        <td>3.000</td>\n",
       "        <td>Introduction to Financial Accounting</td>\n",
       "        <td>[{&#x27;days&#x27;: &#x27;TF&#x27;, &#x27;times&#x27;: &#x27;0930am-1045am&#x27;, &#x27;dates&#x27;: &#x27;09/02-12/08&#x27;, &#x27;location&#x27;: &#x27;DSB 105&#x27;}]</td>\n",
       "        <td>[&#x27;TF 0930am-1045am 09/02-12/08 DSB 105&#x27;]</td>\n",
       "        <td>Michael P.  Coyne</td>\n",
       "        <td>0</td>\n",
       "        <td>31</td>\n",
       "        <td>-31</td>\n",
       "        <td>Michael P.</td>\n",
       "        <td>Coyne</td>\n",
       "        <td>Fall</td>\n",
       "        <td>2014</td>\n",
       "    </tr>\n",
       "    <tr>\n",
       "        <td>Fall2014</td>\n",
       "        <td>70382</td>\n",
       "        <td>AC 0011</td>\n",
       "        <td>C03</td>\n",
       "        <td>3.000</td>\n",
       "        <td>Introduction to Financial Accounting</td>\n",
       "        <td>[{&#x27;days&#x27;: &#x27;TF&#x27;, &#x27;times&#x27;: &#x27;1230pm-0145pm&#x27;, &#x27;dates&#x27;: &#x27;09/02-12/08&#x27;, &#x27;location&#x27;: &#x27;DSB 105&#x27;}]</td>\n",
       "        <td>[&#x27;TF 1230pm-0145pm 09/02-12/08 DSB 105&#x27;]</td>\n",
       "        <td>Michael P.  Coyne</td>\n",
       "        <td>0</td>\n",
       "        <td>31</td>\n",
       "        <td>-31</td>\n",
       "        <td>Michael P.</td>\n",
       "        <td>Coyne</td>\n",
       "        <td>Fall</td>\n",
       "        <td>2014</td>\n",
       "    </tr>\n",
       "    <tr>\n",
       "        <td>Fall2014</td>\n",
       "        <td>70291</td>\n",
       "        <td>AC 0011</td>\n",
       "        <td>C04</td>\n",
       "        <td>3.000</td>\n",
       "        <td>Introduction to Financial Accounting</td>\n",
       "        <td>[{&#x27;days&#x27;: &#x27;MR&#x27;, &#x27;times&#x27;: &#x27;1100am-1215pm&#x27;, &#x27;dates&#x27;: &#x27;09/02-12/08&#x27;, &#x27;location&#x27;: &#x27;DSB 111&#x27;}]</td>\n",
       "        <td>[&#x27;MR 1100am-1215pm 09/02-12/08 DSB 111&#x27;]</td>\n",
       "        <td>Rebecca I.  Bloch</td>\n",
       "        <td>0</td>\n",
       "        <td>29</td>\n",
       "        <td>-29</td>\n",
       "        <td>Rebecca I.</td>\n",
       "        <td>Bloch</td>\n",
       "        <td>Fall</td>\n",
       "        <td>2014</td>\n",
       "    </tr>\n",
       "    <tr>\n",
       "        <td>Fall2014</td>\n",
       "        <td>70350</td>\n",
       "        <td>AC 0011</td>\n",
       "        <td>C05</td>\n",
       "        <td>3.000</td>\n",
       "        <td>Introduction to Financial Accounting</td>\n",
       "        <td>[{&#x27;days&#x27;: &#x27;MR&#x27;, &#x27;times&#x27;: &#x27;1230pm-0145pm&#x27;, &#x27;dates&#x27;: &#x27;09/02-12/08&#x27;, &#x27;location&#x27;: &#x27;DSB 111&#x27;}]</td>\n",
       "        <td>[&#x27;MR 1230pm-0145pm 09/02-12/08 DSB 111&#x27;]</td>\n",
       "        <td>Rebecca I.  Bloch</td>\n",
       "        <td>0</td>\n",
       "        <td>30</td>\n",
       "        <td>-30</td>\n",
       "        <td>Rebecca I.</td>\n",
       "        <td>Bloch</td>\n",
       "        <td>Fall</td>\n",
       "        <td>2014</td>\n",
       "    </tr>\n",
       "    <tr>\n",
       "        <td>Fall2014</td>\n",
       "        <td>70381</td>\n",
       "        <td>AC 0011</td>\n",
       "        <td>C06</td>\n",
       "        <td>3.000</td>\n",
       "        <td>Introduction to Financial Accounting</td>\n",
       "        <td>[{&#x27;days&#x27;: &#x27;MR&#x27;, &#x27;times&#x27;: &#x27;0330pm-0445pm&#x27;, &#x27;dates&#x27;: &#x27;09/02-12/08&#x27;, &#x27;location&#x27;: &#x27;DSB 110A&#x27;}]</td>\n",
       "        <td>[&#x27;MR 0330pm-0445pm 09/02-12/08 DSB 110A&#x27;]</td>\n",
       "        <td>Rebecca I.  Bloch</td>\n",
       "        <td>0</td>\n",
       "        <td>31</td>\n",
       "        <td>-31</td>\n",
       "        <td>Rebecca I.</td>\n",
       "        <td>Bloch</td>\n",
       "        <td>Fall</td>\n",
       "        <td>2014</td>\n",
       "    </tr>\n",
       "    <tr>\n",
       "        <td>Fall2014</td>\n",
       "        <td>70383</td>\n",
       "        <td>AC 0011</td>\n",
       "        <td>G</td>\n",
       "        <td>3.000</td>\n",
       "        <td>Introduction to Financial Accounting</td>\n",
       "        <td>[{&#x27;days&#x27;: &#x27;MR&#x27;, &#x27;times&#x27;: &#x27;0930am-1045am&#x27;, &#x27;dates&#x27;: &#x27;09/02-12/08&#x27;, &#x27;location&#x27;: &#x27;DSB 111&#x27;}]</td>\n",
       "        <td>[&#x27;MR 0930am-1045am 09/02-12/08 DSB 111&#x27;]</td>\n",
       "        <td>Paul   Caster</td>\n",
       "        <td>30</td>\n",
       "        <td>31</td>\n",
       "        <td>-1</td>\n",
       "        <td>Paul</td>\n",
       "        <td> Caster</td>\n",
       "        <td>Fall</td>\n",
       "        <td>2014</td>\n",
       "    </tr>\n",
       "    <tr>\n",
       "        <td>Fall2014</td>\n",
       "        <td>70391</td>\n",
       "        <td>AC 0011</td>\n",
       "        <td>H</td>\n",
       "        <td>3.000</td>\n",
       "        <td>Introduction to Financial Accounting</td>\n",
       "        <td>[{&#x27;days&#x27;: &#x27;TF&#x27;, &#x27;times&#x27;: &#x27;0930am-1045am&#x27;, &#x27;dates&#x27;: &#x27;09/02-12/08&#x27;, &#x27;location&#x27;: &#x27;DSB 110A&#x27;}]</td>\n",
       "        <td>[&#x27;TF 0930am-1045am 09/02-12/08 DSB 110A&#x27;]</td>\n",
       "        <td>Jo Ann   Drusbosky</td>\n",
       "        <td>30</td>\n",
       "        <td>32</td>\n",
       "        <td>-2</td>\n",
       "        <td>Jo Ann</td>\n",
       "        <td> Drusbosky</td>\n",
       "        <td>Fall</td>\n",
       "        <td>2014</td>\n",
       "    </tr>\n",
       "    <tr>\n",
       "        <td>Fall2014</td>\n",
       "        <td>71105</td>\n",
       "        <td>AC 0011</td>\n",
       "        <td>I</td>\n",
       "        <td>3.000</td>\n",
       "        <td>Introduction to Financial Accounting</td>\n",
       "        <td>[{&#x27;days&#x27;: &#x27;TF&#x27;, &#x27;times&#x27;: &#x27;1100am-1215pm&#x27;, &#x27;dates&#x27;: &#x27;09/02-12/08&#x27;, &#x27;location&#x27;: &#x27;DSB 110A&#x27;}]</td>\n",
       "        <td>[&#x27;TF 1100am-1215pm 09/02-12/08 DSB 110A&#x27;]</td>\n",
       "        <td>Jo Ann   Drusbosky</td>\n",
       "        <td>30</td>\n",
       "        <td>33</td>\n",
       "        <td>-3</td>\n",
       "        <td>Jo Ann</td>\n",
       "        <td> Drusbosky</td>\n",
       "        <td>Fall</td>\n",
       "        <td>2014</td>\n",
       "    </tr>\n",
       "    <tr>\n",
       "        <td>Fall2014</td>\n",
       "        <td>71123</td>\n",
       "        <td>AC 0011</td>\n",
       "        <td>J</td>\n",
       "        <td>3.000</td>\n",
       "        <td>Introduction to Financial Accounting</td>\n",
       "        <td>[{&#x27;days&#x27;: &#x27;TF&#x27;, &#x27;times&#x27;: &#x27;0200pm-0315pm&#x27;, &#x27;dates&#x27;: &#x27;09/02-12/08&#x27;, &#x27;location&#x27;: &#x27;DSB 105&#x27;}]</td>\n",
       "        <td>[&#x27;TF 0200pm-0315pm 09/02-12/08 DSB 105&#x27;]</td>\n",
       "        <td>Jo Ann   Drusbosky</td>\n",
       "        <td>30</td>\n",
       "        <td>32</td>\n",
       "        <td>-2</td>\n",
       "        <td>Jo Ann</td>\n",
       "        <td> Drusbosky</td>\n",
       "        <td>Fall</td>\n",
       "        <td>2014</td>\n",
       "    </tr>\n",
       "</table>"
      ],
      "text/plain": [
       "[('Fall2014', '70384', 'AC 0011', 'C01', '3.000', 'Introduction to Financial Accounting', \"[{'days': 'TF', 'times': '0800am-0915am', 'dates': '09/02-12/08', 'location': 'DSB 105'}]\", \"['TF 0800am-0915am 09/02-12/08 DSB 105']\", 'Michael P.  Coyne', 0, 31, -31, 'Michael P.', 'Coyne', 'Fall', '2014'),\n",
       " ('Fall2014', '70385', 'AC 0011', 'C02', '3.000', 'Introduction to Financial Accounting', \"[{'days': 'TF', 'times': '0930am-1045am', 'dates': '09/02-12/08', 'location': 'DSB 105'}]\", \"['TF 0930am-1045am 09/02-12/08 DSB 105']\", 'Michael P.  Coyne', 0, 31, -31, 'Michael P.', 'Coyne', 'Fall', '2014'),\n",
       " ('Fall2014', '70382', 'AC 0011', 'C03', '3.000', 'Introduction to Financial Accounting', \"[{'days': 'TF', 'times': '1230pm-0145pm', 'dates': '09/02-12/08', 'location': 'DSB 105'}]\", \"['TF 1230pm-0145pm 09/02-12/08 DSB 105']\", 'Michael P.  Coyne', 0, 31, -31, 'Michael P.', 'Coyne', 'Fall', '2014'),\n",
       " ('Fall2014', '70291', 'AC 0011', 'C04', '3.000', 'Introduction to Financial Accounting', \"[{'days': 'MR', 'times': '1100am-1215pm', 'dates': '09/02-12/08', 'location': 'DSB 111'}]\", \"['MR 1100am-1215pm 09/02-12/08 DSB 111']\", 'Rebecca I.  Bloch', 0, 29, -29, 'Rebecca I.', 'Bloch', 'Fall', '2014'),\n",
       " ('Fall2014', '70350', 'AC 0011', 'C05', '3.000', 'Introduction to Financial Accounting', \"[{'days': 'MR', 'times': '1230pm-0145pm', 'dates': '09/02-12/08', 'location': 'DSB 111'}]\", \"['MR 1230pm-0145pm 09/02-12/08 DSB 111']\", 'Rebecca I.  Bloch', 0, 30, -30, 'Rebecca I.', 'Bloch', 'Fall', '2014'),\n",
       " ('Fall2014', '70381', 'AC 0011', 'C06', '3.000', 'Introduction to Financial Accounting', \"[{'days': 'MR', 'times': '0330pm-0445pm', 'dates': '09/02-12/08', 'location': 'DSB 110A'}]\", \"['MR 0330pm-0445pm 09/02-12/08 DSB 110A']\", 'Rebecca I.  Bloch', 0, 31, -31, 'Rebecca I.', 'Bloch', 'Fall', '2014'),\n",
       " ('Fall2014', '70383', 'AC 0011', 'G', '3.000', 'Introduction to Financial Accounting', \"[{'days': 'MR', 'times': '0930am-1045am', 'dates': '09/02-12/08', 'location': 'DSB 111'}]\", \"['MR 0930am-1045am 09/02-12/08 DSB 111']\", 'Paul   Caster', 30, 31, -1, 'Paul', ' Caster', 'Fall', '2014'),\n",
       " ('Fall2014', '70391', 'AC 0011', 'H', '3.000', 'Introduction to Financial Accounting', \"[{'days': 'TF', 'times': '0930am-1045am', 'dates': '09/02-12/08', 'location': 'DSB 110A'}]\", \"['TF 0930am-1045am 09/02-12/08 DSB 110A']\", 'Jo Ann   Drusbosky', 30, 32, -2, 'Jo Ann', ' Drusbosky', 'Fall', '2014'),\n",
       " ('Fall2014', '71105', 'AC 0011', 'I', '3.000', 'Introduction to Financial Accounting', \"[{'days': 'TF', 'times': '1100am-1215pm', 'dates': '09/02-12/08', 'location': 'DSB 110A'}]\", \"['TF 1100am-1215pm 09/02-12/08 DSB 110A']\", 'Jo Ann   Drusbosky', 30, 33, -3, 'Jo Ann', ' Drusbosky', 'Fall', '2014'),\n",
       " ('Fall2014', '71123', 'AC 0011', 'J', '3.000', 'Introduction to Financial Accounting', \"[{'days': 'TF', 'times': '0200pm-0315pm', 'dates': '09/02-12/08', 'location': 'DSB 105'}]\", \"['TF 0200pm-0315pm 09/02-12/08 DSB 105']\", 'Jo Ann   Drusbosky', 30, 32, -2, 'Jo Ann', ' Drusbosky', 'Fall', '2014')]"
      ]
     },
     "execution_count": 16,
     "metadata": {},
     "output_type": "execute_result"
    }
   ],
   "source": [
    "%%sql\n",
    "SELECT * FROM IMPORT_COURSES LIMIT 10;"
   ]
  },
  {
   "cell_type": "code",
   "execution_count": 17,
   "metadata": {},
   "outputs": [],
   "source": [
    "folder_names = ['SourceData/Catalogs/CourseCatalog2017_2018.csv', 'SourceData/Catalogs/CourseCatalog2018_2019.csv']\n",
    "\n",
    "df1 = pd.read_csv(folder_names[0])\n",
    "\n",
    "df1['EffectiveTerm'] = 'NaN'\n",
    "\n",
    "df1['EffectiveTerm'] = df1['EffectiveTerm'].replace('NaN', '2017-2018')\n",
    "\n",
    "df2 = pd.read_csv(folder_names[1])\n",
    "\n",
    "df2['EffectiveTerm'] = 'NaN'\n",
    "\n",
    "df2['EffectiveTerm'] = df2['EffectiveTerm'].replace('NaN', '2018-2019')\n",
    "\n",
    "df3 = df1.append(df2, ignore_index=True)\n",
    "\n",
    "\n",
    "    \n",
    "df3.to_sql('IMPORT_Course_Catalog', conn, if_exists='append', index=False)"
   ]
  },
  {
   "cell_type": "markdown",
   "metadata": {},
   "source": [
    "## Populate the ERD Tables from Our Imported Data"
   ]
  },
  {
   "cell_type": "code",
   "execution_count": 18,
   "metadata": {},
   "outputs": [
    {
     "name": "stdout",
     "output_type": "stream",
     "text": [
      " * sqlite:///CourseData.db\n",
      "87 rows affected.\n"
     ]
    },
    {
     "data": {
      "text/plain": [
       "[]"
      ]
     },
     "execution_count": 18,
     "metadata": {},
     "output_type": "execute_result"
    }
   ],
   "source": [
    "%%sql\n",
    "INSERT INTO PROGRAMS (ProgramCode,ProgramName) \n",
    "SELECT DISTINCT program_code,program_name\n",
    "FROM IMPORT_COURSE_CATALOG;"
   ]
  },
  {
   "cell_type": "code",
   "execution_count": 19,
   "metadata": {},
   "outputs": [
    {
     "name": "stdout",
     "output_type": "stream",
     "text": [
      " * sqlite:///CourseData.db\n",
      "Done.\n"
     ]
    },
    {
     "data": {
      "text/html": [
       "<table>\n",
       "    <tr>\n",
       "        <th>PID</th>\n",
       "        <th>PROGRAMCODE</th>\n",
       "        <th>PROGRAMNAME</th>\n",
       "    </tr>\n",
       "    <tr>\n",
       "        <td>1</td>\n",
       "        <td>AN</td>\n",
       "        <td>Asian Studies</td>\n",
       "    </tr>\n",
       "    <tr>\n",
       "        <td>2</td>\n",
       "        <td>BU</td>\n",
       "        <td>Business</td>\n",
       "    </tr>\n",
       "    <tr>\n",
       "        <td>3</td>\n",
       "        <td>BL</td>\n",
       "        <td>Black Studies</td>\n",
       "    </tr>\n",
       "    <tr>\n",
       "        <td>4</td>\n",
       "        <td>BEN</td>\n",
       "        <td>Bioengineering</td>\n",
       "    </tr>\n",
       "    <tr>\n",
       "        <td>5</td>\n",
       "        <td>AR</td>\n",
       "        <td>Arabic</td>\n",
       "    </tr>\n",
       "    <tr>\n",
       "        <td>6</td>\n",
       "        <td>AY</td>\n",
       "        <td>Anthropology</td>\n",
       "    </tr>\n",
       "    <tr>\n",
       "        <td>7</td>\n",
       "        <td>AS</td>\n",
       "        <td>American Studies</td>\n",
       "    </tr>\n",
       "    <tr>\n",
       "        <td>8</td>\n",
       "        <td>JA</td>\n",
       "        <td>Japanese</td>\n",
       "    </tr>\n",
       "    <tr>\n",
       "        <td>9</td>\n",
       "        <td>AH</td>\n",
       "        <td>Art History</td>\n",
       "    </tr>\n",
       "    <tr>\n",
       "        <td>10</td>\n",
       "        <td>AE</td>\n",
       "        <td>Applied Ethics</td>\n",
       "    </tr>\n",
       "</table>"
      ],
      "text/plain": [
       "[(1, 'AN', 'Asian Studies'),\n",
       " (2, 'BU', 'Business'),\n",
       " (3, 'BL', 'Black Studies'),\n",
       " (4, 'BEN', 'Bioengineering'),\n",
       " (5, 'AR', 'Arabic'),\n",
       " (6, 'AY', 'Anthropology'),\n",
       " (7, 'AS', 'American Studies'),\n",
       " (8, 'JA', 'Japanese'),\n",
       " (9, 'AH', 'Art History'),\n",
       " (10, 'AE', 'Applied Ethics')]"
      ]
     },
     "execution_count": 19,
     "metadata": {},
     "output_type": "execute_result"
    }
   ],
   "source": [
    "%%sql\n",
    "\n",
    "SELECT * FROM PROGRAMS\n",
    "LIMIT 10;"
   ]
  },
  {
   "cell_type": "code",
   "execution_count": 20,
   "metadata": {},
   "outputs": [
    {
     "name": "stdout",
     "output_type": "stream",
     "text": [
      " * sqlite:///CourseData.db\n",
      "1096 rows affected.\n"
     ]
    },
    {
     "data": {
      "text/plain": [
       "[]"
      ]
     },
     "execution_count": 20,
     "metadata": {},
     "output_type": "execute_result"
    }
   ],
   "source": [
    "%%sql\n",
    "INSERT INTO FACULTY (LName,FName)\n",
    "SELECT DISTINCT LName, FName\n",
    "FROM IMPORT_COURSES;"
   ]
  },
  {
   "cell_type": "code",
   "execution_count": 21,
   "metadata": {},
   "outputs": [
    {
     "name": "stdout",
     "output_type": "stream",
     "text": [
      " * sqlite:///CourseData.db\n",
      "207 rows affected.\n"
     ]
    },
    {
     "data": {
      "text/plain": [
       "[]"
      ]
     },
     "execution_count": 21,
     "metadata": {},
     "output_type": "execute_result"
    }
   ],
   "source": [
    "%%sql\n",
    "INSERT INTO LOCATION (Building,Room,Location) \n",
    "SELECT DISTINCT building,room,location\n",
    "FROM IMPORT_COURSE_MEETINGS;"
   ]
  },
  {
   "cell_type": "code",
   "execution_count": 22,
   "metadata": {},
   "outputs": [
    {
     "name": "stdout",
     "output_type": "stream",
     "text": [
      " * sqlite:///CourseData.db\n",
      "4423 rows affected.\n"
     ]
    },
    {
     "data": {
      "text/plain": [
       "[]"
      ]
     },
     "execution_count": 22,
     "metadata": {},
     "output_type": "execute_result"
    }
   ],
   "source": [
    "%%sql\n",
    "INSERT INTO COURSE (PID,EffectiveTerm,Catalog_ID,Course_Title,Credits,Prereqs,Coreqs,Fees,Attributes,Description)\n",
    "SELECT DISTINCT PID,EffectiveTerm,Catalog_ID,Course_Title,Credits,Prereqs,Coreqs,Fees,Attributes,Description\n",
    "FROM IMPORT_COURSE_CATALOG\n",
    "    JOIN PROGRAMS ON (PROGRAMS.PROGRAMCODE=IMPORT_COURSE_CATALOG.program_code);"
   ]
  },
  {
   "cell_type": "code",
   "execution_count": 23,
   "metadata": {},
   "outputs": [
    {
     "name": "stdout",
     "output_type": "stream",
     "text": [
      " * sqlite:///CourseData.db\n",
      "Done.\n"
     ]
    },
    {
     "data": {
      "text/html": [
       "<table>\n",
       "    <tr>\n",
       "        <th>PID</th>\n",
       "        <th>CATALOG_ID</th>\n",
       "    </tr>\n",
       "    <tr>\n",
       "        <td>1</td>\n",
       "        <td>AN 0301</td>\n",
       "    </tr>\n",
       "    <tr>\n",
       "        <td>1</td>\n",
       "        <td>AN 0310</td>\n",
       "    </tr>\n",
       "    <tr>\n",
       "        <td>2</td>\n",
       "        <td>BU 0211</td>\n",
       "    </tr>\n",
       "    <tr>\n",
       "        <td>2</td>\n",
       "        <td>BU 0220</td>\n",
       "    </tr>\n",
       "    <tr>\n",
       "        <td>2</td>\n",
       "        <td>BU 0311</td>\n",
       "    </tr>\n",
       "    <tr>\n",
       "        <td>2</td>\n",
       "        <td>BU 0312</td>\n",
       "    </tr>\n",
       "    <tr>\n",
       "        <td>2</td>\n",
       "        <td>BU 0320</td>\n",
       "    </tr>\n",
       "    <tr>\n",
       "        <td>2</td>\n",
       "        <td>BU 0391</td>\n",
       "    </tr>\n",
       "    <tr>\n",
       "        <td>3</td>\n",
       "        <td>BL 0101</td>\n",
       "    </tr>\n",
       "    <tr>\n",
       "        <td>3</td>\n",
       "        <td>BL 0398</td>\n",
       "    </tr>\n",
       "</table>"
      ],
      "text/plain": [
       "[(1, 'AN 0301'),\n",
       " (1, 'AN 0310'),\n",
       " (2, 'BU 0211'),\n",
       " (2, 'BU 0220'),\n",
       " (2, 'BU 0311'),\n",
       " (2, 'BU 0312'),\n",
       " (2, 'BU 0320'),\n",
       " (2, 'BU 0391'),\n",
       " (3, 'BL 0101'),\n",
       " (3, 'BL 0398')]"
      ]
     },
     "execution_count": 23,
     "metadata": {},
     "output_type": "execute_result"
    }
   ],
   "source": [
    "%%sql\n",
    "\n",
    "SELECT PID, Catalog_ID FROM COURSE\n",
    "LIMIT 10;"
   ]
  },
  {
   "cell_type": "code",
   "execution_count": 24,
   "metadata": {},
   "outputs": [
    {
     "name": "stdout",
     "output_type": "stream",
     "text": [
      " * sqlite:///CourseData.db\n",
      "Done.\n"
     ]
    },
    {
     "data": {
      "text/html": [
       "<table>\n",
       "    <tr>\n",
       "        <th>COUNT(credits)</th>\n",
       "    </tr>\n",
       "    <tr>\n",
       "        <td>15937</td>\n",
       "    </tr>\n",
       "</table>"
      ],
      "text/plain": [
       "[(15937,)]"
      ]
     },
     "execution_count": 24,
     "metadata": {},
     "output_type": "execute_result"
    }
   ],
   "source": [
    "%%sql \n",
    "\n",
    "SELECT COUNT(credits) FROM IMPORT_Courses;"
   ]
  },
  {
   "cell_type": "code",
   "execution_count": 25,
   "metadata": {},
   "outputs": [
    {
     "name": "stdout",
     "output_type": "stream",
     "text": [
      " * sqlite:///CourseData.db\n",
      "15937 rows affected.\n"
     ]
    },
    {
     "data": {
      "text/plain": [
       "[]"
      ]
     },
     "execution_count": 25,
     "metadata": {},
     "output_type": "execute_result"
    }
   ],
   "source": [
    "%%sql\n",
    "INSERT INTO COURSE_OFFERING (CID,FID,CRN,Semester,Year,Title,Catalog_ID,Term,EffectiveTerm,Meetings,Timecodes,Section,Cap,Act,Rem,lname,fname)\n",
    "SELECT DISTINCT CID,FID,CRN,Semester,Year,Title,Catalog_ID,Term,EffectiveTerm,Meetings,Timecodes,Section,Cap,Act,Rem,lname,fname\n",
    "FROM IMPORT_COURSES\n",
    "    LEFT JOIN CATALOG_YEAR USING (Semester, Year)\n",
    "    LEFT JOIN COURSE USING (EffectiveTerm, Catalog_ID)\n",
    "    JOIN FACULTY USING (lname, fname);"
   ]
  },
  {
   "cell_type": "code",
   "execution_count": 26,
   "metadata": {},
   "outputs": [
    {
     "name": "stdout",
     "output_type": "stream",
     "text": [
      " * sqlite:///CourseData.db\n",
      "Done.\n"
     ]
    },
    {
     "data": {
      "text/html": [
       "<table>\n",
       "    <tr>\n",
       "        <th>COID</th>\n",
       "        <th>CID</th>\n",
       "        <th>FID</th>\n",
       "        <th>CRN</th>\n",
       "        <th>SEMESTER</th>\n",
       "        <th>YEAR</th>\n",
       "        <th>TITLE</th>\n",
       "        <th>CATALOG_ID</th>\n",
       "        <th>TERM</th>\n",
       "        <th>EffectiveTerm</th>\n",
       "        <th>MEETINGS</th>\n",
       "        <th>TIMECODES</th>\n",
       "        <th>SECTION</th>\n",
       "        <th>CAP</th>\n",
       "        <th>ACT</th>\n",
       "        <th>REM</th>\n",
       "        <th>LNAME</th>\n",
       "        <th>FNAME</th>\n",
       "    </tr>\n",
       "    <tr>\n",
       "        <td>1</td>\n",
       "        <td>None</td>\n",
       "        <td>1</td>\n",
       "        <td>70384</td>\n",
       "        <td>Fall</td>\n",
       "        <td>2014</td>\n",
       "        <td>Introduction to Financial Accounting</td>\n",
       "        <td>AC 0011</td>\n",
       "        <td>Fall2014</td>\n",
       "        <td>2014-2015</td>\n",
       "        <td>[{&#x27;days&#x27;: &#x27;TF&#x27;, &#x27;times&#x27;: &#x27;0800am-0915am&#x27;, &#x27;dates&#x27;: &#x27;09/02-12/08&#x27;, &#x27;location&#x27;: &#x27;DSB 105&#x27;}]</td>\n",
       "        <td>[&#x27;TF 0800am-0915am 09/02-12/08 DSB 105&#x27;]</td>\n",
       "        <td>C01</td>\n",
       "        <td>0</td>\n",
       "        <td>31</td>\n",
       "        <td>-31</td>\n",
       "        <td>Coyne</td>\n",
       "        <td>Michael P.</td>\n",
       "    </tr>\n",
       "    <tr>\n",
       "        <td>2</td>\n",
       "        <td>None</td>\n",
       "        <td>1</td>\n",
       "        <td>70385</td>\n",
       "        <td>Fall</td>\n",
       "        <td>2014</td>\n",
       "        <td>Introduction to Financial Accounting</td>\n",
       "        <td>AC 0011</td>\n",
       "        <td>Fall2014</td>\n",
       "        <td>2014-2015</td>\n",
       "        <td>[{&#x27;days&#x27;: &#x27;TF&#x27;, &#x27;times&#x27;: &#x27;0930am-1045am&#x27;, &#x27;dates&#x27;: &#x27;09/02-12/08&#x27;, &#x27;location&#x27;: &#x27;DSB 105&#x27;}]</td>\n",
       "        <td>[&#x27;TF 0930am-1045am 09/02-12/08 DSB 105&#x27;]</td>\n",
       "        <td>C02</td>\n",
       "        <td>0</td>\n",
       "        <td>31</td>\n",
       "        <td>-31</td>\n",
       "        <td>Coyne</td>\n",
       "        <td>Michael P.</td>\n",
       "    </tr>\n",
       "    <tr>\n",
       "        <td>3</td>\n",
       "        <td>None</td>\n",
       "        <td>1</td>\n",
       "        <td>70382</td>\n",
       "        <td>Fall</td>\n",
       "        <td>2014</td>\n",
       "        <td>Introduction to Financial Accounting</td>\n",
       "        <td>AC 0011</td>\n",
       "        <td>Fall2014</td>\n",
       "        <td>2014-2015</td>\n",
       "        <td>[{&#x27;days&#x27;: &#x27;TF&#x27;, &#x27;times&#x27;: &#x27;1230pm-0145pm&#x27;, &#x27;dates&#x27;: &#x27;09/02-12/08&#x27;, &#x27;location&#x27;: &#x27;DSB 105&#x27;}]</td>\n",
       "        <td>[&#x27;TF 1230pm-0145pm 09/02-12/08 DSB 105&#x27;]</td>\n",
       "        <td>C03</td>\n",
       "        <td>0</td>\n",
       "        <td>31</td>\n",
       "        <td>-31</td>\n",
       "        <td>Coyne</td>\n",
       "        <td>Michael P.</td>\n",
       "    </tr>\n",
       "    <tr>\n",
       "        <td>4</td>\n",
       "        <td>None</td>\n",
       "        <td>2</td>\n",
       "        <td>70291</td>\n",
       "        <td>Fall</td>\n",
       "        <td>2014</td>\n",
       "        <td>Introduction to Financial Accounting</td>\n",
       "        <td>AC 0011</td>\n",
       "        <td>Fall2014</td>\n",
       "        <td>2014-2015</td>\n",
       "        <td>[{&#x27;days&#x27;: &#x27;MR&#x27;, &#x27;times&#x27;: &#x27;1100am-1215pm&#x27;, &#x27;dates&#x27;: &#x27;09/02-12/08&#x27;, &#x27;location&#x27;: &#x27;DSB 111&#x27;}]</td>\n",
       "        <td>[&#x27;MR 1100am-1215pm 09/02-12/08 DSB 111&#x27;]</td>\n",
       "        <td>C04</td>\n",
       "        <td>0</td>\n",
       "        <td>29</td>\n",
       "        <td>-29</td>\n",
       "        <td>Bloch</td>\n",
       "        <td>Rebecca I.</td>\n",
       "    </tr>\n",
       "    <tr>\n",
       "        <td>5</td>\n",
       "        <td>None</td>\n",
       "        <td>2</td>\n",
       "        <td>70350</td>\n",
       "        <td>Fall</td>\n",
       "        <td>2014</td>\n",
       "        <td>Introduction to Financial Accounting</td>\n",
       "        <td>AC 0011</td>\n",
       "        <td>Fall2014</td>\n",
       "        <td>2014-2015</td>\n",
       "        <td>[{&#x27;days&#x27;: &#x27;MR&#x27;, &#x27;times&#x27;: &#x27;1230pm-0145pm&#x27;, &#x27;dates&#x27;: &#x27;09/02-12/08&#x27;, &#x27;location&#x27;: &#x27;DSB 111&#x27;}]</td>\n",
       "        <td>[&#x27;MR 1230pm-0145pm 09/02-12/08 DSB 111&#x27;]</td>\n",
       "        <td>C05</td>\n",
       "        <td>0</td>\n",
       "        <td>30</td>\n",
       "        <td>-30</td>\n",
       "        <td>Bloch</td>\n",
       "        <td>Rebecca I.</td>\n",
       "    </tr>\n",
       "    <tr>\n",
       "        <td>6</td>\n",
       "        <td>None</td>\n",
       "        <td>2</td>\n",
       "        <td>70381</td>\n",
       "        <td>Fall</td>\n",
       "        <td>2014</td>\n",
       "        <td>Introduction to Financial Accounting</td>\n",
       "        <td>AC 0011</td>\n",
       "        <td>Fall2014</td>\n",
       "        <td>2014-2015</td>\n",
       "        <td>[{&#x27;days&#x27;: &#x27;MR&#x27;, &#x27;times&#x27;: &#x27;0330pm-0445pm&#x27;, &#x27;dates&#x27;: &#x27;09/02-12/08&#x27;, &#x27;location&#x27;: &#x27;DSB 110A&#x27;}]</td>\n",
       "        <td>[&#x27;MR 0330pm-0445pm 09/02-12/08 DSB 110A&#x27;]</td>\n",
       "        <td>C06</td>\n",
       "        <td>0</td>\n",
       "        <td>31</td>\n",
       "        <td>-31</td>\n",
       "        <td>Bloch</td>\n",
       "        <td>Rebecca I.</td>\n",
       "    </tr>\n",
       "    <tr>\n",
       "        <td>7</td>\n",
       "        <td>None</td>\n",
       "        <td>3</td>\n",
       "        <td>70383</td>\n",
       "        <td>Fall</td>\n",
       "        <td>2014</td>\n",
       "        <td>Introduction to Financial Accounting</td>\n",
       "        <td>AC 0011</td>\n",
       "        <td>Fall2014</td>\n",
       "        <td>2014-2015</td>\n",
       "        <td>[{&#x27;days&#x27;: &#x27;MR&#x27;, &#x27;times&#x27;: &#x27;0930am-1045am&#x27;, &#x27;dates&#x27;: &#x27;09/02-12/08&#x27;, &#x27;location&#x27;: &#x27;DSB 111&#x27;}]</td>\n",
       "        <td>[&#x27;MR 0930am-1045am 09/02-12/08 DSB 111&#x27;]</td>\n",
       "        <td>G</td>\n",
       "        <td>30</td>\n",
       "        <td>31</td>\n",
       "        <td>-1</td>\n",
       "        <td> Caster</td>\n",
       "        <td>Paul</td>\n",
       "    </tr>\n",
       "    <tr>\n",
       "        <td>8</td>\n",
       "        <td>None</td>\n",
       "        <td>4</td>\n",
       "        <td>70391</td>\n",
       "        <td>Fall</td>\n",
       "        <td>2014</td>\n",
       "        <td>Introduction to Financial Accounting</td>\n",
       "        <td>AC 0011</td>\n",
       "        <td>Fall2014</td>\n",
       "        <td>2014-2015</td>\n",
       "        <td>[{&#x27;days&#x27;: &#x27;TF&#x27;, &#x27;times&#x27;: &#x27;0930am-1045am&#x27;, &#x27;dates&#x27;: &#x27;09/02-12/08&#x27;, &#x27;location&#x27;: &#x27;DSB 110A&#x27;}]</td>\n",
       "        <td>[&#x27;TF 0930am-1045am 09/02-12/08 DSB 110A&#x27;]</td>\n",
       "        <td>H</td>\n",
       "        <td>30</td>\n",
       "        <td>32</td>\n",
       "        <td>-2</td>\n",
       "        <td> Drusbosky</td>\n",
       "        <td>Jo Ann</td>\n",
       "    </tr>\n",
       "    <tr>\n",
       "        <td>9</td>\n",
       "        <td>None</td>\n",
       "        <td>4</td>\n",
       "        <td>71105</td>\n",
       "        <td>Fall</td>\n",
       "        <td>2014</td>\n",
       "        <td>Introduction to Financial Accounting</td>\n",
       "        <td>AC 0011</td>\n",
       "        <td>Fall2014</td>\n",
       "        <td>2014-2015</td>\n",
       "        <td>[{&#x27;days&#x27;: &#x27;TF&#x27;, &#x27;times&#x27;: &#x27;1100am-1215pm&#x27;, &#x27;dates&#x27;: &#x27;09/02-12/08&#x27;, &#x27;location&#x27;: &#x27;DSB 110A&#x27;}]</td>\n",
       "        <td>[&#x27;TF 1100am-1215pm 09/02-12/08 DSB 110A&#x27;]</td>\n",
       "        <td>I</td>\n",
       "        <td>30</td>\n",
       "        <td>33</td>\n",
       "        <td>-3</td>\n",
       "        <td> Drusbosky</td>\n",
       "        <td>Jo Ann</td>\n",
       "    </tr>\n",
       "    <tr>\n",
       "        <td>10</td>\n",
       "        <td>None</td>\n",
       "        <td>4</td>\n",
       "        <td>71123</td>\n",
       "        <td>Fall</td>\n",
       "        <td>2014</td>\n",
       "        <td>Introduction to Financial Accounting</td>\n",
       "        <td>AC 0011</td>\n",
       "        <td>Fall2014</td>\n",
       "        <td>2014-2015</td>\n",
       "        <td>[{&#x27;days&#x27;: &#x27;TF&#x27;, &#x27;times&#x27;: &#x27;0200pm-0315pm&#x27;, &#x27;dates&#x27;: &#x27;09/02-12/08&#x27;, &#x27;location&#x27;: &#x27;DSB 105&#x27;}]</td>\n",
       "        <td>[&#x27;TF 0200pm-0315pm 09/02-12/08 DSB 105&#x27;]</td>\n",
       "        <td>J</td>\n",
       "        <td>30</td>\n",
       "        <td>32</td>\n",
       "        <td>-2</td>\n",
       "        <td> Drusbosky</td>\n",
       "        <td>Jo Ann</td>\n",
       "    </tr>\n",
       "</table>"
      ],
      "text/plain": [
       "[(1, None, 1, '70384', 'Fall', 2014, 'Introduction to Financial Accounting', 'AC 0011', 'Fall2014', '2014-2015', \"[{'days': 'TF', 'times': '0800am-0915am', 'dates': '09/02-12/08', 'location': 'DSB 105'}]\", \"['TF 0800am-0915am 09/02-12/08 DSB 105']\", 'C01', 0, 31, -31, 'Coyne', 'Michael P.'),\n",
       " (2, None, 1, '70385', 'Fall', 2014, 'Introduction to Financial Accounting', 'AC 0011', 'Fall2014', '2014-2015', \"[{'days': 'TF', 'times': '0930am-1045am', 'dates': '09/02-12/08', 'location': 'DSB 105'}]\", \"['TF 0930am-1045am 09/02-12/08 DSB 105']\", 'C02', 0, 31, -31, 'Coyne', 'Michael P.'),\n",
       " (3, None, 1, '70382', 'Fall', 2014, 'Introduction to Financial Accounting', 'AC 0011', 'Fall2014', '2014-2015', \"[{'days': 'TF', 'times': '1230pm-0145pm', 'dates': '09/02-12/08', 'location': 'DSB 105'}]\", \"['TF 1230pm-0145pm 09/02-12/08 DSB 105']\", 'C03', 0, 31, -31, 'Coyne', 'Michael P.'),\n",
       " (4, None, 2, '70291', 'Fall', 2014, 'Introduction to Financial Accounting', 'AC 0011', 'Fall2014', '2014-2015', \"[{'days': 'MR', 'times': '1100am-1215pm', 'dates': '09/02-12/08', 'location': 'DSB 111'}]\", \"['MR 1100am-1215pm 09/02-12/08 DSB 111']\", 'C04', 0, 29, -29, 'Bloch', 'Rebecca I.'),\n",
       " (5, None, 2, '70350', 'Fall', 2014, 'Introduction to Financial Accounting', 'AC 0011', 'Fall2014', '2014-2015', \"[{'days': 'MR', 'times': '1230pm-0145pm', 'dates': '09/02-12/08', 'location': 'DSB 111'}]\", \"['MR 1230pm-0145pm 09/02-12/08 DSB 111']\", 'C05', 0, 30, -30, 'Bloch', 'Rebecca I.'),\n",
       " (6, None, 2, '70381', 'Fall', 2014, 'Introduction to Financial Accounting', 'AC 0011', 'Fall2014', '2014-2015', \"[{'days': 'MR', 'times': '0330pm-0445pm', 'dates': '09/02-12/08', 'location': 'DSB 110A'}]\", \"['MR 0330pm-0445pm 09/02-12/08 DSB 110A']\", 'C06', 0, 31, -31, 'Bloch', 'Rebecca I.'),\n",
       " (7, None, 3, '70383', 'Fall', 2014, 'Introduction to Financial Accounting', 'AC 0011', 'Fall2014', '2014-2015', \"[{'days': 'MR', 'times': '0930am-1045am', 'dates': '09/02-12/08', 'location': 'DSB 111'}]\", \"['MR 0930am-1045am 09/02-12/08 DSB 111']\", 'G', 30, 31, -1, ' Caster', 'Paul'),\n",
       " (8, None, 4, '70391', 'Fall', 2014, 'Introduction to Financial Accounting', 'AC 0011', 'Fall2014', '2014-2015', \"[{'days': 'TF', 'times': '0930am-1045am', 'dates': '09/02-12/08', 'location': 'DSB 110A'}]\", \"['TF 0930am-1045am 09/02-12/08 DSB 110A']\", 'H', 30, 32, -2, ' Drusbosky', 'Jo Ann'),\n",
       " (9, None, 4, '71105', 'Fall', 2014, 'Introduction to Financial Accounting', 'AC 0011', 'Fall2014', '2014-2015', \"[{'days': 'TF', 'times': '1100am-1215pm', 'dates': '09/02-12/08', 'location': 'DSB 110A'}]\", \"['TF 1100am-1215pm 09/02-12/08 DSB 110A']\", 'I', 30, 33, -3, ' Drusbosky', 'Jo Ann'),\n",
       " (10, None, 4, '71123', 'Fall', 2014, 'Introduction to Financial Accounting', 'AC 0011', 'Fall2014', '2014-2015', \"[{'days': 'TF', 'times': '0200pm-0315pm', 'dates': '09/02-12/08', 'location': 'DSB 105'}]\", \"['TF 0200pm-0315pm 09/02-12/08 DSB 105']\", 'J', 30, 32, -2, ' Drusbosky', 'Jo Ann')]"
      ]
     },
     "execution_count": 26,
     "metadata": {},
     "output_type": "execute_result"
    }
   ],
   "source": [
    "%%sql \n",
    "\n",
    "SELECT * FROM COURSE_OFFERING LIMIT 10;"
   ]
  },
  {
   "cell_type": "code",
   "execution_count": 27,
   "metadata": {},
   "outputs": [
    {
     "name": "stdout",
     "output_type": "stream",
     "text": [
      " * sqlite:///CourseData.db\n",
      "Done.\n"
     ]
    },
    {
     "data": {
      "text/html": [
       "<table>\n",
       "    <tr>\n",
       "        <th>COUNT(*)</th>\n",
       "    </tr>\n",
       "    <tr>\n",
       "        <td>207</td>\n",
       "    </tr>\n",
       "</table>"
      ],
      "text/plain": [
       "[(207,)]"
      ]
     },
     "execution_count": 27,
     "metadata": {},
     "output_type": "execute_result"
    }
   ],
   "source": [
    "%%sql\n",
    "\n",
    "SELECT COUNT(*) FROM LOCATION;\n"
   ]
  },
  {
   "cell_type": "code",
   "execution_count": 28,
   "metadata": {},
   "outputs": [
    {
     "name": "stdout",
     "output_type": "stream",
     "text": [
      " * sqlite:///CourseData.db\n",
      "429575 rows affected.\n"
     ]
    },
    {
     "data": {
      "text/plain": [
       "[]"
      ]
     },
     "execution_count": 28,
     "metadata": {},
     "output_type": "execute_result"
    }
   ],
   "source": [
    "%%sql \n",
    "INSERT INTO CLASS_MEETINGS (COID,LID,CRN,Day,Start,End,Term)\n",
    "SELECT DISTINCT COURSE_OFFERING.COID,LOCATION.LID,COURSE_OFFERING.CRN,Day,Start,End,COURSE_OFFERING.Term\n",
    "FROM IMPORT_COURSE_MEETINGS\n",
    "    JOIN COURSE_OFFERING USING (CRN)\n",
    "    JOIN LOCATION USING (Building,Room);"
   ]
  },
  {
   "cell_type": "code",
   "execution_count": 29,
   "metadata": {},
   "outputs": [
    {
     "name": "stdout",
     "output_type": "stream",
     "text": [
      " * sqlite:///CourseData.db\n",
      "Done.\n",
      "Done.\n",
      "Done.\n"
     ]
    },
    {
     "data": {
      "text/plain": [
       "[]"
      ]
     },
     "execution_count": 29,
     "metadata": {},
     "output_type": "execute_result"
    }
   ],
   "source": [
    "%%sql\n",
    "DROP TABLE IMPORT_COURSE_MEETINGS;\n",
    "DROP TABLE IMPORT_COURSES;\n",
    "DROP TABLE IMPORT_COURSE_CATALOG;"
   ]
  },
  {
   "cell_type": "code",
   "execution_count": 30,
   "metadata": {},
   "outputs": [],
   "source": [
    "c.close()\n",
    "del c\n",
    "conn.close()"
   ]
  },
  {
   "cell_type": "code",
   "execution_count": null,
   "metadata": {},
   "outputs": [],
   "source": []
  }
 ],
 "metadata": {
  "kernelspec": {
   "display_name": "Python 3",
   "language": "python",
   "name": "python3"
  },
  "language_info": {
   "codemirror_mode": {
    "name": "ipython",
    "version": 3
   },
   "file_extension": ".py",
   "mimetype": "text/x-python",
   "name": "python",
   "nbconvert_exporter": "python",
   "pygments_lexer": "ipython3",
   "version": "3.6.5"
  }
 },
 "nbformat": 4,
 "nbformat_minor": 2
}
