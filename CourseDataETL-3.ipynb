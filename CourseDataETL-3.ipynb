{
 "cells": [
  {
   "cell_type": "markdown",
   "metadata": {},
   "source": [
    "## ETL process\n",
    "\n",
    "In this notebook, we go through the etl process, yada yada yada\n"
   ]
  },
  {
   "cell_type": "markdown",
   "metadata": {},
   "source": [
    "Creating the database based on the ERD tables"
   ]
  },
  {
   "cell_type": "markdown",
   "metadata": {},
   "source": [
    "## Creating our Databse Tables from Our ERD"
   ]
  },
  {
   "cell_type": "code",
   "execution_count": 32,
   "metadata": {},
   "outputs": [],
   "source": [
    "import pandas as pd\n",
    "import numpy as np\n",
    "import sqlite3\n",
    "import numpy as np\n",
    "conn = sqlite3.connect('CourseData.db')\n",
    "c = conn.cursor()"
   ]
  },
  {
   "cell_type": "code",
   "execution_count": 33,
   "metadata": {},
   "outputs": [
    {
     "name": "stdout",
     "output_type": "stream",
     "text": [
      "The sql extension is already loaded. To reload it, use:\n",
      "  %reload_ext sql\n"
     ]
    }
   ],
   "source": [
    "%load_ext sql"
   ]
  },
  {
   "cell_type": "code",
   "execution_count": 34,
   "metadata": {},
   "outputs": [
    {
     "data": {
      "text/plain": [
       "'Connected: @CourseData.db'"
      ]
     },
     "execution_count": 34,
     "metadata": {},
     "output_type": "execute_result"
    }
   ],
   "source": [
    "%%sql\n",
    "\n",
    "sqlite:///CourseData.db"
   ]
  },
  {
   "cell_type": "markdown",
   "metadata": {},
   "source": [
    "creating the separate tables.\n",
    "\n",
    "Creating Programs Table"
   ]
  },
  {
   "cell_type": "code",
   "execution_count": 35,
   "metadata": {},
   "outputs": [
    {
     "name": "stdout",
     "output_type": "stream",
     "text": [
      " * sqlite:///CourseData.db\n",
      "(sqlite3.OperationalError) attempt to write a readonly database [SQL: 'DROP TABLE IF EXISTS PROGRAMS;'] (Background on this error at: http://sqlalche.me/e/e3q8)\n"
     ]
    }
   ],
   "source": [
    "%%sql\n",
    "DROP TABLE IF EXISTS PROGRAMS;\n",
    "\n",
    "CREATE TABLE PROGRAMS ( \n",
    "    PID INTEGER PRIMARY KEY,\n",
    "    PROGRAMCODE TEXT NOT NULL,\n",
    "    PROGRAMNAME TEXT NOT NULL\n",
    ");\n"
   ]
  },
  {
   "cell_type": "markdown",
   "metadata": {},
   "source": [
    "Creating Faculty Table"
   ]
  },
  {
   "cell_type": "code",
   "execution_count": 36,
   "metadata": {},
   "outputs": [
    {
     "name": "stdout",
     "output_type": "stream",
     "text": [
      " * sqlite:///CourseData.db\n",
      "(sqlite3.OperationalError) attempt to write a readonly database [SQL: 'DROP TABLE IF EXISTS FACULTY;'] (Background on this error at: http://sqlalche.me/e/e3q8)\n"
     ]
    }
   ],
   "source": [
    "%%sql\n",
    "DROP TABLE IF EXISTS FACULTY;\n",
    "CREATE TABLE FACULTY ( \n",
    "    FID INTEGER PRIMARY KEY,\n",
    "    LNAME TEXT NOT NULL,\n",
    "    FNAME TEXT NOT NULL\n",
    ");\n"
   ]
  },
  {
   "cell_type": "markdown",
   "metadata": {},
   "source": [
    "Creating the Location Table"
   ]
  },
  {
   "cell_type": "code",
   "execution_count": 37,
   "metadata": {},
   "outputs": [
    {
     "name": "stdout",
     "output_type": "stream",
     "text": [
      " * sqlite:///CourseData.db\n",
      "(sqlite3.OperationalError) attempt to write a readonly database [SQL: 'DROP TABLE IF EXISTS LOCATION;'] (Background on this error at: http://sqlalche.me/e/e3q8)\n"
     ]
    }
   ],
   "source": [
    "%%sql\n",
    "DROP TABLE IF EXISTS LOCATION;\n",
    "\n",
    "CREATE TABLE LOCATION ( \n",
    "    LID INTEGER PRIMARY KEY,\n",
    "    BUILDING TEXT,\n",
    "    ROOM TEXT,\n",
    "    LOCATION TEXT\n",
    ");\n"
   ]
  },
  {
   "cell_type": "markdown",
   "metadata": {},
   "source": [
    "Creating the Course Table"
   ]
  },
  {
   "cell_type": "code",
   "execution_count": 38,
   "metadata": {},
   "outputs": [
    {
     "name": "stdout",
     "output_type": "stream",
     "text": [
      " * sqlite:///CourseData.db\n",
      "(sqlite3.OperationalError) attempt to write a readonly database [SQL: 'DROP TABLE IF EXISTS COURSE;'] (Background on this error at: http://sqlalche.me/e/e3q8)\n"
     ]
    }
   ],
   "source": [
    "%%sql\n",
    "DROP TABLE IF EXISTS COURSE;\n",
    "CREATE TABLE COURSE ( \n",
    "    CID INTEGER PRIMARY KEY,\n",
    "    PID INTEGER NOT NULL,\n",
    "    EFFECTIVETERM TEXT NOT NULL,\n",
    "    CATALOG_ID TEXT NOT NULL,\n",
    "    COURSE_TITLE TEXT NOT NULL,\n",
    "    CREDITS TEXT NOT NULL,\n",
    "    PREREQS TEXT,\n",
    "    COREQS TEXT,\n",
    "    FEES REAL,\n",
    "    ATTRIBUTES TEXT,\n",
    "    DESCRIPTION TEXT,\n",
    "    FOREIGN KEY (PID) REFERENCES PROGRAMS (PID)\n",
    ");"
   ]
  },
  {
   "cell_type": "markdown",
   "metadata": {},
   "source": [
    "Creating teh Course_Offering Table"
   ]
  },
  {
   "cell_type": "code",
   "execution_count": 39,
   "metadata": {},
   "outputs": [
    {
     "name": "stdout",
     "output_type": "stream",
     "text": [
      " * sqlite:///CourseData.db\n",
      "(sqlite3.OperationalError) attempt to write a readonly database [SQL: 'DROP TABLE IF EXISTS COURSE_OFFERING;'] (Background on this error at: http://sqlalche.me/e/e3q8)\n"
     ]
    }
   ],
   "source": [
    "%%sql\n",
    "DROP TABLE IF EXISTS COURSE_OFFERING;\n",
    "CREATE TABLE COURSE_OFFERING ( \n",
    "    COID INTEGER PRIMARY KEY,\n",
    "    CID INTEGER,\n",
    "    FID INTEGER NOT NULL,\n",
    "    CRN TEXT NOT NULL,\n",
    "    SEMESTER TEXT NOT NULL,\n",
    "    YEAR INTEGER NOT NULL,\n",
    "    TITLE TEXT NOT NULL,\n",
    "    CATALOG_ID TEXT,\n",
    "    TERM TEXT,\n",
    "    EffectiveTerm TEXT,\n",
    "    MEETINGS TEXT,\n",
    "    TIMECODES TEXT,\n",
    "    SECTION TEXT NOT NULL,\n",
    "    CAP INTEGER NOT NULL,\n",
    "    ACT INTEGER NOT NULL,\n",
    "    REM INTEGER NOT NULL,\n",
    "    LNAME TEXT,\n",
    "    FNAME TEXT,\n",
    "    FOREIGN KEY (CID) REFERENCES COURSE (CID)\n",
    "    FOREIGN KEY (FID) REFERENCES FACULTY (FID)\n",
    ");\n"
   ]
  },
  {
   "cell_type": "markdown",
   "metadata": {},
   "source": [
    "Creating the Class_Meetings Table"
   ]
  },
  {
   "cell_type": "code",
   "execution_count": 40,
   "metadata": {},
   "outputs": [
    {
     "name": "stdout",
     "output_type": "stream",
     "text": [
      " * sqlite:///CourseData.db\n",
      "(sqlite3.OperationalError) attempt to write a readonly database [SQL: 'DROP TABLE IF EXISTS CLASS_MEETINGS;'] (Background on this error at: http://sqlalche.me/e/e3q8)\n"
     ]
    }
   ],
   "source": [
    "%%sql\n",
    "DROP TABLE IF EXISTS CLASS_MEETINGS;\n",
    "CREATE TABLE CLASS_MEETINGS ( \n",
    "    CMID INTEGER PRIMARY KEY,\n",
    "    COID INTEGER,\n",
    "    LID INTEGER,\n",
    "    DAY TEXT,\n",
    "    START TEXT,\n",
    "    END TEXT,\n",
    "    CRN TEXT,\n",
    "    TERM TEXT,\n",
    "    FOREIGN KEY (LID) REFERENCES LOCATION (LID)\n",
    "    FOREIGN KEY (COID) REFERENCES COURSE_OFFERING (COID)\n",
    ");\n"
   ]
  },
  {
   "cell_type": "code",
   "execution_count": 41,
   "metadata": {},
   "outputs": [
    {
     "name": "stdout",
     "output_type": "stream",
     "text": [
      " * sqlite:///CourseData.db\n",
      "(sqlite3.OperationalError) attempt to write a readonly database [SQL: 'DROP TABLE IF EXISTS CATALOG_YEAR;'] (Background on this error at: http://sqlalche.me/e/e3q8)\n"
     ]
    }
   ],
   "source": [
    "%%sql \n",
    "\n",
    "DROP TABLE IF EXISTS CATALOG_YEAR;\n",
    "CREATE TABLE CATALOG_YEAR (\n",
    "    EFFECTIVETERM TEXT,\n",
    "    YEAR TEXT,\n",
    "    SEMESTER TEXT\n",
    ");\n",
    "\n",
    "INSERT INTO CATALOG_YEAR (Semester,Year,EffectiveTerm) VALUES \n",
    "('Fall','2014','2014-2015'),('Winter','2015','2014-2015'),('Spring','2015','2014-2015'),('Summer','2015','2014-2015'),\n",
    "('Fall','2015','2015-2016'),('Winter','2016','2015-2016'),('Spring','2016','2015-2016'),('Summer','2016','2015-2016'),\n",
    "('Fall','2016','2016-2017'),('Winter','2017','2016-2017'),('Spring','2017','2016-2017'),('SpringBreak','2017','2016-2017'),('Summer','2017','2016-2017'),\n",
    "('Fall','2017','2017-2018'),('Winter','2018','2017-2018'),('Spring','2018','2017-2018'),('Summer','2018','2017-2018'),\n",
    "('Fall','2018','2018-2019'),('Winter','2019','2018-2019'),('Spring','2019','2018-2019');"
   ]
  },
  {
   "cell_type": "markdown",
   "metadata": {},
   "source": [
    "## Make and Populate our IMPORT tables from our CSV Files"
   ]
  },
  {
   "cell_type": "code",
   "execution_count": 42,
   "metadata": {},
   "outputs": [
    {
     "name": "stdout",
     "output_type": "stream",
     "text": [
      " * sqlite:///CourseData.db\n",
      "Done.\n"
     ]
    },
    {
     "data": {
      "text/html": [
       "<table>\n",
       "    <tr>\n",
       "        <th>EFFECTIVETERM</th>\n",
       "        <th>YEAR</th>\n",
       "        <th>SEMESTER</th>\n",
       "    </tr>\n",
       "    <tr>\n",
       "        <td>2014-2015</td>\n",
       "        <td>2014</td>\n",
       "        <td>Fall</td>\n",
       "    </tr>\n",
       "    <tr>\n",
       "        <td>2014-2015</td>\n",
       "        <td>2015</td>\n",
       "        <td>Winter</td>\n",
       "    </tr>\n",
       "    <tr>\n",
       "        <td>2014-2015</td>\n",
       "        <td>2015</td>\n",
       "        <td>Spring</td>\n",
       "    </tr>\n",
       "    <tr>\n",
       "        <td>2014-2015</td>\n",
       "        <td>2015</td>\n",
       "        <td>Summer</td>\n",
       "    </tr>\n",
       "    <tr>\n",
       "        <td>2015-2016</td>\n",
       "        <td>2015</td>\n",
       "        <td>Fall</td>\n",
       "    </tr>\n",
       "    <tr>\n",
       "        <td>2015-2016</td>\n",
       "        <td>2016</td>\n",
       "        <td>Winter</td>\n",
       "    </tr>\n",
       "    <tr>\n",
       "        <td>2015-2016</td>\n",
       "        <td>2016</td>\n",
       "        <td>Spring</td>\n",
       "    </tr>\n",
       "    <tr>\n",
       "        <td>2015-2016</td>\n",
       "        <td>2016</td>\n",
       "        <td>Summer</td>\n",
       "    </tr>\n",
       "    <tr>\n",
       "        <td>2016-2017</td>\n",
       "        <td>2016</td>\n",
       "        <td>Fall</td>\n",
       "    </tr>\n",
       "    <tr>\n",
       "        <td>2016-2017</td>\n",
       "        <td>2017</td>\n",
       "        <td>Winter</td>\n",
       "    </tr>\n",
       "    <tr>\n",
       "        <td>2016-2017</td>\n",
       "        <td>2017</td>\n",
       "        <td>Spring</td>\n",
       "    </tr>\n",
       "    <tr>\n",
       "        <td>2016-2017</td>\n",
       "        <td>2017</td>\n",
       "        <td>SpringBreak</td>\n",
       "    </tr>\n",
       "    <tr>\n",
       "        <td>2016-2017</td>\n",
       "        <td>2017</td>\n",
       "        <td>Summer</td>\n",
       "    </tr>\n",
       "    <tr>\n",
       "        <td>2017-2018</td>\n",
       "        <td>2017</td>\n",
       "        <td>Fall</td>\n",
       "    </tr>\n",
       "    <tr>\n",
       "        <td>2017-2018</td>\n",
       "        <td>2018</td>\n",
       "        <td>Winter</td>\n",
       "    </tr>\n",
       "    <tr>\n",
       "        <td>2017-2018</td>\n",
       "        <td>2018</td>\n",
       "        <td>Spring</td>\n",
       "    </tr>\n",
       "    <tr>\n",
       "        <td>2017-2018</td>\n",
       "        <td>2018</td>\n",
       "        <td>Summer</td>\n",
       "    </tr>\n",
       "    <tr>\n",
       "        <td>2018-2019</td>\n",
       "        <td>2018</td>\n",
       "        <td>Fall</td>\n",
       "    </tr>\n",
       "    <tr>\n",
       "        <td>2018-2019</td>\n",
       "        <td>2019</td>\n",
       "        <td>Winter</td>\n",
       "    </tr>\n",
       "    <tr>\n",
       "        <td>2018-2019</td>\n",
       "        <td>2019</td>\n",
       "        <td>Spring</td>\n",
       "    </tr>\n",
       "</table>"
      ],
      "text/plain": [
       "[('2014-2015', '2014', 'Fall'),\n",
       " ('2014-2015', '2015', 'Winter'),\n",
       " ('2014-2015', '2015', 'Spring'),\n",
       " ('2014-2015', '2015', 'Summer'),\n",
       " ('2015-2016', '2015', 'Fall'),\n",
       " ('2015-2016', '2016', 'Winter'),\n",
       " ('2015-2016', '2016', 'Spring'),\n",
       " ('2015-2016', '2016', 'Summer'),\n",
       " ('2016-2017', '2016', 'Fall'),\n",
       " ('2016-2017', '2017', 'Winter'),\n",
       " ('2016-2017', '2017', 'Spring'),\n",
       " ('2016-2017', '2017', 'SpringBreak'),\n",
       " ('2016-2017', '2017', 'Summer'),\n",
       " ('2017-2018', '2017', 'Fall'),\n",
       " ('2017-2018', '2018', 'Winter'),\n",
       " ('2017-2018', '2018', 'Spring'),\n",
       " ('2017-2018', '2018', 'Summer'),\n",
       " ('2018-2019', '2018', 'Fall'),\n",
       " ('2018-2019', '2019', 'Winter'),\n",
       " ('2018-2019', '2019', 'Spring')]"
      ]
     },
     "execution_count": 42,
     "metadata": {},
     "output_type": "execute_result"
    }
   ],
   "source": [
    "%%sql \n",
    "\n",
    "SELECT * FROM CATALOG_YEAR;\n"
   ]
  },
  {
   "cell_type": "code",
   "execution_count": 43,
   "metadata": {},
   "outputs": [
    {
     "name": "stdout",
     "output_type": "stream",
     "text": [
      " * sqlite:///CourseData.db\n",
      "Done.\n",
      "Done.\n",
      "Done.\n",
      "Done.\n",
      "(sqlite3.OperationalError) attempt to write a readonly database [SQL: 'CREATE TABLE IMPORT_Courses (\\n    term TEXT,\\n    crn TEXT,\\n    catalog_id TEXT,\\n    section TEXT,\\n    credits TEXT,\\n    title TEXT,\\n    meetings TEXT,\\n    timecodes TEXT,\\n    primary_instructor TEXT,\\n    cap INT,\\n    act INT, \\n    rem INT,\\n    fname TEXT,\\n    lname TEXT,\\n    semester TEXT,\\n    year TEXT\\n);'] (Background on this error at: http://sqlalche.me/e/e3q8)\n"
     ]
    }
   ],
   "source": [
    "%%sql\n",
    "\n",
    "DROP TABLE IF EXISTS IMPORT_Courses;\n",
    "DROP TABLE IF EXISTS IMPORT_Course_Meetings;\n",
    "DROP TABLE IF EXISTS IMPORT_CourseCatlog;\n",
    "DROP TABLE IF EXISTS IMPORT_Course_Catalog;\n",
    "\n",
    "CREATE TABLE IMPORT_Courses (\n",
    "    term TEXT,\n",
    "    crn TEXT,\n",
    "    catalog_id TEXT,\n",
    "    section TEXT,\n",
    "    credits TEXT,\n",
    "    title TEXT,\n",
    "    meetings TEXT,\n",
    "    timecodes TEXT,\n",
    "    primary_instructor TEXT,\n",
    "    cap INT,\n",
    "    act INT, \n",
    "    rem INT,\n",
    "    fname TEXT,\n",
    "    lname TEXT,\n",
    "    semester TEXT,\n",
    "    year TEXT\n",
    ");\n",
    "\n",
    "\n",
    "CREATE TABLE IMPORT_Course_Meetings(\n",
    "    crn TEXT,\n",
    "    location TEXT,\n",
    "    day TEXT,\n",
    "    start TEXT,\n",
    "    end TEXT,\n",
    "    term TEXT, \n",
    "    building TEXT, \n",
    "    room TEXT\n",
    ");\n",
    "\n",
    "CREATE TABLE IMPORT_Course_Catalog(\n",
    "    program_code TEXT,\n",
    "    program_name TEXT,\n",
    "    catalog_ID TEXT,\n",
    "    course_title TEXT,\n",
    "    credits TEXT,\n",
    "    prereqs TEXT,\n",
    "    coreqs TEXT,\n",
    "    fees TEXT,\n",
    "    attributes TEXT,\n",
    "    description TEXT,\n",
    "    EffectiveTerm TEXT\n",
    ");"
   ]
  },
  {
   "cell_type": "code",
   "execution_count": null,
   "metadata": {},
   "outputs": [
    {
     "name": "stderr",
     "output_type": "stream",
     "text": [
      "/opt/tljh/user/lib/python3.6/site-packages/pandas/core/frame.py:6211: FutureWarning: Sorting because non-concatenation axis is not aligned. A future version\n",
      "of pandas will change to not sort by default.\n",
      "\n",
      "To accept the future behavior, pass 'sort=False'.\n",
      "\n",
      "To retain the current behavior and silence the warning, pass 'sort=True'.\n",
      "\n",
      "  sort=sort)\n"
     ]
    }
   ],
   "source": [
    "folder_names = ['Fall2014', 'Fall2015', 'Fall2016', 'Fall2017', 'Fall2018', 'Spring2015', 'Spring2016', 'Spring2017', 'Spring2018',\n",
    "               'Spring2019', 'SpringBreak2017', 'Summer2015', 'Summer2016', 'Summer2017', 'Summer2018', 'Winter2015', 'Winter2016', \n",
    "               'Winter2017', 'Winter2018']\n",
    "\n",
    "\n",
    "for file in folder_names:\n",
    "    data = 'SourceData/' + file + '/course_meetings.csv'\n",
    "    \n",
    "    if (file == folder_names[0]):\n",
    "        df = pd.read_csv(data)\n",
    "    else:\n",
    "        df = df.append(pd.read_csv(data), ignore_index=True)\n",
    "    \n",
    "    \n",
    "    location = list(df.location)\n",
    "    building = []\n",
    "    room = []\n",
    "\n",
    "    for loc in location:\n",
    "        loc = loc.strip(\"\\n ' '\")\n",
    "        data = loc.split(' ')\n",
    "\n",
    "        length = len(data)\n",
    "\n",
    "        if length == 2:\n",
    "            building.append(data[0])\n",
    "            room.append(data[1])\n",
    "        else:\n",
    "            building.append(data[0])\n",
    "            room.append('NULL')\n",
    "\n",
    "\n",
    "    df['building'] = building\n",
    "\n",
    "    df['room'] = room\n",
    "    \n",
    "df.to_sql('IMPORT_Course_Meetings', conn, if_exists='append', index=False)"
   ]
  },
  {
   "cell_type": "code",
   "execution_count": null,
   "metadata": {},
   "outputs": [],
   "source": [
    "%%sql\n",
    "\n",
    "SELECT COUNT() FROM IMPORT_Course_Meetings;"
   ]
  },
  {
   "cell_type": "code",
   "execution_count": null,
   "metadata": {},
   "outputs": [],
   "source": [
    "folder_names = ['Fall2014', 'Fall2015', 'Fall2016', 'Fall2017', 'Fall2018', 'Spring2015', 'Spring2016', 'Spring2017', 'Spring2018',\n",
    "               'Spring2019', 'SpringBreak2017', 'Summer2015', 'Summer2016', 'Summer2017', 'Summer2018', 'Winter2015', 'Winter2016', \n",
    "               'Winter2017', 'Winter2018']\n",
    "\n",
    "\n",
    "for file in folder_names:\n",
    "    data = 'SourceData/' + file + '/courses.csv'\n",
    "    \n",
    "    if (file == folder_names[0]):\n",
    "        df = pd.read_csv(data)\n",
    "    else:\n",
    "        df = df.append(pd.read_csv(data), ignore_index=True)\n",
    "        \n",
    "        \n",
    "        \n",
    "    \n",
    "    instructor = list(df.primary_instructor)\n",
    "    lname = []\n",
    "    fname = []\n",
    "\n",
    "    for name in instructor:\n",
    "        data = name.split('  ')\n",
    "\n",
    "        length = len(data)\n",
    "\n",
    "        if length == 2:\n",
    "            fname.append(data[0])\n",
    "            lname.append(data[1])\n",
    "        else:\n",
    "            fname.append('TBA')\n",
    "            lname.append('TBA')\n",
    "\n",
    "\n",
    "    df['fname'] = fname\n",
    "\n",
    "    df['lname'] = lname\n",
    "    \n",
    "    \n",
    "    term = list(df.term)\n",
    "    semester = []\n",
    "    year = []\n",
    "    \n",
    "\n",
    "    for t in term:\n",
    "        data = t.split('2')\n",
    "        semester.append(data[0])\n",
    "        year_val = '2'+data[1]\n",
    "        year.append(year_val)\n",
    "        \n",
    "    df['semester'] = semester\n",
    "    df['year'] = year\n",
    "\n",
    "df.to_sql('IMPORT_Courses', conn, if_exists='append', index=False)"
   ]
  },
  {
   "cell_type": "code",
   "execution_count": null,
   "metadata": {},
   "outputs": [],
   "source": [
    "%%sql\n",
    "SELECT * FROM IMPORT_COURSES LIMIT 10;"
   ]
  },
  {
   "cell_type": "code",
   "execution_count": null,
   "metadata": {},
   "outputs": [],
   "source": [
    "folder_names = ['SourceData/Catalogs/CourseCatalog2017_2018.csv', 'SourceData/Catalogs/CourseCatalog2018_2019.csv']\n",
    "\n",
    "df1 = pd.read_csv(folder_names[0])\n",
    "\n",
    "df1['EffectiveTerm'] = 'NaN'\n",
    "\n",
    "df1['EffectiveTerm'] = df1['EffectiveTerm'].replace('NaN', '2017-2018')\n",
    "\n",
    "df2 = pd.read_csv(folder_names[1])\n",
    "\n",
    "df2['EffectiveTerm'] = 'NaN'\n",
    "\n",
    "df2['EffectiveTerm'] = df2['EffectiveTerm'].replace('NaN', '2018-2019')\n",
    "\n",
    "df3 = df1.append(df2, ignore_index=True)\n",
    "\n",
    "\n",
    "    \n",
    "df3.to_sql('IMPORT_Course_Catalog', conn, if_exists='append', index=False)"
   ]
  },
  {
   "cell_type": "markdown",
   "metadata": {},
   "source": [
    "## Populate the ERD Tables from Our Imported Data"
   ]
  },
  {
   "cell_type": "code",
   "execution_count": null,
   "metadata": {},
   "outputs": [],
   "source": [
    "%%sql\n",
    "INSERT INTO PROGRAMS (ProgramCode,ProgramName) \n",
    "SELECT DISTINCT program_code,program_name\n",
    "FROM IMPORT_COURSE_CATALOG;"
   ]
  },
  {
   "cell_type": "code",
   "execution_count": null,
   "metadata": {},
   "outputs": [],
   "source": [
    "%%sql\n",
    "\n",
    "SELECT * FROM PROGRAMS\n",
    "LIMIT 10;"
   ]
  },
  {
   "cell_type": "code",
   "execution_count": null,
   "metadata": {},
   "outputs": [],
   "source": [
    "%%sql\n",
    "INSERT INTO FACULTY (LName,FName)\n",
    "SELECT DISTINCT LName, FName\n",
    "FROM IMPORT_COURSES;"
   ]
  },
  {
   "cell_type": "code",
   "execution_count": null,
   "metadata": {},
   "outputs": [],
   "source": [
    "%%sql\n",
    "INSERT INTO LOCATION (Building,Room,Location) \n",
    "SELECT DISTINCT building,room,location\n",
    "FROM IMPORT_COURSE_MEETINGS;"
   ]
  },
  {
   "cell_type": "code",
   "execution_count": null,
   "metadata": {},
   "outputs": [],
   "source": [
    "%%sql\n",
    "INSERT INTO COURSE (PID,EffectiveTerm,Catalog_ID,Course_Title,Credits,Prereqs,Coreqs,Fees,Attributes,Description)\n",
    "SELECT DISTINCT PID,EffectiveTerm,Catalog_ID,Course_Title,Credits,Prereqs,Coreqs,Fees,Attributes,Description\n",
    "FROM IMPORT_COURSE_CATALOG\n",
    "    JOIN PROGRAMS ON (PROGRAMS.PROGRAMCODE=IMPORT_COURSE_CATALOG.program_code);"
   ]
  },
  {
   "cell_type": "code",
   "execution_count": null,
   "metadata": {},
   "outputs": [],
   "source": [
    "%%sql\n",
    "\n",
    "SELECT PID, Catalog_ID FROM COURSE\n",
    "LIMIT 10;"
   ]
  },
  {
   "cell_type": "code",
   "execution_count": null,
   "metadata": {},
   "outputs": [],
   "source": [
    "%%sql \n",
    "\n",
    "SELECT COUNT(credits) FROM IMPORT_Courses;"
   ]
  },
  {
   "cell_type": "code",
   "execution_count": null,
   "metadata": {},
   "outputs": [],
   "source": [
    "%%sql\n",
    "INSERT INTO COURSE_OFFERING (CID,FID,CRN,Semester,Year,Title,Catalog_ID,Term,EffectiveTerm,Meetings,Timecodes,Section,Cap,Act,Rem,lname,fname)\n",
    "SELECT DISTINCT CID,FID,CRN,Semester,Year,Title,Catalog_ID,Term,EffectiveTerm,Meetings,Timecodes,Section,Cap,Act,Rem,lname,fname\n",
    "FROM IMPORT_COURSES\n",
    "    LEFT JOIN CATALOG_YEAR USING (Semester, Year)\n",
    "    LEFT JOIN COURSE USING (EffectiveTerm, Catalog_ID)\n",
    "    JOIN FACULTY USING (lname, fname);"
   ]
  },
  {
   "cell_type": "code",
   "execution_count": null,
   "metadata": {},
   "outputs": [],
   "source": [
    "%%sql \n",
    "\n",
    "SELECT * FROM COURSE_OFFERING LIMIT 10;"
   ]
  },
  {
   "cell_type": "code",
   "execution_count": null,
   "metadata": {},
   "outputs": [],
   "source": [
    "%%sql\n",
    "\n",
    "SELECT COUNT(*) FROM LOCATION;\n"
   ]
  },
  {
   "cell_type": "code",
   "execution_count": null,
   "metadata": {},
   "outputs": [],
   "source": [
    "%%sql \n",
    "INSERT INTO CLASS_MEETINGS (COID,LID,CRN,Day,Start,End,Term)\n",
    "SELECT DISTINCT COURSE_OFFERING.COID,LOCATION.LID,COURSE_OFFERING.CRN,Day,Start,End,COURSE_OFFERING.Term\n",
    "FROM IMPORT_COURSE_MEETINGS\n",
    "    JOIN COURSE_OFFERING USING (CRN)\n",
    "    JOIN LOCATION USING (Building,Room);"
   ]
  },
  {
   "cell_type": "code",
   "execution_count": null,
   "metadata": {},
   "outputs": [],
   "source": [
    "%%sql\n",
    "DROP TABLE IMPORT_COURSE_MEETINGS;\n",
    "DROP TABLE IMPORT_COURSES;\n",
    "DROP TABLE IMPORT_COURSE_CATALOG;"
   ]
  },
  {
   "cell_type": "code",
   "execution_count": null,
   "metadata": {},
   "outputs": [],
   "source": [
    "c.close()\n",
    "del c\n",
    "conn.close()"
   ]
  },
  {
   "cell_type": "code",
   "execution_count": null,
   "metadata": {},
   "outputs": [],
   "source": []
  }
 ],
 "metadata": {
  "kernelspec": {
   "display_name": "Python 3",
   "language": "python",
   "name": "python3"
  },
  "language_info": {
   "codemirror_mode": {
    "name": "ipython",
    "version": 3
   },
   "file_extension": ".py",
   "mimetype": "text/x-python",
   "name": "python",
   "nbconvert_exporter": "python",
   "pygments_lexer": "ipython3",
   "version": "3.6.5"
  }
 },
 "nbformat": 4,
 "nbformat_minor": 2
}
