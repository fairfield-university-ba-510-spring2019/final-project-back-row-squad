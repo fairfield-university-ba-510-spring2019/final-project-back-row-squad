{
 "cells": [
  {
   "cell_type": "code",
   "execution_count": 1,
   "metadata": {},
   "outputs": [],
   "source": [
    "% load_ext sql"
   ]
  },
  {
   "cell_type": "code",
   "execution_count": 2,
   "metadata": {},
   "outputs": [
    {
     "data": {
      "text/plain": [
       "'Connected: @CourseDataWarehouse.db'"
      ]
     },
     "execution_count": 2,
     "metadata": {},
     "output_type": "execute_result"
    }
   ],
   "source": [
    "%%sql\n",
    "sqlite:///CourseDataWarehouse.db"
   ]
  },
  {
   "cell_type": "markdown",
   "metadata": {},
   "source": [
    "--Query 1: What course has Dawn Massey taught the most?"
   ]
  },
  {
   "cell_type": "code",
   "execution_count": 7,
   "metadata": {},
   "outputs": [
    {
     "name": "stdout",
     "output_type": "stream",
     "text": [
      " * sqlite:///CourseDataWarehouse.db\n",
      "Done.\n"
     ]
    },
    {
     "data": {
      "text/html": [
       "<table>\n",
       "    <tr>\n",
       "        <th>LNAME</th>\n",
       "        <th>FNAME</th>\n",
       "        <th>COUNT_OF_COURSES</th>\n",
       "        <th>DESCRIPTION</th>\n",
       "    </tr>\n",
       "</table>"
      ],
      "text/plain": [
       "[]"
      ]
     },
     "execution_count": 7,
     "metadata": {},
     "output_type": "execute_result"
    }
   ],
   "source": [
    "%%sql\n",
    "SELECT LName,FName,Count_of_Courses,Description\n",
    "FROM FACULTY_W\n",
    "    JOIN CLASS_FACTS_W USING(FID)\n",
    "    JOIN COURSE_W USING(CID)\n",
    "WHERE LName='Massey' and FName='Dawn W'\n",
    "    LIMIT 20;"
   ]
  },
  {
   "cell_type": "code",
   "execution_count": 13,
   "metadata": {},
   "outputs": [
    {
     "name": "stdout",
     "output_type": "stream",
     "text": [
      " * sqlite:///CourseDataWarehouse.db\n",
      "Done.\n"
     ]
    },
    {
     "data": {
      "text/html": [
       "<table>\n",
       "    <tr>\n",
       "        <th>LNAME</th>\n",
       "        <th>FNAME</th>\n",
       "        <th>COUNT_OF_COURSES</th>\n",
       "        <th>DESCRIPTION</th>\n",
       "    </tr>\n",
       "    <tr>\n",
       "        <td>Huntley</td>\n",
       "        <td>Christopher L.</td>\n",
       "        <td>36</td>\n",
       "        <td>This course offers lab experience in modern experimental methods and techniques. It involves lab investigation of fundamental concepts in modern physics including atomic, nuclear, solid-state, X-ray, acoustic, superconductivity, and quantum physics. Lab procedures emphasize hands-on work with basic experimental equipment such as vacuum systems, power supplies, electronics and instrumentation, detectors, diagnostic techniques, computer interfaces, data acquisition and control, hardware and software, etc. This lab course gives students maximum opportunity to work on their own with minimum supervision.</td>\n",
       "    </tr>\n",
       "    <tr>\n",
       "        <td>Huntley</td>\n",
       "        <td>Christopher L.</td>\n",
       "        <td>36</td>\n",
       "        <td>This course offers lab experience in modern experimental methods and techniques. It involves lab investigation of fundamental concepts in modern physics including atomic, nuclear, solid-state, X-ray, acoustic, superconductivity, and quantum physics. Lab procedures emphasize hands-on work with basic experimental equipment such as vacuum systems, power supplies, electronics and instrumentation, detectors, diagnostic techniques, computer interfaces, data acquisition and control, hardware and software, etc. This lab course gives students maximum opportunity to work on their own with minimum supervision.</td>\n",
       "    </tr>\n",
       "    <tr>\n",
       "        <td>Huntley</td>\n",
       "        <td>Christopher L.</td>\n",
       "        <td>36</td>\n",
       "        <td>This course offers lab experience in modern experimental methods and techniques. It involves lab investigation of fundamental concepts in modern physics including atomic, nuclear, solid-state, X-ray, acoustic, superconductivity, and quantum physics. Lab procedures emphasize hands-on work with basic experimental equipment such as vacuum systems, power supplies, electronics and instrumentation, detectors, diagnostic techniques, computer interfaces, data acquisition and control, hardware and software, etc. This lab course gives students maximum opportunity to work on their own with minimum supervision.</td>\n",
       "    </tr>\n",
       "    <tr>\n",
       "        <td>Huntley</td>\n",
       "        <td>Christopher L.</td>\n",
       "        <td>36</td>\n",
       "        <td>This course offers lab experience in modern experimental methods and techniques. It involves lab investigation of fundamental concepts in modern physics including atomic, nuclear, solid-state, X-ray, acoustic, superconductivity, and quantum physics. Lab procedures emphasize hands-on work with basic experimental equipment such as vacuum systems, power supplies, electronics and instrumentation, detectors, diagnostic techniques, computer interfaces, data acquisition and control, hardware and software, etc. This lab course gives students maximum opportunity to work on their own with minimum supervision.</td>\n",
       "    </tr>\n",
       "    <tr>\n",
       "        <td>Huntley</td>\n",
       "        <td>Christopher L.</td>\n",
       "        <td>36</td>\n",
       "        <td>This course offers lab experience in modern experimental methods and techniques. It involves lab investigation of fundamental concepts in modern physics including atomic, nuclear, solid-state, X-ray, acoustic, superconductivity, and quantum physics. Lab procedures emphasize hands-on work with basic experimental equipment such as vacuum systems, power supplies, electronics and instrumentation, detectors, diagnostic techniques, computer interfaces, data acquisition and control, hardware and software, etc. This lab course gives students maximum opportunity to work on their own with minimum supervision.</td>\n",
       "    </tr>\n",
       "</table>"
      ],
      "text/plain": [
       "[('Huntley', 'Christopher L.', 36, 'This course offers lab experience in modern experimental methods and techniques. It involves lab investigation of fundamental concepts in modern phys ... (308 characters truncated) ... cquisition and control, hardware and software, etc. This lab course gives students maximum opportunity to work on their own with minimum supervision.'),\n",
       " ('Huntley', 'Christopher L.', 36, 'This course offers lab experience in modern experimental methods and techniques. It involves lab investigation of fundamental concepts in modern phys ... (308 characters truncated) ... cquisition and control, hardware and software, etc. This lab course gives students maximum opportunity to work on their own with minimum supervision.'),\n",
       " ('Huntley', 'Christopher L.', 36, 'This course offers lab experience in modern experimental methods and techniques. It involves lab investigation of fundamental concepts in modern phys ... (308 characters truncated) ... cquisition and control, hardware and software, etc. This lab course gives students maximum opportunity to work on their own with minimum supervision.'),\n",
       " ('Huntley', 'Christopher L.', 36, 'This course offers lab experience in modern experimental methods and techniques. It involves lab investigation of fundamental concepts in modern phys ... (308 characters truncated) ... cquisition and control, hardware and software, etc. This lab course gives students maximum opportunity to work on their own with minimum supervision.'),\n",
       " ('Huntley', 'Christopher L.', 36, 'This course offers lab experience in modern experimental methods and techniques. It involves lab investigation of fundamental concepts in modern phys ... (308 characters truncated) ... cquisition and control, hardware and software, etc. This lab course gives students maximum opportunity to work on their own with minimum supervision.')]"
      ]
     },
     "execution_count": 13,
     "metadata": {},
     "output_type": "execute_result"
    }
   ],
   "source": [
    "%%sql\n",
    "SELECT LName,FName,Count_of_Courses,Description\n",
    "FROM FACULTY_W\n",
    "    JOIN CLASS_FACTS_W USING(FID)\n",
    "    JOIN COURSE_W USING(CID)\n",
    "WHERE LName='Huntley'\n",
    "    LIMIT 5;"
   ]
  },
  {
   "cell_type": "markdown",
   "metadata": {},
   "source": [
    "--Apparently we have an issue - we are SURE Dawn Massey has taught in the last 5 years; yet, she is not coming up in the data warehouse (Our teammate knows that she has taught AC590 Research on Contemporary Issues in Accounting the most - 10 sections of the 33 she's taught since Fall 2014). Further, results are showing Prof. Huntley as teaching a lab in QUANTUM PHYSICS!"
   ]
  },
  {
   "cell_type": "markdown",
   "metadata": {},
   "source": [
    "--Query 2: In which term did Dawn Massey teach the most students?"
   ]
  },
  {
   "cell_type": "code",
   "execution_count": 9,
   "metadata": {},
   "outputs": [
    {
     "name": "stdout",
     "output_type": "stream",
     "text": [
      " * sqlite:///CourseDataWarehouse.db\n",
      "Done.\n"
     ]
    },
    {
     "data": {
      "text/html": [
       "<table>\n",
       "    <tr>\n",
       "        <th>LNAME</th>\n",
       "        <th>FNAME</th>\n",
       "        <th>MAX_ACT</th>\n",
       "        <th>TERM</th>\n",
       "    </tr>\n",
       "</table>"
      ],
      "text/plain": [
       "[]"
      ]
     },
     "execution_count": 9,
     "metadata": {},
     "output_type": "execute_result"
    }
   ],
   "source": [
    "%%sql\n",
    "SELECT LName,FName,Max_Act,Term\n",
    "FROM FACULTY_W\n",
    "    JOIN CLASS_FACTS_W USING(FID)\n",
    "    JOIN TERM_W USING(TermID)\n",
    "WHERE LName='Massey' and FName='Dawn W'\n",
    "ORDER BY Term\n",
    ";"
   ]
  },
  {
   "cell_type": "markdown",
   "metadata": {},
   "source": [
    "--Again, we have an issue - we know Dawn Massey has taught in the last 5 years; yet she is not in the data warehouse (Spoiler alert - the answer is 73 students in Spring 2015)"
   ]
  },
  {
   "cell_type": "markdown",
   "metadata": {},
   "source": [
    "--Query 3: In which building has Massey taught the most?"
   ]
  },
  {
   "cell_type": "code",
   "execution_count": 10,
   "metadata": {},
   "outputs": [
    {
     "name": "stdout",
     "output_type": "stream",
     "text": [
      " * sqlite:///CourseDataWarehouse.db\n",
      "Done.\n"
     ]
    },
    {
     "data": {
      "text/html": [
       "<table>\n",
       "    <tr>\n",
       "        <th>LNAME</th>\n",
       "        <th>FNAME</th>\n",
       "        <th>TERM</th>\n",
       "        <th>COUNT_CLASSES_PER_BLDG</th>\n",
       "        <th>BUILDING</th>\n",
       "    </tr>\n",
       "</table>"
      ],
      "text/plain": [
       "[]"
      ]
     },
     "execution_count": 10,
     "metadata": {},
     "output_type": "execute_result"
    }
   ],
   "source": [
    "%%sql\n",
    "SELECT LName,FName,Term,Count_Classes_per_Bldg,Building\n",
    "FROM FACULTY_W\n",
    "    JOIN CLASS_FACTS_W USING(FID)\n",
    "    JOIN LOCATION_W USING(LID)\n",
    "    JOIN TERM_W USING(TermID)\n",
    "WHERE LName='Massey' and FName='Dawn W'\n",
    "ORDER BY Count_Classes_per_Bldg\n",
    ";"
   ]
  },
  {
   "cell_type": "markdown",
   "metadata": {},
   "source": [
    "--Shocking...another issue. (Spoiler alert - the answer is DSB, where Dawn has taught 27 of her 33 assigned courses since Fall 2014.)"
   ]
  },
  {
   "cell_type": "markdown",
   "metadata": {},
   "source": [
    "--Query 4: On which day has Massey taught the most courses?"
   ]
  },
  {
   "cell_type": "code",
   "execution_count": 11,
   "metadata": {},
   "outputs": [
    {
     "name": "stdout",
     "output_type": "stream",
     "text": [
      " * sqlite:///CourseDataWarehouse.db\n",
      "Done.\n"
     ]
    },
    {
     "data": {
      "text/html": [
       "<table>\n",
       "    <tr>\n",
       "        <th>LNAME</th>\n",
       "        <th>FNAME</th>\n",
       "        <th>TERM</th>\n",
       "        <th>COUNT_OF_COURSES</th>\n",
       "    </tr>\n",
       "</table>"
      ],
      "text/plain": [
       "[]"
      ]
     },
     "execution_count": 11,
     "metadata": {},
     "output_type": "execute_result"
    }
   ],
   "source": [
    "%%sql\n",
    "SELECT LName,FName,Term,Count_of_Courses\n",
    "FROM FACULTY_W\n",
    "    JOIN CLASS_FACTS_W USING(FID)\n",
    "    JOIN LOCATION_W USING(LID)\n",
    "    JOIN TERM_W USING(TermID)\n",
    "WHERE LName='Massey' and FName='Dawn W'\n",
    "ORDER BY Count_of_Courses\n",
    ";"
   ]
  },
  {
   "cell_type": "markdown",
   "metadata": {},
   "source": [
    "--And, still, Dawn Massey is not in our Data Warehouse. The answer: It's a tie! Tuesday and Wednesday with 9 classes meeting on each day."
   ]
  },
  {
   "cell_type": "markdown",
   "metadata": {},
   "source": [
    "--Conclusion: We end where we began...with Sisyphus, this time using a quote from Albert Camus' The Myth of Sisyphus and other essays: “There is no longer a single idea explaining everything, but an infinite number of essences giving a meaning to an infinite number of objects. The world comes to a stop, but also lights up.” "
   ]
  },
  {
   "cell_type": "code",
   "execution_count": null,
   "metadata": {},
   "outputs": [],
   "source": []
  }
 ],
 "metadata": {
  "kernelspec": {
   "display_name": "Python 3",
   "language": "python",
   "name": "python3"
  },
  "language_info": {
   "codemirror_mode": {
    "name": "ipython",
    "version": 3
   },
   "file_extension": ".py",
   "mimetype": "text/x-python",
   "name": "python",
   "nbconvert_exporter": "python",
   "pygments_lexer": "ipython3",
   "version": "3.6.5"
  }
 },
 "nbformat": 4,
 "nbformat_minor": 2
}
